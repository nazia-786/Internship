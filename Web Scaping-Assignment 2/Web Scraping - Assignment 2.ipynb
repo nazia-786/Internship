{
 "cells": [
  {
   "cell_type": "code",
   "execution_count": 1,
   "id": "fb29f0ca",
   "metadata": {},
   "outputs": [
    {
     "name": "stdout",
     "output_type": "stream",
     "text": [
      "Collecting selenium\n",
      "  Downloading selenium-4.1.0-py3-none-any.whl (958 kB)\n",
      "Collecting trio-websocket~=0.9\n",
      "  Downloading trio_websocket-0.9.2-py3-none-any.whl (16 kB)\n",
      "Collecting trio~=0.17\n",
      "  Downloading trio-0.19.0-py3-none-any.whl (356 kB)\n",
      "Requirement already satisfied: urllib3[secure]~=1.26 in c:\\users\\91964\\anaconda3\\lib\\site-packages (from selenium) (1.26.4)\n",
      "Requirement already satisfied: attrs>=19.2.0 in c:\\users\\91964\\anaconda3\\lib\\site-packages (from trio~=0.17->selenium) (20.3.0)\n",
      "Requirement already satisfied: idna in c:\\users\\91964\\anaconda3\\lib\\site-packages (from trio~=0.17->selenium) (2.10)\n",
      "Requirement already satisfied: async-generator>=1.9 in c:\\users\\91964\\anaconda3\\lib\\site-packages (from trio~=0.17->selenium) (1.10)\n",
      "Collecting outcome\n",
      "  Downloading outcome-1.1.0-py2.py3-none-any.whl (9.7 kB)\n",
      "Requirement already satisfied: sniffio in c:\\users\\91964\\anaconda3\\lib\\site-packages (from trio~=0.17->selenium) (1.2.0)\n",
      "Requirement already satisfied: cffi>=1.14 in c:\\users\\91964\\anaconda3\\lib\\site-packages (from trio~=0.17->selenium) (1.14.5)\n",
      "Requirement already satisfied: sortedcontainers in c:\\users\\91964\\anaconda3\\lib\\site-packages (from trio~=0.17->selenium) (2.3.0)\n",
      "Requirement already satisfied: pycparser in c:\\users\\91964\\anaconda3\\lib\\site-packages (from cffi>=1.14->trio~=0.17->selenium) (2.20)\n",
      "Collecting wsproto>=0.14\n",
      "  Downloading wsproto-1.0.0-py3-none-any.whl (24 kB)\n",
      "Requirement already satisfied: certifi in c:\\users\\91964\\anaconda3\\lib\\site-packages (from urllib3[secure]~=1.26->selenium) (2020.12.5)\n",
      "Requirement already satisfied: cryptography>=1.3.4 in c:\\users\\91964\\anaconda3\\lib\\site-packages (from urllib3[secure]~=1.26->selenium) (3.4.7)\n",
      "Requirement already satisfied: pyOpenSSL>=0.14 in c:\\users\\91964\\anaconda3\\lib\\site-packages (from urllib3[secure]~=1.26->selenium) (20.0.1)\n",
      "Requirement already satisfied: six>=1.5.2 in c:\\users\\91964\\anaconda3\\lib\\site-packages (from pyOpenSSL>=0.14->urllib3[secure]~=1.26->selenium) (1.15.0)\n",
      "Collecting h11<1,>=0.9.0\n",
      "  Downloading h11-0.12.0-py3-none-any.whl (54 kB)\n",
      "Installing collected packages: outcome, h11, wsproto, trio, trio-websocket, selenium\n",
      "Successfully installed h11-0.12.0 outcome-1.1.0 selenium-4.1.0 trio-0.19.0 trio-websocket-0.9.2 wsproto-1.0.0\n"
     ]
    }
   ],
   "source": [
    "# first install selenium library\n",
    "!pip install selenium"
   ]
  },
  {
   "cell_type": "markdown",
   "id": "6e93f04f",
   "metadata": {},
   "source": [
    "# Q1:"
   ]
  },
  {
   "cell_type": "code",
   "execution_count": 2,
   "id": "b4e2b982",
   "metadata": {},
   "outputs": [],
   "source": [
    "# import libraries\n",
    "import selenium\n",
    "from selenium import webdriver\n",
    "import pandas as pd\n",
    "import warnings\n",
    "warnings.filterwarnings('ignore')"
   ]
  },
  {
   "cell_type": "code",
   "execution_count": 2,
   "id": "3bfce2d7",
   "metadata": {},
   "outputs": [],
   "source": [
    "#lets first connect to webdriver\n",
    "driver=webdriver.Chrome(r'C:\\Users\\91964\\Desktop\\nazia\\chromedriver_win32\\chromedriver.exe')"
   ]
  },
  {
   "cell_type": "code",
   "execution_count": 3,
   "id": "f786afac",
   "metadata": {},
   "outputs": [],
   "source": [
    "url='https://www.naukri.com'\n",
    "driver.get(url)"
   ]
  },
  {
   "cell_type": "code",
   "execution_count": 4,
   "id": "209deb4a",
   "metadata": {},
   "outputs": [],
   "source": [
    "# finding web element for search job bar using id\n",
    "search_job=driver.find_element_by_id(\"qsb-keyword-sugg\" )"
   ]
  },
  {
   "cell_type": "code",
   "execution_count": 5,
   "id": "92c874bf",
   "metadata": {},
   "outputs": [],
   "source": [
    "search_job.send_keys('Data Analyst')"
   ]
  },
  {
   "cell_type": "code",
   "execution_count": 6,
   "id": "60beff28",
   "metadata": {},
   "outputs": [],
   "source": [
    "search_locn=driver.find_element_by_xpath('/html/body/div[1]/div[3]/div[2]/section/div/form/div[2]/div/div/div/div[1]/div[2]/input')"
   ]
  },
  {
   "cell_type": "code",
   "execution_count": 7,
   "id": "c00b11ae",
   "metadata": {},
   "outputs": [],
   "source": [
    "search_locn.send_keys('Bangalore')"
   ]
  },
  {
   "cell_type": "code",
   "execution_count": 8,
   "id": "7a85dd96",
   "metadata": {},
   "outputs": [],
   "source": [
    "search_btn=driver.find_element_by_xpath(\"/html/body/div[1]/div[3]/div[2]/section/div/form/div[3]/button\")"
   ]
  },
  {
   "cell_type": "code",
   "execution_count": 9,
   "id": "4aa0648d",
   "metadata": {},
   "outputs": [],
   "source": [
    "search_btn.click()"
   ]
  },
  {
   "cell_type": "code",
   "execution_count": 10,
   "id": "5322d4bc",
   "metadata": {
    "scrolled": true
   },
   "outputs": [],
   "source": [
    "# extracting job title\n",
    "title_tags=driver.find_elements_by_xpath('//a[@class=\"title fw500 ellipsis\"]')"
   ]
  },
  {
   "cell_type": "code",
   "execution_count": 12,
   "id": "f96d8693",
   "metadata": {},
   "outputs": [],
   "source": [
    "job_title=[]\n",
    "for i in title_tags:\n",
    "    job_title.append(i.text)\n",
    "\n",
    "job_title=job_title[0:11]"
   ]
  },
  {
   "cell_type": "code",
   "execution_count": 20,
   "id": "d94793ff",
   "metadata": {},
   "outputs": [],
   "source": [
    "# extracting job location\n",
    "job_lcn=driver.find_elements_by_xpath('//li[@class=\"fleft grey-text br2 placeHolderLi location\"]')"
   ]
  },
  {
   "cell_type": "code",
   "execution_count": 22,
   "id": "873af033",
   "metadata": {},
   "outputs": [],
   "source": [
    "location=[]\n",
    "for i in job_lcn:\n",
    "    location.append(i.text)\n",
    "\n",
    "location=location[0:11]"
   ]
  },
  {
   "cell_type": "code",
   "execution_count": 23,
   "id": "cb7d61ed",
   "metadata": {},
   "outputs": [],
   "source": [
    "# extracting company name\n",
    "company_tags=driver.find_elements_by_xpath('//a[@class=\"subTitle ellipsis fleft\"]')"
   ]
  },
  {
   "cell_type": "code",
   "execution_count": 25,
   "id": "a3096d6f",
   "metadata": {},
   "outputs": [],
   "source": [
    "company=[]\n",
    "for i in company_tags:\n",
    "    company.append(i.text)\n",
    "    \n",
    "company=company[0:11]"
   ]
  },
  {
   "cell_type": "code",
   "execution_count": 30,
   "id": "84b56da1",
   "metadata": {},
   "outputs": [],
   "source": [
    "# extracting Experience\n",
    "exp_tag=driver.find_elements_by_xpath('//li[@class=\"fleft grey-text br2 placeHolderLi experience\"]')"
   ]
  },
  {
   "cell_type": "code",
   "execution_count": 32,
   "id": "78b446c5",
   "metadata": {},
   "outputs": [],
   "source": [
    "exp=[]\n",
    "for i in exp_tag:\n",
    "    exp.append(i.text)\n",
    "exp=exp[0:11]"
   ]
  },
  {
   "cell_type": "code",
   "execution_count": 33,
   "id": "9cd5a160",
   "metadata": {},
   "outputs": [
    {
     "data": {
      "text/plain": [
       "(11, 11, 11, 11)"
      ]
     },
     "execution_count": 33,
     "metadata": {},
     "output_type": "execute_result"
    }
   ],
   "source": [
    "len(job_title),len(location),len(company),len(exp)"
   ]
  },
  {
   "cell_type": "code",
   "execution_count": 34,
   "id": "acf20733",
   "metadata": {},
   "outputs": [],
   "source": [
    "#Make data frame of scraped data\n",
    "JOB=pd.DataFrame({'Title':job_title,\n",
    "                  'Location':location,\n",
    "                  'Company':company,\n",
    "                  'Exp': exp\n",
    "                 })"
   ]
  },
  {
   "cell_type": "code",
   "execution_count": 35,
   "id": "823c6a4f",
   "metadata": {},
   "outputs": [
    {
     "data": {
      "text/html": [
       "<div>\n",
       "<style scoped>\n",
       "    .dataframe tbody tr th:only-of-type {\n",
       "        vertical-align: middle;\n",
       "    }\n",
       "\n",
       "    .dataframe tbody tr th {\n",
       "        vertical-align: top;\n",
       "    }\n",
       "\n",
       "    .dataframe thead th {\n",
       "        text-align: right;\n",
       "    }\n",
       "</style>\n",
       "<table border=\"1\" class=\"dataframe\">\n",
       "  <thead>\n",
       "    <tr style=\"text-align: right;\">\n",
       "      <th></th>\n",
       "      <th>Title</th>\n",
       "      <th>Location</th>\n",
       "      <th>Company</th>\n",
       "      <th>Exp</th>\n",
       "    </tr>\n",
       "  </thead>\n",
       "  <tbody>\n",
       "    <tr>\n",
       "      <th>0</th>\n",
       "      <td>Lead - Data Analyst / Scientist</td>\n",
       "      <td>Bangalore/Bengaluru</td>\n",
       "      <td>Axim Technologies</td>\n",
       "      <td>12-14 Yrs</td>\n",
       "    </tr>\n",
       "    <tr>\n",
       "      <th>1</th>\n",
       "      <td>Senior Data Analyst</td>\n",
       "      <td>Bangalore/Bengaluru</td>\n",
       "      <td>Schneider Electric</td>\n",
       "      <td>0-2 Yrs</td>\n",
       "    </tr>\n",
       "    <tr>\n",
       "      <th>2</th>\n",
       "      <td>Data Analyst</td>\n",
       "      <td>Bangalore/Bengaluru</td>\n",
       "      <td>Snaphunt</td>\n",
       "      <td>0-2 Yrs</td>\n",
       "    </tr>\n",
       "    <tr>\n",
       "      <th>3</th>\n",
       "      <td>BUSINESS ANALYST -DATA SCIENCE-CONSUMER</td>\n",
       "      <td>Bangalore/Bengaluru</td>\n",
       "      <td>BRIDGEi2i Analytics Solutions Private Limited</td>\n",
       "      <td>0-2 Yrs</td>\n",
       "    </tr>\n",
       "    <tr>\n",
       "      <th>4</th>\n",
       "      <td>Data Analyst</td>\n",
       "      <td>Bangalore/Bengaluru</td>\n",
       "      <td>Jeeva Organic</td>\n",
       "      <td>3-8 Yrs</td>\n",
       "    </tr>\n",
       "    <tr>\n",
       "      <th>5</th>\n",
       "      <td>Senior Data Analyst - KPO</td>\n",
       "      <td>Gurgaon/Gurugram, Bangalore/Bengaluru</td>\n",
       "      <td>Huquo Consulting Pvt. Ltd</td>\n",
       "      <td>7-12 Yrs</td>\n",
       "    </tr>\n",
       "    <tr>\n",
       "      <th>6</th>\n",
       "      <td>Senior Data Analyst - Supporting Audits</td>\n",
       "      <td>Bangalore/Bengaluru</td>\n",
       "      <td>Visa</td>\n",
       "      <td>5-8 Yrs</td>\n",
       "    </tr>\n",
       "    <tr>\n",
       "      <th>7</th>\n",
       "      <td>Data Analyst</td>\n",
       "      <td>Bengaluru/Bangalore</td>\n",
       "      <td>Flipkart</td>\n",
       "      <td>1-2 Yrs</td>\n",
       "    </tr>\n",
       "    <tr>\n",
       "      <th>8</th>\n",
       "      <td>Senior Data Analyst</td>\n",
       "      <td>Bangalore/Bengaluru</td>\n",
       "      <td>Glance</td>\n",
       "      <td>1-6 Yrs</td>\n",
       "    </tr>\n",
       "    <tr>\n",
       "      <th>9</th>\n",
       "      <td>Senior Data Analyst</td>\n",
       "      <td>Bangalore/Bengaluru</td>\n",
       "      <td>Glance IT Solution</td>\n",
       "      <td>1-6 Yrs</td>\n",
       "    </tr>\n",
       "    <tr>\n",
       "      <th>10</th>\n",
       "      <td>Senior Data Analyst</td>\n",
       "      <td>Remote</td>\n",
       "      <td>Arcworth Strategy LLP</td>\n",
       "      <td>2-4 Yrs</td>\n",
       "    </tr>\n",
       "  </tbody>\n",
       "</table>\n",
       "</div>"
      ],
      "text/plain": [
       "                                      Title  \\\n",
       "0           Lead - Data Analyst / Scientist   \n",
       "1                       Senior Data Analyst   \n",
       "2                              Data Analyst   \n",
       "3   BUSINESS ANALYST -DATA SCIENCE-CONSUMER   \n",
       "4                              Data Analyst   \n",
       "5                 Senior Data Analyst - KPO   \n",
       "6   Senior Data Analyst - Supporting Audits   \n",
       "7                              Data Analyst   \n",
       "8                       Senior Data Analyst   \n",
       "9                       Senior Data Analyst   \n",
       "10                      Senior Data Analyst   \n",
       "\n",
       "                                 Location  \\\n",
       "0                     Bangalore/Bengaluru   \n",
       "1                     Bangalore/Bengaluru   \n",
       "2                     Bangalore/Bengaluru   \n",
       "3                     Bangalore/Bengaluru   \n",
       "4                     Bangalore/Bengaluru   \n",
       "5   Gurgaon/Gurugram, Bangalore/Bengaluru   \n",
       "6                     Bangalore/Bengaluru   \n",
       "7                     Bengaluru/Bangalore   \n",
       "8                     Bangalore/Bengaluru   \n",
       "9                     Bangalore/Bengaluru   \n",
       "10                                 Remote   \n",
       "\n",
       "                                          Company        Exp  \n",
       "0                               Axim Technologies  12-14 Yrs  \n",
       "1                              Schneider Electric    0-2 Yrs  \n",
       "2                                        Snaphunt    0-2 Yrs  \n",
       "3   BRIDGEi2i Analytics Solutions Private Limited    0-2 Yrs  \n",
       "4                                   Jeeva Organic    3-8 Yrs  \n",
       "5                       Huquo Consulting Pvt. Ltd   7-12 Yrs  \n",
       "6                                            Visa    5-8 Yrs  \n",
       "7                                        Flipkart    1-2 Yrs  \n",
       "8                                          Glance    1-6 Yrs  \n",
       "9                              Glance IT Solution    1-6 Yrs  \n",
       "10                          Arcworth Strategy LLP    2-4 Yrs  "
      ]
     },
     "execution_count": 35,
     "metadata": {},
     "output_type": "execute_result"
    }
   ],
   "source": [
    "JOB"
   ]
  },
  {
   "cell_type": "markdown",
   "id": "650b8887",
   "metadata": {},
   "source": [
    "# Q2:"
   ]
  },
  {
   "cell_type": "code",
   "execution_count": 36,
   "id": "22b158bd",
   "metadata": {},
   "outputs": [],
   "source": [
    "#lets first connect to webdriver\n",
    "driver=webdriver.Chrome(r'C:\\Users\\91964\\Desktop\\nazia\\chromedriver_win32\\chromedriver.exe')"
   ]
  },
  {
   "cell_type": "code",
   "execution_count": 37,
   "id": "57216c23",
   "metadata": {},
   "outputs": [],
   "source": [
    "url='https://www.naukri.com'\n",
    "driver.get(url)"
   ]
  },
  {
   "cell_type": "code",
   "execution_count": 38,
   "id": "4642ba12",
   "metadata": {},
   "outputs": [],
   "source": [
    "search_job=driver.find_element_by_id('qsb-keyword-sugg')"
   ]
  },
  {
   "cell_type": "code",
   "execution_count": 39,
   "id": "23a09131",
   "metadata": {},
   "outputs": [],
   "source": [
    "search_job.send_keys('Data Scientist')"
   ]
  },
  {
   "cell_type": "code",
   "execution_count": 40,
   "id": "412dff02",
   "metadata": {},
   "outputs": [],
   "source": [
    "search_locn=driver.find_element_by_xpath(\"/html/body/div[1]/div[3]/div[2]/section/div/form/div[2]/div/div/div/div[1]/div[2]/input\")"
   ]
  },
  {
   "cell_type": "code",
   "execution_count": 41,
   "id": "65597345",
   "metadata": {},
   "outputs": [],
   "source": [
    "search_locn.send_keys('Bangalore')"
   ]
  },
  {
   "cell_type": "code",
   "execution_count": 42,
   "id": "8ae610f2",
   "metadata": {},
   "outputs": [],
   "source": [
    "search_btn=driver.find_element_by_xpath('/html/body/div[1]/div[3]/div[2]/section/div/form/div[3]/button')"
   ]
  },
  {
   "cell_type": "code",
   "execution_count": 43,
   "id": "1ebb645c",
   "metadata": {},
   "outputs": [],
   "source": [
    "search_btn.click()"
   ]
  },
  {
   "cell_type": "code",
   "execution_count": 45,
   "id": "907225e7",
   "metadata": {
    "scrolled": true
   },
   "outputs": [],
   "source": [
    "# extracting job title\n",
    "title_tag=driver.find_elements_by_xpath('//a[@class=\"title fw500 ellipsis\"]')"
   ]
  },
  {
   "cell_type": "code",
   "execution_count": 47,
   "id": "a04f430f",
   "metadata": {},
   "outputs": [],
   "source": [
    "job_titles=[]\n",
    "\n",
    "for i in title_tag:\n",
    "    job_titles.append(i.text)\n",
    "    \n",
    "job_titles=job_titles[0:11]"
   ]
  },
  {
   "cell_type": "code",
   "execution_count": 48,
   "id": "938fa0bb",
   "metadata": {},
   "outputs": [],
   "source": [
    "# extracting job location\n",
    "location_tag=driver.find_elements_by_xpath('//li[@class=\"fleft grey-text br2 placeHolderLi location\"]')"
   ]
  },
  {
   "cell_type": "code",
   "execution_count": 50,
   "id": "e4cb84f2",
   "metadata": {
    "scrolled": false
   },
   "outputs": [],
   "source": [
    "job_location=[]\n",
    "\n",
    "for i in location_tag:\n",
    "    job_location.append(i.text)\n",
    "job_location=job_location[0:11]"
   ]
  },
  {
   "cell_type": "code",
   "execution_count": 51,
   "id": "9f5e8cee",
   "metadata": {
    "scrolled": true
   },
   "outputs": [],
   "source": [
    "# extracting company name\n",
    "company_tag=driver.find_elements_by_xpath('//a[@class=\"subTitle ellipsis fleft\"]')"
   ]
  },
  {
   "cell_type": "code",
   "execution_count": 53,
   "id": "b9cdbc13",
   "metadata": {},
   "outputs": [],
   "source": [
    "company_name=[]\n",
    "\n",
    "for i in company_tag:\n",
    "    company_name.append(i.text)\n",
    "\n",
    "company_name=company_name[0:11]\n"
   ]
  },
  {
   "cell_type": "code",
   "execution_count": 54,
   "id": "de804d5e",
   "metadata": {},
   "outputs": [
    {
     "data": {
      "text/plain": [
       "(11, 11, 11)"
      ]
     },
     "execution_count": 54,
     "metadata": {},
     "output_type": "execute_result"
    }
   ],
   "source": [
    "len(job_titles),len(job_location),len(company_name)"
   ]
  },
  {
   "cell_type": "code",
   "execution_count": 55,
   "id": "e8dfae9c",
   "metadata": {},
   "outputs": [],
   "source": [
    "# Make data frame of scraped data\n",
    "Jobs=pd.DataFrame({'Job_title':job_titles,\n",
    "                   'Job_location':job_location,\n",
    "                   'Company_name':company_name\n",
    "                  })"
   ]
  },
  {
   "cell_type": "code",
   "execution_count": 56,
   "id": "59af1063",
   "metadata": {},
   "outputs": [
    {
     "data": {
      "text/html": [
       "<div>\n",
       "<style scoped>\n",
       "    .dataframe tbody tr th:only-of-type {\n",
       "        vertical-align: middle;\n",
       "    }\n",
       "\n",
       "    .dataframe tbody tr th {\n",
       "        vertical-align: top;\n",
       "    }\n",
       "\n",
       "    .dataframe thead th {\n",
       "        text-align: right;\n",
       "    }\n",
       "</style>\n",
       "<table border=\"1\" class=\"dataframe\">\n",
       "  <thead>\n",
       "    <tr style=\"text-align: right;\">\n",
       "      <th></th>\n",
       "      <th>Job_title</th>\n",
       "      <th>Job_location</th>\n",
       "      <th>Company_name</th>\n",
       "    </tr>\n",
       "  </thead>\n",
       "  <tbody>\n",
       "    <tr>\n",
       "      <th>0</th>\n",
       "      <td>Global Tax Automation &amp; Operations | Data Scie...</td>\n",
       "      <td>Bangalore/Bengaluru</td>\n",
       "      <td>Dell</td>\n",
       "    </tr>\n",
       "    <tr>\n",
       "      <th>1</th>\n",
       "      <td>Senior Data Scientist</td>\n",
       "      <td>Gurgaon/Gurugram, Bangalore/Bengaluru, Mumbai ...</td>\n",
       "      <td>Fractal Analytics</td>\n",
       "    </tr>\n",
       "    <tr>\n",
       "      <th>2</th>\n",
       "      <td>Lead/Senior Data Scientist (NLP)</td>\n",
       "      <td>Bangalore/Bengaluru\\n(WFH during Covid)</td>\n",
       "      <td>Samya.AI A FRACTAL Entity</td>\n",
       "    </tr>\n",
       "    <tr>\n",
       "      <th>3</th>\n",
       "      <td>Lead - Data Analyst / Scientist</td>\n",
       "      <td>Bangalore/Bengaluru</td>\n",
       "      <td>Axim Technologies</td>\n",
       "    </tr>\n",
       "    <tr>\n",
       "      <th>4</th>\n",
       "      <td>Job opening with Wipro For Data Scientist</td>\n",
       "      <td>Hyderabad/Secunderabad, Pune, Chennai, Bangalo...</td>\n",
       "      <td>Wipro</td>\n",
       "    </tr>\n",
       "    <tr>\n",
       "      <th>5</th>\n",
       "      <td>Spark ML Data Scientist</td>\n",
       "      <td>Hyderabad/Secunderabad, Pune, Bangalore/Bengal...</td>\n",
       "      <td>Wipro</td>\n",
       "    </tr>\n",
       "    <tr>\n",
       "      <th>6</th>\n",
       "      <td>Spark ML Data Scientist</td>\n",
       "      <td>Hyderabad/Secunderabad, Pune, Bangalore/Bengaluru</td>\n",
       "      <td>Wipro</td>\n",
       "    </tr>\n",
       "    <tr>\n",
       "      <th>7</th>\n",
       "      <td>Senior Data Scientist - Logistics</td>\n",
       "      <td>Bangalore/Bengaluru</td>\n",
       "      <td>Gojek Tech</td>\n",
       "    </tr>\n",
       "    <tr>\n",
       "      <th>8</th>\n",
       "      <td>Lead Data Scientist - NLP/OpenCV</td>\n",
       "      <td>Hyderabad/Secunderabad, Bangalore/Bengaluru</td>\n",
       "      <td>Codersbrain</td>\n",
       "    </tr>\n",
       "    <tr>\n",
       "      <th>9</th>\n",
       "      <td>Lead Data Scientist - Prescriptive Analytics/P...</td>\n",
       "      <td>Hyderabad/Secunderabad, Bangalore/Bengaluru</td>\n",
       "      <td>Codersbrain</td>\n",
       "    </tr>\n",
       "    <tr>\n",
       "      <th>10</th>\n",
       "      <td>Lead / Sr. Data Scientist, Bangalore</td>\n",
       "      <td>Bangalore/Bengaluru</td>\n",
       "      <td>Talent Bee Consulting Pvt. Ltd</td>\n",
       "    </tr>\n",
       "  </tbody>\n",
       "</table>\n",
       "</div>"
      ],
      "text/plain": [
       "                                            Job_title  \\\n",
       "0   Global Tax Automation & Operations | Data Scie...   \n",
       "1                               Senior Data Scientist   \n",
       "2                    Lead/Senior Data Scientist (NLP)   \n",
       "3                     Lead - Data Analyst / Scientist   \n",
       "4           Job opening with Wipro For Data Scientist   \n",
       "5                             Spark ML Data Scientist   \n",
       "6                             Spark ML Data Scientist   \n",
       "7                   Senior Data Scientist - Logistics   \n",
       "8                    Lead Data Scientist - NLP/OpenCV   \n",
       "9   Lead Data Scientist - Prescriptive Analytics/P...   \n",
       "10               Lead / Sr. Data Scientist, Bangalore   \n",
       "\n",
       "                                         Job_location  \\\n",
       "0                                 Bangalore/Bengaluru   \n",
       "1   Gurgaon/Gurugram, Bangalore/Bengaluru, Mumbai ...   \n",
       "2             Bangalore/Bengaluru\\n(WFH during Covid)   \n",
       "3                                 Bangalore/Bengaluru   \n",
       "4   Hyderabad/Secunderabad, Pune, Chennai, Bangalo...   \n",
       "5   Hyderabad/Secunderabad, Pune, Bangalore/Bengal...   \n",
       "6   Hyderabad/Secunderabad, Pune, Bangalore/Bengaluru   \n",
       "7                                 Bangalore/Bengaluru   \n",
       "8         Hyderabad/Secunderabad, Bangalore/Bengaluru   \n",
       "9         Hyderabad/Secunderabad, Bangalore/Bengaluru   \n",
       "10                                Bangalore/Bengaluru   \n",
       "\n",
       "                      Company_name  \n",
       "0                             Dell  \n",
       "1                Fractal Analytics  \n",
       "2        Samya.AI A FRACTAL Entity  \n",
       "3                Axim Technologies  \n",
       "4                            Wipro  \n",
       "5                            Wipro  \n",
       "6                            Wipro  \n",
       "7                       Gojek Tech  \n",
       "8                      Codersbrain  \n",
       "9                      Codersbrain  \n",
       "10  Talent Bee Consulting Pvt. Ltd  "
      ]
     },
     "execution_count": 56,
     "metadata": {},
     "output_type": "execute_result"
    }
   ],
   "source": [
    "Jobs"
   ]
  },
  {
   "cell_type": "markdown",
   "id": "6ebf3191",
   "metadata": {},
   "source": [
    "# Q3:"
   ]
  },
  {
   "cell_type": "code",
   "execution_count": 57,
   "id": "144c941e",
   "metadata": {},
   "outputs": [],
   "source": [
    "#lets first connect to webdriver\n",
    "driver=webdriver.Chrome(r'C:\\Users\\91964\\Desktop\\nazia\\chromedriver_win32\\chromedriver.exe')"
   ]
  },
  {
   "cell_type": "code",
   "execution_count": 58,
   "id": "caf01081",
   "metadata": {},
   "outputs": [],
   "source": [
    "url='https://www.naukri.com'\n",
    "driver.get(url)"
   ]
  },
  {
   "cell_type": "code",
   "execution_count": 59,
   "id": "f6b3329e",
   "metadata": {},
   "outputs": [],
   "source": [
    "search_job=driver.find_element_by_id('qsb-keyword-sugg')"
   ]
  },
  {
   "cell_type": "code",
   "execution_count": 60,
   "id": "43a5ae26",
   "metadata": {},
   "outputs": [],
   "source": [
    "search_job.send_keys('Data Scientist')"
   ]
  },
  {
   "cell_type": "code",
   "execution_count": 61,
   "id": "66be5283",
   "metadata": {},
   "outputs": [],
   "source": [
    "search_btn=driver.find_element_by_xpath('/html/body/div[1]/div[3]/div[2]/section/div/form/div[3]/button')"
   ]
  },
  {
   "cell_type": "code",
   "execution_count": 62,
   "id": "304d586a",
   "metadata": {},
   "outputs": [],
   "source": [
    "search_btn.click()"
   ]
  },
  {
   "cell_type": "code",
   "execution_count": 63,
   "id": "c132d9aa",
   "metadata": {},
   "outputs": [],
   "source": [
    "location_check=driver.find_element_by_xpath('/html/body/div[1]/div[3]/div[2]/section[1]/div[2]/div[3]/div[2]/div[3]/label/p/span[1]')"
   ]
  },
  {
   "cell_type": "code",
   "execution_count": 64,
   "id": "bbf0f29b",
   "metadata": {},
   "outputs": [],
   "source": [
    "location_check.click()"
   ]
  },
  {
   "cell_type": "code",
   "execution_count": 65,
   "id": "9a55d5d9",
   "metadata": {},
   "outputs": [],
   "source": [
    "salary_check=driver.find_element_by_xpath('/html/body/div[1]/div[3]/div[2]/section[1]/div[2]/div[4]/div[2]/div[2]/label/p/span[1]')"
   ]
  },
  {
   "cell_type": "code",
   "execution_count": 66,
   "id": "bc0975a7",
   "metadata": {},
   "outputs": [],
   "source": [
    "salary_check.click()"
   ]
  },
  {
   "cell_type": "code",
   "execution_count": 67,
   "id": "9825d575",
   "metadata": {},
   "outputs": [],
   "source": [
    "# extracting job title\n",
    "title=driver.find_elements_by_xpath('//a[@class=\"title fw500 ellipsis\"]')"
   ]
  },
  {
   "cell_type": "code",
   "execution_count": 69,
   "id": "357eaf5e",
   "metadata": {},
   "outputs": [],
   "source": [
    "jobtitles=[]\n",
    "\n",
    "for i in title:\n",
    "    jobtitles.append(i.text)\n",
    "\n",
    "jobtitles=jobtitles[0:11]"
   ]
  },
  {
   "cell_type": "code",
   "execution_count": 70,
   "id": "10a4ff33",
   "metadata": {},
   "outputs": [],
   "source": [
    "# extracting job location\n",
    "locn=driver.find_elements_by_xpath('//li[@class=\"fleft grey-text br2 placeHolderLi location\"]')"
   ]
  },
  {
   "cell_type": "code",
   "execution_count": 72,
   "id": "b1719227",
   "metadata": {},
   "outputs": [],
   "source": [
    "joblocn=[]\n",
    "\n",
    "for i in locn:\n",
    "    joblocn.append(i.text)\n",
    "\n",
    "joblocn=joblocn[0:11]"
   ]
  },
  {
   "cell_type": "code",
   "execution_count": 74,
   "id": "d65d2ccb",
   "metadata": {},
   "outputs": [],
   "source": [
    "# extracting company name\n",
    "companytag=driver.find_elements_by_xpath('//a[@class=\"subTitle ellipsis fleft\"]')"
   ]
  },
  {
   "cell_type": "code",
   "execution_count": 76,
   "id": "4d5050d6",
   "metadata": {},
   "outputs": [],
   "source": [
    "com_pany=[]\n",
    "\n",
    "for i in companytag:\n",
    "    com_pany.append(i.text)\n",
    "\n",
    "com_pany=com_pany[0:11]\n",
    "    "
   ]
  },
  {
   "cell_type": "code",
   "execution_count": 77,
   "id": "94da3c6f",
   "metadata": {},
   "outputs": [],
   "source": [
    "# extracting Experience\n",
    "tag_exp=driver.find_elements_by_xpath('//li[@class=\"fleft grey-text br2 placeHolderLi experience\"]')"
   ]
  },
  {
   "cell_type": "code",
   "execution_count": 81,
   "id": "d96b26d3",
   "metadata": {},
   "outputs": [],
   "source": [
    "exper_req=[]\n",
    "\n",
    "for i in tag_exp:\n",
    "    exper_req.append(i.text)\n",
    "    \n",
    "exper_req=exper_req[0:11]\n",
    "    "
   ]
  },
  {
   "cell_type": "code",
   "execution_count": 82,
   "id": "03059b4e",
   "metadata": {},
   "outputs": [
    {
     "data": {
      "text/plain": [
       "(11, 11, 11, 11)"
      ]
     },
     "execution_count": 82,
     "metadata": {},
     "output_type": "execute_result"
    }
   ],
   "source": [
    "len(jobtitles),len(joblocn),len(com_pany),len(exper_req)"
   ]
  },
  {
   "cell_type": "code",
   "execution_count": 85,
   "id": "e4375b79",
   "metadata": {},
   "outputs": [],
   "source": [
    "# Make data frame of scraped data\n",
    "Job=pd.DataFrame({'Job_title':jobtitles,\n",
    "                   'Job_location':joblocn,\n",
    "                   'Company_name':com_pany,\n",
    "                     'Exp'  :exper_req\n",
    "                  })"
   ]
  },
  {
   "cell_type": "code",
   "execution_count": 86,
   "id": "eca03bd8",
   "metadata": {
    "scrolled": true
   },
   "outputs": [
    {
     "data": {
      "text/html": [
       "<div>\n",
       "<style scoped>\n",
       "    .dataframe tbody tr th:only-of-type {\n",
       "        vertical-align: middle;\n",
       "    }\n",
       "\n",
       "    .dataframe tbody tr th {\n",
       "        vertical-align: top;\n",
       "    }\n",
       "\n",
       "    .dataframe thead th {\n",
       "        text-align: right;\n",
       "    }\n",
       "</style>\n",
       "<table border=\"1\" class=\"dataframe\">\n",
       "  <thead>\n",
       "    <tr style=\"text-align: right;\">\n",
       "      <th></th>\n",
       "      <th>Job_title</th>\n",
       "      <th>Job_location</th>\n",
       "      <th>Company_name</th>\n",
       "      <th>Exp</th>\n",
       "    </tr>\n",
       "  </thead>\n",
       "  <tbody>\n",
       "    <tr>\n",
       "      <th>0</th>\n",
       "      <td>Data Scientist | Python | Machine Learning | D...</td>\n",
       "      <td>Noida, Gurgaon/Gurugram, Delhi / NCR</td>\n",
       "      <td>Schlesinger Group</td>\n",
       "      <td>0-3 Yrs</td>\n",
       "    </tr>\n",
       "    <tr>\n",
       "      <th>1</th>\n",
       "      <td>Openings For Jr/mid/Sr level data Scientists</td>\n",
       "      <td>Kolkata, Hyderabad/Secunderabad, Pune, Ahmedab...</td>\n",
       "      <td>Pluto seven business solutions (p) limited</td>\n",
       "      <td>2-6 Yrs</td>\n",
       "    </tr>\n",
       "    <tr>\n",
       "      <th>2</th>\n",
       "      <td>Senior Data Scientist I</td>\n",
       "      <td>Gurgaon/Gurugram</td>\n",
       "      <td>Delhivery</td>\n",
       "      <td>3-7 Yrs</td>\n",
       "    </tr>\n",
       "    <tr>\n",
       "      <th>3</th>\n",
       "      <td>Data Scientist role</td>\n",
       "      <td>Noida, Hyderabad/Secunderabad, Pune, Gurgaon/G...</td>\n",
       "      <td>Mount Talent Consulting Private Limited</td>\n",
       "      <td>1-3 Yrs</td>\n",
       "    </tr>\n",
       "    <tr>\n",
       "      <th>4</th>\n",
       "      <td>Data Scientist role</td>\n",
       "      <td>Noida, Hyderabad/Secunderabad, Pune, Gurgaon/G...</td>\n",
       "      <td>Mount Talent Consulting Private Limited</td>\n",
       "      <td>1-3 Yrs</td>\n",
       "    </tr>\n",
       "    <tr>\n",
       "      <th>5</th>\n",
       "      <td>Urgent Hiring For Data Scientist</td>\n",
       "      <td>Gurgaon/Gurugram, Bangalore/Bengaluru</td>\n",
       "      <td>Mount Talent Consulting Private Limited</td>\n",
       "      <td>1-6 Yrs</td>\n",
       "    </tr>\n",
       "    <tr>\n",
       "      <th>6</th>\n",
       "      <td>Urgent Hiring For Data Scientist</td>\n",
       "      <td>Gurgaon/Gurugram, Bangalore/Bengaluru</td>\n",
       "      <td>Mount Talent Consulting Private Limited</td>\n",
       "      <td>1-6 Yrs</td>\n",
       "    </tr>\n",
       "    <tr>\n",
       "      <th>7</th>\n",
       "      <td>Data Scientist Internship</td>\n",
       "      <td>New Delhi</td>\n",
       "      <td>iHackers Inc</td>\n",
       "      <td>0-1 Yrs</td>\n",
       "    </tr>\n",
       "    <tr>\n",
       "      <th>8</th>\n",
       "      <td>Data Scientist</td>\n",
       "      <td>Noida, New Delhi, Faridabad, Gurgaon/Gurugram,...</td>\n",
       "      <td>LG</td>\n",
       "      <td>0-2 Yrs</td>\n",
       "    </tr>\n",
       "    <tr>\n",
       "      <th>9</th>\n",
       "      <td>Data Scientist</td>\n",
       "      <td>Gurgaon/Gurugram, Chennai</td>\n",
       "      <td>Teleperformance</td>\n",
       "      <td>4-9 Yrs</td>\n",
       "    </tr>\n",
       "    <tr>\n",
       "      <th>10</th>\n",
       "      <td>Data Analyst / Data Scientist / Business Analy...</td>\n",
       "      <td>Noida, New Delhi, Delhi / NCR</td>\n",
       "      <td>GABA Consultancy services</td>\n",
       "      <td>0-0 Yrs</td>\n",
       "    </tr>\n",
       "  </tbody>\n",
       "</table>\n",
       "</div>"
      ],
      "text/plain": [
       "                                            Job_title  \\\n",
       "0   Data Scientist | Python | Machine Learning | D...   \n",
       "1        Openings For Jr/mid/Sr level data Scientists   \n",
       "2                             Senior Data Scientist I   \n",
       "3                                 Data Scientist role   \n",
       "4                                 Data Scientist role   \n",
       "5                    Urgent Hiring For Data Scientist   \n",
       "6                    Urgent Hiring For Data Scientist   \n",
       "7                           Data Scientist Internship   \n",
       "8                                      Data Scientist   \n",
       "9                                      Data Scientist   \n",
       "10  Data Analyst / Data Scientist / Business Analy...   \n",
       "\n",
       "                                         Job_location  \\\n",
       "0                Noida, Gurgaon/Gurugram, Delhi / NCR   \n",
       "1   Kolkata, Hyderabad/Secunderabad, Pune, Ahmedab...   \n",
       "2                                    Gurgaon/Gurugram   \n",
       "3   Noida, Hyderabad/Secunderabad, Pune, Gurgaon/G...   \n",
       "4   Noida, Hyderabad/Secunderabad, Pune, Gurgaon/G...   \n",
       "5               Gurgaon/Gurugram, Bangalore/Bengaluru   \n",
       "6               Gurgaon/Gurugram, Bangalore/Bengaluru   \n",
       "7                                           New Delhi   \n",
       "8   Noida, New Delhi, Faridabad, Gurgaon/Gurugram,...   \n",
       "9                           Gurgaon/Gurugram, Chennai   \n",
       "10                      Noida, New Delhi, Delhi / NCR   \n",
       "\n",
       "                                  Company_name      Exp  \n",
       "0                            Schlesinger Group  0-3 Yrs  \n",
       "1   Pluto seven business solutions (p) limited  2-6 Yrs  \n",
       "2                                    Delhivery  3-7 Yrs  \n",
       "3      Mount Talent Consulting Private Limited  1-3 Yrs  \n",
       "4      Mount Talent Consulting Private Limited  1-3 Yrs  \n",
       "5      Mount Talent Consulting Private Limited  1-6 Yrs  \n",
       "6      Mount Talent Consulting Private Limited  1-6 Yrs  \n",
       "7                                 iHackers Inc  0-1 Yrs  \n",
       "8                                           LG  0-2 Yrs  \n",
       "9                              Teleperformance  4-9 Yrs  \n",
       "10                   GABA Consultancy services  0-0 Yrs  "
      ]
     },
     "execution_count": 86,
     "metadata": {},
     "output_type": "execute_result"
    }
   ],
   "source": [
    "Job"
   ]
  },
  {
   "cell_type": "raw",
   "id": "84c4f21c",
   "metadata": {},
   "source": []
  },
  {
   "cell_type": "markdown",
   "id": "b15232e2",
   "metadata": {},
   "source": [
    "# Q4: "
   ]
  },
  {
   "cell_type": "code",
   "execution_count": 2,
   "id": "c111fee8",
   "metadata": {},
   "outputs": [],
   "source": [
    "#lets first connect to webdriver\n",
    "driver=webdriver.Chrome(r'C:\\Users\\91964\\Desktop\\nazia\\chromedriver_win32\\chromedriver.exe')"
   ]
  },
  {
   "cell_type": "code",
   "execution_count": 3,
   "id": "ce9c40b2",
   "metadata": {},
   "outputs": [],
   "source": [
    "url='https://www.flipkart.com'\n",
    "driver.get(url)"
   ]
  },
  {
   "cell_type": "code",
   "execution_count": 4,
   "id": "110ffdd9",
   "metadata": {
    "scrolled": true
   },
   "outputs": [],
   "source": [
    "search_item=driver.find_element_by_xpath(\"/html/body/div[1]/div/div[1]/div[1]/div[2]/div[2]/form/div/div/input\")"
   ]
  },
  {
   "cell_type": "code",
   "execution_count": 5,
   "id": "ef501925",
   "metadata": {},
   "outputs": [],
   "source": [
    "search_item.send_keys('sunglasses')"
   ]
  },
  {
   "cell_type": "code",
   "execution_count": 6,
   "id": "7652897a",
   "metadata": {
    "scrolled": true
   },
   "outputs": [],
   "source": [
    "search_btn=driver.find_element_by_xpath('//button[@class=\"L0Z3Pu\"]')"
   ]
  },
  {
   "cell_type": "code",
   "execution_count": 8,
   "id": "c1ceb5fa",
   "metadata": {},
   "outputs": [],
   "source": [
    "search_btn.click()"
   ]
  },
  {
   "cell_type": "code",
   "execution_count": 11,
   "id": "9d5a1c87",
   "metadata": {},
   "outputs": [],
   "source": [
    "# extracting product brand\n",
    "brand=driver.find_elements_by_xpath('//div[@class=\"_2WkVRV\"]')"
   ]
  },
  {
   "cell_type": "raw",
   "id": "ee68194f",
   "metadata": {},
   "source": [
    "brands=[]\n",
    "for i in range (0,3):\n",
    "    print('page',i+1)\n",
    "    brand=driver.find_elements_by_class_name('_2WkVRV\"]')\n",
    "\n",
    "    for j in brand:\n",
    "        brands.append(j.text)\n",
    "    nxt_button=driver.find_elements_by_xpath(\"//a[@class='_1LKTO3']\")   \n",
    "    nxt_button.click()\n",
    "brands"
   ]
  },
  {
   "cell_type": "code",
   "execution_count": 13,
   "id": "983bc3b9",
   "metadata": {},
   "outputs": [
    {
     "data": {
      "text/plain": [
       "100"
      ]
     },
     "execution_count": 13,
     "metadata": {},
     "output_type": "execute_result"
    }
   ],
   "source": [
    "# extracting Brand Name\n",
    "brand=[]\n",
    "for page in range(3):\n",
    "\n",
    "    brands=driver.find_elements_by_class_name('_2WkVRV')\n",
    "    for i in brands:\n",
    "        brand.append(i.text)\n",
    "\n",
    "    nxt_button=driver.find_elements_by_xpath(\"//a[@class='_1LKTO3']\")\n",
    "    try:\n",
    "        driver.get(nxt_button[1].get_attribute('href'))\n",
    "    except:\n",
    "        driver.get(nxt_button[0].get_attribute('href'))\n",
    "        \n",
    "brand=brand[0:100]\n",
    "len(brand)"
   ]
  },
  {
   "cell_type": "code",
   "execution_count": 16,
   "id": "7367e09b",
   "metadata": {},
   "outputs": [
    {
     "data": {
      "text/plain": [
       "100"
      ]
     },
     "execution_count": 16,
     "metadata": {},
     "output_type": "execute_result"
    }
   ],
   "source": [
    "# extracting product description\n",
    "product_desc=[]\n",
    "\n",
    "for page in range(3):\n",
    "    product=driver.find_elements_by_xpath('//a[@class=\"IRpwTa\"]')\n",
    "    for j in product:\n",
    "        product_desc.append(j.text)\n",
    "    nxt_button=driver.find_elements_by_xpath(\"//a[@class='_1LKTO3']\")\n",
    "    try:\n",
    "        driver.get(nxt_button[1].get_attribute('href'))\n",
    "    except:\n",
    "        driver.get(nxt_button[0].get_attribute('href'))\n",
    "product_desc=product_desc[0:100]        \n",
    "len(product_desc)"
   ]
  },
  {
   "cell_type": "code",
   "execution_count": 20,
   "id": "3f02e8a7",
   "metadata": {},
   "outputs": [
    {
     "data": {
      "text/plain": [
       "100"
      ]
     },
     "execution_count": 20,
     "metadata": {},
     "output_type": "execute_result"
    }
   ],
   "source": [
    "# extracting price\n",
    "price=[]\n",
    "for i in range (3):\n",
    "    price_tag=driver.find_elements_by_xpath('//div[@class=\"_30jeq3\"]')\n",
    "    for j in price_tag:\n",
    "        price.append(j.text)\n",
    "    nxt_button=driver.find_elements_by_xpath(\"//a[@class='_1LKTO3']\")\n",
    "    try:\n",
    "        driver.get(nxt_button[1].get_attribute('href'))\n",
    "    except:\n",
    "        driver.get(nxt_button[0].get_attribute('href'))\n",
    "price=price[0:100]\n",
    "len(price)"
   ]
  },
  {
   "cell_type": "code",
   "execution_count": 21,
   "id": "055e91df",
   "metadata": {},
   "outputs": [
    {
     "data": {
      "text/plain": [
       "100"
      ]
     },
     "execution_count": 21,
     "metadata": {},
     "output_type": "execute_result"
    }
   ],
   "source": [
    "discount=[]\n",
    "for i in range(3):\n",
    "    discount_tag=driver.find_elements_by_xpath('//div[@class=\"_3Ay6Sb\"]')\n",
    "    for j in discount_tag:\n",
    "        discount.append(j.text)\n",
    "    nxt_button=driver.find_elements_by_xpath(\"//a[@class='_1LKTO3']\")\n",
    "    try:\n",
    "        driver.get(nxt_button[1].get_attribute('href'))\n",
    "    except:\n",
    "        driver.get(nxt_button[0].get_attribute('href'))\n",
    "discount=discount[0:100]\n",
    "len(discount)"
   ]
  },
  {
   "cell_type": "code",
   "execution_count": 25,
   "id": "472baf71",
   "metadata": {},
   "outputs": [],
   "source": [
    "sunglasses=pd.DataFrame({'Brand':brand,\n",
    "                         'Product_desc':product_desc,\n",
    "                         'Price':price,\n",
    "                         'Discount':discount})"
   ]
  },
  {
   "cell_type": "code",
   "execution_count": 26,
   "id": "66ec73c5",
   "metadata": {},
   "outputs": [
    {
     "data": {
      "text/html": [
       "<div>\n",
       "<style scoped>\n",
       "    .dataframe tbody tr th:only-of-type {\n",
       "        vertical-align: middle;\n",
       "    }\n",
       "\n",
       "    .dataframe tbody tr th {\n",
       "        vertical-align: top;\n",
       "    }\n",
       "\n",
       "    .dataframe thead th {\n",
       "        text-align: right;\n",
       "    }\n",
       "</style>\n",
       "<table border=\"1\" class=\"dataframe\">\n",
       "  <thead>\n",
       "    <tr style=\"text-align: right;\">\n",
       "      <th></th>\n",
       "      <th>Brand</th>\n",
       "      <th>Product_desc</th>\n",
       "      <th>Price</th>\n",
       "      <th>Discount</th>\n",
       "    </tr>\n",
       "  </thead>\n",
       "  <tbody>\n",
       "    <tr>\n",
       "      <th>0</th>\n",
       "      <td>Cruze</td>\n",
       "      <td>UV Protection Aviator Sunglasses (Free Size)</td>\n",
       "      <td>₹739</td>\n",
       "      <td>69% off</td>\n",
       "    </tr>\n",
       "    <tr>\n",
       "      <th>1</th>\n",
       "      <td>elegante</td>\n",
       "      <td>UV Protection Round Sunglasses (Free Size)</td>\n",
       "      <td>₹664</td>\n",
       "      <td>76% off</td>\n",
       "    </tr>\n",
       "    <tr>\n",
       "      <th>2</th>\n",
       "      <td>IDEE</td>\n",
       "      <td>Mirrored, UV Protection Wayfarer Sunglasses (18)</td>\n",
       "      <td>₹261</td>\n",
       "      <td>77% off</td>\n",
       "    </tr>\n",
       "    <tr>\n",
       "      <th>3</th>\n",
       "      <td>VINCENT CHASE</td>\n",
       "      <td>by Lenskart UV Protection Aviator Sunglasses (53)</td>\n",
       "      <td>₹999</td>\n",
       "      <td>75% off</td>\n",
       "    </tr>\n",
       "    <tr>\n",
       "      <th>4</th>\n",
       "      <td>Fastrack</td>\n",
       "      <td>UV Protection Aviator Sunglasses (58)</td>\n",
       "      <td>₹2,439</td>\n",
       "      <td>74% off</td>\n",
       "    </tr>\n",
       "    <tr>\n",
       "      <th>...</th>\n",
       "      <td>...</td>\n",
       "      <td>...</td>\n",
       "      <td>...</td>\n",
       "      <td>...</td>\n",
       "    </tr>\n",
       "    <tr>\n",
       "      <th>95</th>\n",
       "      <td>AISLIN</td>\n",
       "      <td>by Lenskart Polarized, UV Protection Aviator S...</td>\n",
       "      <td>₹426</td>\n",
       "      <td>72% off</td>\n",
       "    </tr>\n",
       "    <tr>\n",
       "      <th>96</th>\n",
       "      <td>Rich Club</td>\n",
       "      <td>UV Protection Round Sunglasses (Free Size)</td>\n",
       "      <td>₹426</td>\n",
       "      <td>80% off</td>\n",
       "    </tr>\n",
       "    <tr>\n",
       "      <th>97</th>\n",
       "      <td>New Specs</td>\n",
       "      <td>UV Protection Round Sunglasses (50)</td>\n",
       "      <td>₹206</td>\n",
       "      <td>81% off</td>\n",
       "    </tr>\n",
       "    <tr>\n",
       "      <th>98</th>\n",
       "      <td>elegante</td>\n",
       "      <td>Mirrored, Gradient, UV Protection, Night Visio...</td>\n",
       "      <td>₹699</td>\n",
       "      <td>60% off</td>\n",
       "    </tr>\n",
       "    <tr>\n",
       "      <th>99</th>\n",
       "      <td>NuVew</td>\n",
       "      <td>UV Protection, Gradient Retro Square Sunglasse...</td>\n",
       "      <td>₹999</td>\n",
       "      <td>73% off</td>\n",
       "    </tr>\n",
       "  </tbody>\n",
       "</table>\n",
       "<p>100 rows × 4 columns</p>\n",
       "</div>"
      ],
      "text/plain": [
       "            Brand                                       Product_desc   Price  \\\n",
       "0           Cruze       UV Protection Aviator Sunglasses (Free Size)    ₹739   \n",
       "1        elegante         UV Protection Round Sunglasses (Free Size)    ₹664   \n",
       "2            IDEE   Mirrored, UV Protection Wayfarer Sunglasses (18)    ₹261   \n",
       "3   VINCENT CHASE  by Lenskart UV Protection Aviator Sunglasses (53)    ₹999   \n",
       "4        Fastrack              UV Protection Aviator Sunglasses (58)  ₹2,439   \n",
       "..            ...                                                ...     ...   \n",
       "95         AISLIN  by Lenskart Polarized, UV Protection Aviator S...    ₹426   \n",
       "96      Rich Club         UV Protection Round Sunglasses (Free Size)    ₹426   \n",
       "97      New Specs                UV Protection Round Sunglasses (50)    ₹206   \n",
       "98       elegante  Mirrored, Gradient, UV Protection, Night Visio...    ₹699   \n",
       "99          NuVew  UV Protection, Gradient Retro Square Sunglasse...    ₹999   \n",
       "\n",
       "   Discount  \n",
       "0   69% off  \n",
       "1   76% off  \n",
       "2   77% off  \n",
       "3   75% off  \n",
       "4   74% off  \n",
       "..      ...  \n",
       "95  72% off  \n",
       "96  80% off  \n",
       "97  81% off  \n",
       "98  60% off  \n",
       "99  73% off  \n",
       "\n",
       "[100 rows x 4 columns]"
      ]
     },
     "execution_count": 26,
     "metadata": {},
     "output_type": "execute_result"
    }
   ],
   "source": [
    "sunglasses"
   ]
  },
  {
   "cell_type": "raw",
   "id": "8455eebb",
   "metadata": {},
   "source": []
  },
  {
   "cell_type": "markdown",
   "id": "577dd59c",
   "metadata": {},
   "source": [
    "# Q5: "
   ]
  },
  {
   "cell_type": "code",
   "execution_count": 49,
   "id": "a85c5d29",
   "metadata": {},
   "outputs": [],
   "source": [
    "#lets first connect to webdriver\n",
    "driver=webdriver.Chrome(r'C:\\Users\\91964\\Desktop\\nazia\\chromedriver_win32\\chromedriver.exe')"
   ]
  },
  {
   "cell_type": "code",
   "execution_count": 50,
   "id": "feecbe27",
   "metadata": {},
   "outputs": [],
   "source": [
    "url='https://www.flipkart.com/apple-iphone-11-black-64-gb-includes- earpods-power\u0002adapter/p/itm0f37c2240b217?pid=MOBFKCTSVZAXUHGR&lid=LSTMOBFKCTSVZAXUHGREPBFGI&marketplace'\n",
    "driver.get(url)"
   ]
  },
  {
   "cell_type": "code",
   "execution_count": 51,
   "id": "15bb7f75",
   "metadata": {},
   "outputs": [],
   "source": [
    "all_rev_btn=driver.find_element_by_xpath('//div[@class=\"_3UAT2v _16PBlm\"]')"
   ]
  },
  {
   "cell_type": "code",
   "execution_count": 52,
   "id": "c0f60890",
   "metadata": {},
   "outputs": [],
   "source": [
    "all_rev_btn.click()"
   ]
  },
  {
   "cell_type": "code",
   "execution_count": 53,
   "id": "f86cb671",
   "metadata": {},
   "outputs": [
    {
     "data": {
      "text/plain": [
       "100"
      ]
     },
     "execution_count": 53,
     "metadata": {},
     "output_type": "execute_result"
    }
   ],
   "source": [
    "# extracting rating\n",
    "ratings=[]\n",
    "\n",
    "for i in range (11):\n",
    "    \n",
    "    rating_tag=driver.find_elements_by_xpath('//div[@class=\"_3LWZlK _1BLPMq\"]')\n",
    "    \n",
    "    for r in rating_tag:\n",
    "        ratings.append(r.text)\n",
    "    nxt_button=driver.find_elements_by_xpath(\"//a[@class='_1LKTO3']\")\n",
    "    try:\n",
    "        driver.get(nxt_button[1].get_attribute('href'))\n",
    "    except:\n",
    "        driver.get(nxt_button[0].get_attribute('href'))    \n",
    "ratings=ratings[0:100]\n",
    "len(ratings)    "
   ]
  },
  {
   "cell_type": "code",
   "execution_count": 55,
   "id": "b188d3eb",
   "metadata": {},
   "outputs": [
    {
     "data": {
      "text/plain": [
       "100"
      ]
     },
     "execution_count": 55,
     "metadata": {},
     "output_type": "execute_result"
    }
   ],
   "source": [
    "# extracting review summary\n",
    "review_summ=[]\n",
    "\n",
    "for i in range (11):\n",
    "    \n",
    "    summary_tag=driver.find_elements_by_xpath('//p[@class=\"_2-N8zT\"]')\n",
    "    for j in summary_tag:\n",
    "        review_summ.append(j.text)\n",
    "    nxt_button=driver.find_elements_by_xpath(\"//a[@class='_1LKTO3']\")\n",
    "    \n",
    "    try:\n",
    "        driver.get(nxt_button[1].get_attribute('href'))\n",
    "    except:\n",
    "        driver.get(nxt_button[0].get_attribute('href'))\n",
    "        \n",
    "review_summ=review_summ[0:100]\n",
    "len(review_summ)"
   ]
  },
  {
   "cell_type": "code",
   "execution_count": 56,
   "id": "3d66a1b8",
   "metadata": {},
   "outputs": [
    {
     "data": {
      "text/plain": [
       "100"
      ]
     },
     "execution_count": 56,
     "metadata": {},
     "output_type": "execute_result"
    }
   ],
   "source": [
    "# extracting full review \n",
    "review_full=[]\n",
    "\n",
    "for i in range(11):\n",
    "    \n",
    "    review_tag=driver.find_elements_by_xpath('//div[@class=\"t-ZTKy\"]')\n",
    "    for p in review_tag:\n",
    "        review_full.append(p.text)\n",
    "    nxt_button=driver.find_elements_by_xpath(\"//a[@class='_1LKTO3']\")\n",
    "    \n",
    "    try:\n",
    "        driver.get(nxt_button[1].get_attribute('href'))\n",
    "    except:\n",
    "        driver.get(nxt_button[0].get_attribute('href'))\n",
    "\n",
    "review_full=review_full[0:100]        \n",
    "len(review_full)                 "
   ]
  },
  {
   "cell_type": "code",
   "execution_count": 57,
   "id": "8a88b99a",
   "metadata": {},
   "outputs": [],
   "source": [
    "iphone=pd.DataFrame({'Ratings':ratings,\n",
    "         'Review_summary':review_summ,\n",
    "          'Full_review':review_full\n",
    "        })"
   ]
  },
  {
   "cell_type": "code",
   "execution_count": 58,
   "id": "86dcb304",
   "metadata": {},
   "outputs": [
    {
     "data": {
      "text/html": [
       "<div>\n",
       "<style scoped>\n",
       "    .dataframe tbody tr th:only-of-type {\n",
       "        vertical-align: middle;\n",
       "    }\n",
       "\n",
       "    .dataframe tbody tr th {\n",
       "        vertical-align: top;\n",
       "    }\n",
       "\n",
       "    .dataframe thead th {\n",
       "        text-align: right;\n",
       "    }\n",
       "</style>\n",
       "<table border=\"1\" class=\"dataframe\">\n",
       "  <thead>\n",
       "    <tr style=\"text-align: right;\">\n",
       "      <th></th>\n",
       "      <th>Ratings</th>\n",
       "      <th>Review_summary</th>\n",
       "      <th>Full_review</th>\n",
       "    </tr>\n",
       "  </thead>\n",
       "  <tbody>\n",
       "    <tr>\n",
       "      <th>0</th>\n",
       "      <td>5</td>\n",
       "      <td>Brilliant</td>\n",
       "      <td>The Best Phone for the Money\\n\\nThe iPhone 11 ...</td>\n",
       "    </tr>\n",
       "    <tr>\n",
       "      <th>1</th>\n",
       "      <td>5</td>\n",
       "      <td>Simply awesome</td>\n",
       "      <td>Really satisfied with the Product I received.....</td>\n",
       "    </tr>\n",
       "    <tr>\n",
       "      <th>2</th>\n",
       "      <td>5</td>\n",
       "      <td>Perfect product!</td>\n",
       "      <td>Amazing phone with great cameras and better ba...</td>\n",
       "    </tr>\n",
       "    <tr>\n",
       "      <th>3</th>\n",
       "      <td>5</td>\n",
       "      <td>Best in the market!</td>\n",
       "      <td>Great iPhone very snappy experience as apple k...</td>\n",
       "    </tr>\n",
       "    <tr>\n",
       "      <th>4</th>\n",
       "      <td>5</td>\n",
       "      <td>Worth every penny</td>\n",
       "      <td>Previously I was using one plus 3t it was a gr...</td>\n",
       "    </tr>\n",
       "    <tr>\n",
       "      <th>...</th>\n",
       "      <td>...</td>\n",
       "      <td>...</td>\n",
       "      <td>...</td>\n",
       "    </tr>\n",
       "    <tr>\n",
       "      <th>95</th>\n",
       "      <td>3</td>\n",
       "      <td>Must buy!</td>\n",
       "      <td>Camera is excellent just lack of telephoto mod...</td>\n",
       "    </tr>\n",
       "    <tr>\n",
       "      <th>96</th>\n",
       "      <td>5</td>\n",
       "      <td>Terrific purchase</td>\n",
       "      <td>I use a Note10+ and have been using both iOS a...</td>\n",
       "    </tr>\n",
       "    <tr>\n",
       "      <th>97</th>\n",
       "      <td>5</td>\n",
       "      <td>Awesome</td>\n",
       "      <td>The phone is completely good\\nAs far as camera...</td>\n",
       "    </tr>\n",
       "    <tr>\n",
       "      <th>98</th>\n",
       "      <td>5</td>\n",
       "      <td>Decent product</td>\n",
       "      <td>Everything u ll like it when u use this iPhone...</td>\n",
       "    </tr>\n",
       "    <tr>\n",
       "      <th>99</th>\n",
       "      <td>3</td>\n",
       "      <td>Wonderful</td>\n",
       "      <td>Nice value for money good and best price I pho...</td>\n",
       "    </tr>\n",
       "  </tbody>\n",
       "</table>\n",
       "<p>100 rows × 3 columns</p>\n",
       "</div>"
      ],
      "text/plain": [
       "   Ratings       Review_summary  \\\n",
       "0        5            Brilliant   \n",
       "1        5       Simply awesome   \n",
       "2        5     Perfect product!   \n",
       "3        5  Best in the market!   \n",
       "4        5    Worth every penny   \n",
       "..     ...                  ...   \n",
       "95       3            Must buy!   \n",
       "96       5    Terrific purchase   \n",
       "97       5              Awesome   \n",
       "98       5       Decent product   \n",
       "99       3            Wonderful   \n",
       "\n",
       "                                          Full_review  \n",
       "0   The Best Phone for the Money\\n\\nThe iPhone 11 ...  \n",
       "1   Really satisfied with the Product I received.....  \n",
       "2   Amazing phone with great cameras and better ba...  \n",
       "3   Great iPhone very snappy experience as apple k...  \n",
       "4   Previously I was using one plus 3t it was a gr...  \n",
       "..                                                ...  \n",
       "95  Camera is excellent just lack of telephoto mod...  \n",
       "96  I use a Note10+ and have been using both iOS a...  \n",
       "97  The phone is completely good\\nAs far as camera...  \n",
       "98  Everything u ll like it when u use this iPhone...  \n",
       "99  Nice value for money good and best price I pho...  \n",
       "\n",
       "[100 rows x 3 columns]"
      ]
     },
     "execution_count": 58,
     "metadata": {},
     "output_type": "execute_result"
    }
   ],
   "source": [
    "iphone"
   ]
  },
  {
   "cell_type": "raw",
   "id": "4f7e7137",
   "metadata": {},
   "source": []
  },
  {
   "cell_type": "markdown",
   "id": "1f4ea054",
   "metadata": {},
   "source": [
    "# Q6:"
   ]
  },
  {
   "cell_type": "code",
   "execution_count": 59,
   "id": "00a6f23f",
   "metadata": {},
   "outputs": [],
   "source": [
    "#lets first connect to webdriver\n",
    "driver=webdriver.Chrome(r'C:\\Users\\91964\\Desktop\\nazia\\chromedriver_win32\\chromedriver.exe')"
   ]
  },
  {
   "cell_type": "code",
   "execution_count": 60,
   "id": "365beefa",
   "metadata": {},
   "outputs": [],
   "source": [
    "url='https://www.flipkart.com'\n",
    "driver.get(url)"
   ]
  },
  {
   "cell_type": "code",
   "execution_count": 61,
   "id": "ff6aa6cf",
   "metadata": {},
   "outputs": [],
   "source": [
    "search_item=driver.find_element_by_xpath(\"/html/body/div[1]/div/div[1]/div[1]/div[2]/div[2]/form/div/div/input\")"
   ]
  },
  {
   "cell_type": "code",
   "execution_count": 62,
   "id": "f90a600b",
   "metadata": {},
   "outputs": [],
   "source": [
    "search_item.send_keys('sneakers')"
   ]
  },
  {
   "cell_type": "code",
   "execution_count": 63,
   "id": "926c9804",
   "metadata": {},
   "outputs": [],
   "source": [
    "search_btn=driver.find_element_by_xpath('/html/body/div[1]/div/div[1]/div[1]/div[2]/div[2]/form/div/button')"
   ]
  },
  {
   "cell_type": "code",
   "execution_count": 64,
   "id": "155096e3",
   "metadata": {},
   "outputs": [],
   "source": [
    "search_btn.click()"
   ]
  },
  {
   "cell_type": "code",
   "execution_count": 70,
   "id": "2d436b58",
   "metadata": {},
   "outputs": [
    {
     "data": {
      "text/plain": [
       "100"
      ]
     },
     "execution_count": 70,
     "metadata": {},
     "output_type": "execute_result"
    }
   ],
   "source": [
    "# extracting Brand\n",
    "brand=[]\n",
    "\n",
    "for i in range (3):\n",
    "    \n",
    "    brand_tag=driver.find_elements_by_xpath('//div[@class=\"_2WkVRV\"]')\n",
    "    \n",
    "    for r in brand_tag:\n",
    "        brand.append(r.text)\n",
    "    nxt_button=driver.find_elements_by_xpath('//a[@class=\"_1LKTO3\"]') \n",
    "    try:\n",
    "        driver.get(nxt_button[1].get_attribute('href'))\n",
    "    except:\n",
    "        driver.get(nxt_button[0].get_attribute('href'))\n",
    "    \n",
    "brand=brand[0:100]\n",
    "len(brand)          "
   ]
  },
  {
   "cell_type": "code",
   "execution_count": 73,
   "id": "5a70ffba",
   "metadata": {},
   "outputs": [
    {
     "data": {
      "text/plain": [
       "100"
      ]
     },
     "execution_count": 73,
     "metadata": {},
     "output_type": "execute_result"
    }
   ],
   "source": [
    "# extracting Product Description\n",
    "description=[]\n",
    "\n",
    "for i in range (4):\n",
    "    \n",
    "    product_desc=driver.find_elements_by_xpath('//a[@class=\"IRpwTa\"]')\n",
    "    \n",
    "    for r in product_desc:\n",
    "        description.append(r.text)\n",
    "    nxt_button=driver.find_elements_by_xpath('//a[@class=\"_1LKTO3\"]') \n",
    "    try:\n",
    "        driver.get(nxt_button[1].get_attribute('href'))\n",
    "    except:\n",
    "        driver.get(nxt_button[0].get_attribute('href'))\n",
    "        \n",
    "description=description[0:100]        \n",
    "len(description)     "
   ]
  },
  {
   "cell_type": "code",
   "execution_count": 74,
   "id": "6c386bd0",
   "metadata": {},
   "outputs": [
    {
     "data": {
      "text/plain": [
       "100"
      ]
     },
     "execution_count": 74,
     "metadata": {},
     "output_type": "execute_result"
    }
   ],
   "source": [
    "# extracting Price\n",
    "price=[]\n",
    "\n",
    "for i in range (3):\n",
    "    \n",
    "    price_tag=driver.find_elements_by_xpath('//div[@class=\"_30jeq3\"]')\n",
    "    for r in price_tag:\n",
    "        price.append(r.text)\n",
    "    nxt_button=driver.find_elements_by_xpath('//a[@class=\"_1LKTO3\"]') \n",
    "    try:\n",
    "        driver.get(nxt_button[1].get_attribute('href'))\n",
    "    except:\n",
    "        driver.get(nxt_button[0].get_attribute('href'))\n",
    "        \n",
    "price=price[0:100]  \n",
    "len(price)"
   ]
  },
  {
   "cell_type": "code",
   "execution_count": 78,
   "id": "595e0133",
   "metadata": {},
   "outputs": [
    {
     "data": {
      "text/plain": [
       "100"
      ]
     },
     "execution_count": 78,
     "metadata": {},
     "output_type": "execute_result"
    }
   ],
   "source": [
    "# extracting discount\n",
    "discount=[]\n",
    "\n",
    "for i in range (3):\n",
    "    \n",
    "    discount_tag=driver.find_elements_by_xpath('//div[@class=\"_3Ay6Sb\"]')\n",
    "    for r in discount_tag:\n",
    "        discount.append(r.text)\n",
    "    nxt_button=driver.find_elements_by_xpath('//a[@class=\"_1LKTO3\"]') \n",
    "    try:\n",
    "        driver.get(nxt_button[1].get_attribute('href'))\n",
    "    except:\n",
    "        driver.get(nxt_button[0].get_attribute('href'))\n",
    "        \n",
    "discount=discount[0:100] \n",
    "len(discount)"
   ]
  },
  {
   "cell_type": "code",
   "execution_count": 79,
   "id": "dc29e721",
   "metadata": {},
   "outputs": [],
   "source": [
    "sneakers=pd.DataFrame({'Brand':brand,\n",
    "                       'product description':description  ,\n",
    "                       'Price':price ,\n",
    "                       'Discount':discount\n",
    "                      })"
   ]
  },
  {
   "cell_type": "code",
   "execution_count": 83,
   "id": "bcbc34ff",
   "metadata": {
    "scrolled": true
   },
   "outputs": [
    {
     "data": {
      "text/html": [
       "<div>\n",
       "<style scoped>\n",
       "    .dataframe tbody tr th:only-of-type {\n",
       "        vertical-align: middle;\n",
       "    }\n",
       "\n",
       "    .dataframe tbody tr th {\n",
       "        vertical-align: top;\n",
       "    }\n",
       "\n",
       "    .dataframe thead th {\n",
       "        text-align: right;\n",
       "    }\n",
       "</style>\n",
       "<table border=\"1\" class=\"dataframe\">\n",
       "  <thead>\n",
       "    <tr style=\"text-align: right;\">\n",
       "      <th></th>\n",
       "      <th>Brand</th>\n",
       "      <th>product description</th>\n",
       "      <th>Price</th>\n",
       "      <th>Discount</th>\n",
       "    </tr>\n",
       "  </thead>\n",
       "  <tbody>\n",
       "    <tr>\n",
       "      <th>0</th>\n",
       "      <td>Zorth</td>\n",
       "      <td>Sneakers For Men</td>\n",
       "      <td>₹503</td>\n",
       "      <td>50% off</td>\n",
       "    </tr>\n",
       "    <tr>\n",
       "      <th>1</th>\n",
       "      <td>LE GREEM</td>\n",
       "      <td>Sneakers For Men</td>\n",
       "      <td>₹3,999</td>\n",
       "      <td>57% off</td>\n",
       "    </tr>\n",
       "    <tr>\n",
       "      <th>2</th>\n",
       "      <td>SPARX</td>\n",
       "      <td>Luxury Fashionable casual sneaker shoes Sneake...</td>\n",
       "      <td>₹398</td>\n",
       "      <td>15% off</td>\n",
       "    </tr>\n",
       "    <tr>\n",
       "      <th>3</th>\n",
       "      <td>PEHANOSA</td>\n",
       "      <td>Modern Trendy Shoes Combo pack of 4 Sneakers F...</td>\n",
       "      <td>₹449</td>\n",
       "      <td>56% off</td>\n",
       "    </tr>\n",
       "    <tr>\n",
       "      <th>4</th>\n",
       "      <td>BRUTON</td>\n",
       "      <td>Sneakers For Men</td>\n",
       "      <td>₹898</td>\n",
       "      <td>82% off</td>\n",
       "    </tr>\n",
       "    <tr>\n",
       "      <th>...</th>\n",
       "      <td>...</td>\n",
       "      <td>...</td>\n",
       "      <td>...</td>\n",
       "      <td>...</td>\n",
       "    </tr>\n",
       "    <tr>\n",
       "      <th>95</th>\n",
       "      <td>Baogi</td>\n",
       "      <td>SM-496 Sneakers For Men</td>\n",
       "      <td>₹359</td>\n",
       "      <td>70% off</td>\n",
       "    </tr>\n",
       "    <tr>\n",
       "      <th>96</th>\n",
       "      <td>Mr.SHOES</td>\n",
       "      <td>Casual All White Sneaker Shoe Sneakers For Men</td>\n",
       "      <td>₹536</td>\n",
       "      <td>62% off</td>\n",
       "    </tr>\n",
       "    <tr>\n",
       "      <th>97</th>\n",
       "      <td>U.S. POLO ASSN.</td>\n",
       "      <td>Elixir Man Limited Edition Casual Shoes Sneake...</td>\n",
       "      <td>₹497</td>\n",
       "      <td>33% off</td>\n",
       "    </tr>\n",
       "    <tr>\n",
       "      <th>98</th>\n",
       "      <td>PUMA</td>\n",
       "      <td>Combo Pack of 4 Casual Shoes Sneakers For Men</td>\n",
       "      <td>₹494</td>\n",
       "      <td>40% off</td>\n",
       "    </tr>\n",
       "    <tr>\n",
       "      <th>99</th>\n",
       "      <td>K- FOOTLANCE</td>\n",
       "      <td>Men Casual Shoes Sneakers For Men</td>\n",
       "      <td>₹449</td>\n",
       "      <td>64% off</td>\n",
       "    </tr>\n",
       "  </tbody>\n",
       "</table>\n",
       "<p>100 rows × 4 columns</p>\n",
       "</div>"
      ],
      "text/plain": [
       "              Brand                                product description  \\\n",
       "0             Zorth                                   Sneakers For Men   \n",
       "1          LE GREEM                                   Sneakers For Men   \n",
       "2             SPARX  Luxury Fashionable casual sneaker shoes Sneake...   \n",
       "3          PEHANOSA  Modern Trendy Shoes Combo pack of 4 Sneakers F...   \n",
       "4            BRUTON                                   Sneakers For Men   \n",
       "..              ...                                                ...   \n",
       "95            Baogi                            SM-496 Sneakers For Men   \n",
       "96         Mr.SHOES     Casual All White Sneaker Shoe Sneakers For Men   \n",
       "97  U.S. POLO ASSN.  Elixir Man Limited Edition Casual Shoes Sneake...   \n",
       "98             PUMA      Combo Pack of 4 Casual Shoes Sneakers For Men   \n",
       "99     K- FOOTLANCE                  Men Casual Shoes Sneakers For Men   \n",
       "\n",
       "     Price Discount  \n",
       "0     ₹503  50% off  \n",
       "1   ₹3,999  57% off  \n",
       "2     ₹398  15% off  \n",
       "3     ₹449  56% off  \n",
       "4     ₹898  82% off  \n",
       "..     ...      ...  \n",
       "95    ₹359  70% off  \n",
       "96    ₹536  62% off  \n",
       "97    ₹497  33% off  \n",
       "98    ₹494  40% off  \n",
       "99    ₹449  64% off  \n",
       "\n",
       "[100 rows x 4 columns]"
      ]
     },
     "execution_count": 83,
     "metadata": {},
     "output_type": "execute_result"
    }
   ],
   "source": [
    "sneakers"
   ]
  },
  {
   "cell_type": "markdown",
   "id": "ec9d74f0",
   "metadata": {},
   "source": [
    "# Q7: "
   ]
  },
  {
   "cell_type": "code",
   "execution_count": 16,
   "id": "304c0e74",
   "metadata": {},
   "outputs": [],
   "source": [
    "#lets first connect to webdriver\n",
    "driver=webdriver.Chrome(r'C:\\Users\\91964\\Desktop\\nazia\\chromedriver_win32\\chromedriver.exe')"
   ]
  },
  {
   "cell_type": "code",
   "execution_count": 17,
   "id": "bd414cbb",
   "metadata": {},
   "outputs": [],
   "source": [
    "url='https://www.myntra.com/shoes'\n",
    "driver.get(url)"
   ]
  },
  {
   "cell_type": "code",
   "execution_count": 18,
   "id": "9c11cc42",
   "metadata": {},
   "outputs": [],
   "source": [
    "price_check=driver.find_element_by_xpath('/html/body/div[2]/div/div[1]/main/div[3]/div[1]/section/div/div[5]/ul/li[2]/label')\n",
    "price_check.click()"
   ]
  },
  {
   "cell_type": "code",
   "execution_count": 19,
   "id": "c416ef44",
   "metadata": {},
   "outputs": [],
   "source": [
    "color_check=driver.find_element_by_xpath('/html/body/div[2]/div/div[1]/main/div[3]/div[1]/section/div/div[6]/ul/li[1]/label')\n",
    "color_check.click()\n"
   ]
  },
  {
   "cell_type": "code",
   "execution_count": 24,
   "id": "bce7fcb6",
   "metadata": {},
   "outputs": [
    {
     "data": {
      "text/plain": [
       "100"
      ]
     },
     "execution_count": 24,
     "metadata": {},
     "output_type": "execute_result"
    }
   ],
   "source": [
    "# extracting Brand\n",
    "brand_name=[]\n",
    "\n",
    "for i in range (2):\n",
    "    \n",
    "    brand_tag=driver.find_elements_by_xpath('//h3[@class=\"product-brand\"]')\n",
    "    for r in brand_tag:\n",
    "        brand_name.append(r.text)\n",
    "        \n",
    "    nxt_button=driver.find_elements_by_xpath('//li[@class=\"pagination-next\"]/a') \n",
    "    try:\n",
    "        driver.get(nxt_button[1].get_attribute('href'))\n",
    "    except:\n",
    "        driver.get(nxt_button[0].get_attribute('href'))\n",
    "\n",
    "len(brand_name)     "
   ]
  },
  {
   "cell_type": "code",
   "execution_count": 25,
   "id": "cd2fd3dc",
   "metadata": {},
   "outputs": [
    {
     "data": {
      "text/plain": [
       "100"
      ]
     },
     "execution_count": 25,
     "metadata": {},
     "output_type": "execute_result"
    }
   ],
   "source": [
    "description=[]\n",
    "\n",
    "for i in range (2):\n",
    "    \n",
    "    des_tag=driver.find_elements_by_xpath('//h4[@class=\"product-product\"]')\n",
    "    \n",
    "    for r in des_tag:\n",
    "        description.append(r.text)\n",
    "    nxt_button=driver.find_elements_by_xpath('//li[@class=\"pagination-next\"]/a') \n",
    "    \n",
    "    try:\n",
    "        driver.get(nxt_button[1].get_attribute('href'))\n",
    "    except:\n",
    "        driver.get(nxt_button[0].get_attribute('href'))   \n",
    "        \n",
    "len(description)    "
   ]
  },
  {
   "cell_type": "code",
   "execution_count": 31,
   "id": "544eb5fc",
   "metadata": {},
   "outputs": [
    {
     "data": {
      "text/plain": [
       "100"
      ]
     },
     "execution_count": 31,
     "metadata": {},
     "output_type": "execute_result"
    }
   ],
   "source": [
    "# extracting price\n",
    "price=[]\n",
    "\n",
    "for i in range (5):\n",
    "    \n",
    "    price_tag=driver.find_elements_by_xpath('//span[@class=\"product-discountedPrice\"]')\n",
    "    \n",
    "    for r in price_tag:\n",
    "        price.append(r.text)\n",
    "    nxt_button=driver.find_elements_by_xpath('//li[@class=\"pagination-next\"]/a') \n",
    "    \n",
    "    try:\n",
    "        driver.get(nxt_button[1].get_attribute('href'))\n",
    "    except:\n",
    "        driver.get(nxt_button[0].get_attribute('href'))      \n",
    "         \n",
    "price=price[0:100]\n",
    "len(price) "
   ]
  },
  {
   "cell_type": "code",
   "execution_count": 33,
   "id": "91991eed",
   "metadata": {},
   "outputs": [],
   "source": [
    "shoes=pd.DataFrame({'Brand':brand_name,\n",
    "                    'Description':description,\n",
    "                    'Price':price\n",
    "                   })"
   ]
  },
  {
   "cell_type": "code",
   "execution_count": 34,
   "id": "4047f128",
   "metadata": {},
   "outputs": [
    {
     "data": {
      "text/html": [
       "<div>\n",
       "<style scoped>\n",
       "    .dataframe tbody tr th:only-of-type {\n",
       "        vertical-align: middle;\n",
       "    }\n",
       "\n",
       "    .dataframe tbody tr th {\n",
       "        vertical-align: top;\n",
       "    }\n",
       "\n",
       "    .dataframe thead th {\n",
       "        text-align: right;\n",
       "    }\n",
       "</style>\n",
       "<table border=\"1\" class=\"dataframe\">\n",
       "  <thead>\n",
       "    <tr style=\"text-align: right;\">\n",
       "      <th></th>\n",
       "      <th>Brand</th>\n",
       "      <th>Description</th>\n",
       "      <th>Price</th>\n",
       "    </tr>\n",
       "  </thead>\n",
       "  <tbody>\n",
       "    <tr>\n",
       "      <th>0</th>\n",
       "      <td>Puma</td>\n",
       "      <td>Striped Suede Flatform Heeled Boots</td>\n",
       "      <td>Rs. 7149</td>\n",
       "    </tr>\n",
       "    <tr>\n",
       "      <th>1</th>\n",
       "      <td>Hush Puppies</td>\n",
       "      <td>Women Perforations Sneakers</td>\n",
       "      <td>Rs. 8449</td>\n",
       "    </tr>\n",
       "    <tr>\n",
       "      <th>2</th>\n",
       "      <td>Puma</td>\n",
       "      <td>Block Heeled Boots</td>\n",
       "      <td>Rs. 9810</td>\n",
       "    </tr>\n",
       "    <tr>\n",
       "      <th>3</th>\n",
       "      <td>Saint G</td>\n",
       "      <td>Men Leather Driving Shoes</td>\n",
       "      <td>Rs. 7191</td>\n",
       "    </tr>\n",
       "    <tr>\n",
       "      <th>4</th>\n",
       "      <td>MANGO</td>\n",
       "      <td>Men Wingtip Oxford Sneakers</td>\n",
       "      <td>Rs. 7999</td>\n",
       "    </tr>\n",
       "    <tr>\n",
       "      <th>...</th>\n",
       "      <td>...</td>\n",
       "      <td>...</td>\n",
       "      <td>...</td>\n",
       "    </tr>\n",
       "    <tr>\n",
       "      <th>95</th>\n",
       "      <td>Geox</td>\n",
       "      <td>Men GEL-KAYANO 27 Shoes</td>\n",
       "      <td>Rs. 8010</td>\n",
       "    </tr>\n",
       "    <tr>\n",
       "      <th>96</th>\n",
       "      <td>UNDER ARMOUR</td>\n",
       "      <td>Women Charged Bandit 6 Running</td>\n",
       "      <td>Rs. 11250</td>\n",
       "    </tr>\n",
       "    <tr>\n",
       "      <th>97</th>\n",
       "      <td>Pavers England</td>\n",
       "      <td>Men Leather Formal Derbys</td>\n",
       "      <td>Rs. 7149</td>\n",
       "    </tr>\n",
       "    <tr>\n",
       "      <th>98</th>\n",
       "      <td>J.FONTINI</td>\n",
       "      <td>Women Running Shoes</td>\n",
       "      <td>Rs. 13599</td>\n",
       "    </tr>\n",
       "    <tr>\n",
       "      <th>99</th>\n",
       "      <td>Saint G</td>\n",
       "      <td>Men AIR ZOOM PEGASUS 36 Shoes</td>\n",
       "      <td>Rs. 10121</td>\n",
       "    </tr>\n",
       "  </tbody>\n",
       "</table>\n",
       "<p>100 rows × 3 columns</p>\n",
       "</div>"
      ],
      "text/plain": [
       "             Brand                          Description      Price\n",
       "0             Puma  Striped Suede Flatform Heeled Boots   Rs. 7149\n",
       "1     Hush Puppies          Women Perforations Sneakers   Rs. 8449\n",
       "2             Puma                   Block Heeled Boots   Rs. 9810\n",
       "3          Saint G            Men Leather Driving Shoes   Rs. 7191\n",
       "4            MANGO          Men Wingtip Oxford Sneakers   Rs. 7999\n",
       "..             ...                                  ...        ...\n",
       "95            Geox              Men GEL-KAYANO 27 Shoes   Rs. 8010\n",
       "96    UNDER ARMOUR       Women Charged Bandit 6 Running  Rs. 11250\n",
       "97  Pavers England            Men Leather Formal Derbys   Rs. 7149\n",
       "98       J.FONTINI                  Women Running Shoes  Rs. 13599\n",
       "99         Saint G        Men AIR ZOOM PEGASUS 36 Shoes  Rs. 10121\n",
       "\n",
       "[100 rows x 3 columns]"
      ]
     },
     "execution_count": 34,
     "metadata": {},
     "output_type": "execute_result"
    }
   ],
   "source": [
    "shoes"
   ]
  },
  {
   "cell_type": "raw",
   "id": "110416fe",
   "metadata": {},
   "source": []
  },
  {
   "cell_type": "markdown",
   "id": "973f1959",
   "metadata": {},
   "source": [
    "# Q8:"
   ]
  },
  {
   "cell_type": "code",
   "execution_count": 130,
   "id": "eef5274a",
   "metadata": {},
   "outputs": [],
   "source": [
    "#lets first connect to webdriver\n",
    "driver=webdriver.Chrome(r'C:\\Users\\91964\\Desktop\\nazia\\chromedriver_win32\\chromedriver.exe')"
   ]
  },
  {
   "cell_type": "code",
   "execution_count": 131,
   "id": "4ce2c60e",
   "metadata": {},
   "outputs": [],
   "source": [
    "url='https://www.amazon.in/'\n",
    "driver.get(url)"
   ]
  },
  {
   "cell_type": "code",
   "execution_count": 169,
   "id": "198bb417",
   "metadata": {},
   "outputs": [],
   "source": [
    "search_filter=driver.find_element_by_id('twotabsearchtextbox')"
   ]
  },
  {
   "cell_type": "code",
   "execution_count": 170,
   "id": "6841f309",
   "metadata": {},
   "outputs": [],
   "source": [
    "search_filter.send_keys('Laptop')"
   ]
  },
  {
   "cell_type": "code",
   "execution_count": 171,
   "id": "b3075299",
   "metadata": {},
   "outputs": [],
   "source": [
    "search_btn=driver.find_element_by_xpath(\"/html/body/div[1]/header/div/div[1]/div[2]/div/form/div[3]/div/span/input\")"
   ]
  },
  {
   "cell_type": "code",
   "execution_count": 172,
   "id": "d6e74db7",
   "metadata": {},
   "outputs": [],
   "source": [
    "search_btn.click()"
   ]
  },
  {
   "cell_type": "code",
   "execution_count": 173,
   "id": "8118652a",
   "metadata": {},
   "outputs": [],
   "source": [
    "see_more_btn=driver.find_element_by_xpath('/html/body/div[1]/div[2]/div[1]/div[2]/div/div[3]/span/div[1]/span/div/div/div[6]/div/div/div[1]/div/span[2]/a/span')"
   ]
  },
  {
   "cell_type": "code",
   "execution_count": 174,
   "id": "226f343f",
   "metadata": {},
   "outputs": [],
   "source": [
    "see_more_btn.click()"
   ]
  },
  {
   "cell_type": "code",
   "execution_count": 176,
   "id": "771ba84b",
   "metadata": {},
   "outputs": [],
   "source": [
    "cpu_check1=driver.find_element_by_xpath('/html/body/div[1]/div[2]/div[1]/div[2]/div/div[3]/span/div[1]/span/div/div/div[6]/div/div/div[1]/div/span[1]/a[11]/div/span')"
   ]
  },
  {
   "cell_type": "code",
   "execution_count": 177,
   "id": "5854f682",
   "metadata": {},
   "outputs": [],
   "source": [
    "cpu_check1.click()"
   ]
  },
  {
   "cell_type": "code",
   "execution_count": 178,
   "id": "d08e1c23",
   "metadata": {},
   "outputs": [
    {
     "data": {
      "text/plain": [
       "10"
      ]
     },
     "execution_count": 178,
     "metadata": {},
     "output_type": "execute_result"
    }
   ],
   "source": [
    "# extracting title\n",
    "title=[]\n",
    "    \n",
    "title_tag=driver.find_elements_by_xpath('//span[@class=\"a-size-medium a-color-base a-text-normal\"]')\n",
    "for r in title_tag:\n",
    "    title.append(r.text)\n",
    "               \n",
    "title=title[0:10]\n",
    "len(title)"
   ]
  },
  {
   "cell_type": "code",
   "execution_count": 181,
   "id": "63a68b43",
   "metadata": {},
   "outputs": [
    {
     "data": {
      "text/plain": [
       "['NO rating',\n",
       " 'NO rating',\n",
       " 'NO rating',\n",
       " 'NO rating',\n",
       " 'NO rating',\n",
       " 'NO rating',\n",
       " 'NO rating',\n",
       " 'NO rating',\n",
       " 'NO rating',\n",
       " 'NO rating']"
      ]
     },
     "execution_count": 181,
     "metadata": {},
     "output_type": "execute_result"
    }
   ],
   "source": [
    "# extracting ratings\n",
    "urls=driver.find_elements_by_xpath(\"//a[@class='a-link-normal a-text-normal']\")#collecting urls of all the laptop\n",
    "UR=[]\n",
    "\n",
    "for i in urls[:10]:\n",
    "    UR.append(i.get_attribute('href'))#getting the url of first 10 laptops\n",
    "for url in UR:#loop for every laptop in the list\n",
    "    driver.get(url)\n",
    "    try:\n",
    "         \n",
    "        rating=driver.find_element_by_xpath(\"//span[@class='a-size-base a-nowrap']//span\")\n",
    "                                           #locating the rating\n",
    "        Ratings.append(rating.text)#appending the ratings in Ratings list\n",
    "        \n",
    "    except:\n",
    "        Ratings.append(\"NO rating\")\n",
    "        \n",
    "Ratings=Ratings[0:10]"
   ]
  },
  {
   "cell_type": "code",
   "execution_count": 149,
   "id": "37fd6a97",
   "metadata": {},
   "outputs": [
    {
     "data": {
      "text/plain": [
       "10"
      ]
     },
     "execution_count": 149,
     "metadata": {},
     "output_type": "execute_result"
    }
   ],
   "source": [
    "# extracting price\n",
    "price=[]\n",
    "    \n",
    "price_tag=driver.find_elements_by_xpath('//span[@class=\"a-price\"]')\n",
    "for r in price_tag:\n",
    "    price.append(r.text)\n",
    "    \n",
    "price=price[0:10]               \n",
    "len(price)\n"
   ]
  },
  {
   "cell_type": "code",
   "execution_count": 184,
   "id": "b04e0576",
   "metadata": {},
   "outputs": [],
   "source": [
    "Laptop_Data=pd.DataFrame({'Title':title,\n",
    "                          'Ratings':Ratings,\n",
    "                          'Price':price})"
   ]
  },
  {
   "cell_type": "code",
   "execution_count": 185,
   "id": "3575b1e5",
   "metadata": {},
   "outputs": [
    {
     "data": {
      "text/html": [
       "<div>\n",
       "<style scoped>\n",
       "    .dataframe tbody tr th:only-of-type {\n",
       "        vertical-align: middle;\n",
       "    }\n",
       "\n",
       "    .dataframe tbody tr th {\n",
       "        vertical-align: top;\n",
       "    }\n",
       "\n",
       "    .dataframe thead th {\n",
       "        text-align: right;\n",
       "    }\n",
       "</style>\n",
       "<table border=\"1\" class=\"dataframe\">\n",
       "  <thead>\n",
       "    <tr style=\"text-align: right;\">\n",
       "      <th></th>\n",
       "      <th>Title</th>\n",
       "      <th>Ratings</th>\n",
       "      <th>Price</th>\n",
       "    </tr>\n",
       "  </thead>\n",
       "  <tbody>\n",
       "    <tr>\n",
       "      <th>0</th>\n",
       "      <td>Lenovo ThinkBook 13s Intel 11th Gen Core i7 13...</td>\n",
       "      <td>NO rating</td>\n",
       "      <td>₹30,990</td>\n",
       "    </tr>\n",
       "    <tr>\n",
       "      <th>1</th>\n",
       "      <td>HP Pavilion 13, 11th Gen Intel Core i7, 13.3-i...</td>\n",
       "      <td>NO rating</td>\n",
       "      <td>₹56,990</td>\n",
       "    </tr>\n",
       "    <tr>\n",
       "      <th>2</th>\n",
       "      <td>ASUS TUF Dash F15 (2021), 15.6-inch (39.62 cms...</td>\n",
       "      <td>NO rating</td>\n",
       "      <td>₹31,200</td>\n",
       "    </tr>\n",
       "    <tr>\n",
       "      <th>3</th>\n",
       "      <td>ASUS VivoBook 14 (2021), 14-inch (35.56 cms) F...</td>\n",
       "      <td>NO rating</td>\n",
       "      <td>₹50,400</td>\n",
       "    </tr>\n",
       "    <tr>\n",
       "      <th>4</th>\n",
       "      <td>Mi Notebook Horizon Edition 14 Intel Core i7-1...</td>\n",
       "      <td>NO rating</td>\n",
       "      <td>₹30,590</td>\n",
       "    </tr>\n",
       "    <tr>\n",
       "      <th>5</th>\n",
       "      <td>Acer Nitro 5 AN515-57 Gaming Laptop | Intel Co...</td>\n",
       "      <td>NO rating</td>\n",
       "      <td>₹57,400</td>\n",
       "    </tr>\n",
       "    <tr>\n",
       "      <th>6</th>\n",
       "      <td>ASUS TUF Dash F15 (2021) 15.6-inch (39.62 cms)...</td>\n",
       "      <td>NO rating</td>\n",
       "      <td>₹38,990</td>\n",
       "    </tr>\n",
       "    <tr>\n",
       "      <th>7</th>\n",
       "      <td>ASUS ZenBook 14 (2020) Intel Core i7-1165G7 11...</td>\n",
       "      <td>NO rating</td>\n",
       "      <td>₹38,999</td>\n",
       "    </tr>\n",
       "    <tr>\n",
       "      <th>8</th>\n",
       "      <td>ASUS TUF Gaming F15 (2021) 15.6-inch (39.62 cm...</td>\n",
       "      <td>NO rating</td>\n",
       "      <td>₹33,990</td>\n",
       "    </tr>\n",
       "    <tr>\n",
       "      <th>9</th>\n",
       "      <td>MSI GF75 Thin Gaming, Intel i7-10750H, 17.3\" (...</td>\n",
       "      <td>NO rating</td>\n",
       "      <td>₹46,395</td>\n",
       "    </tr>\n",
       "  </tbody>\n",
       "</table>\n",
       "</div>"
      ],
      "text/plain": [
       "                                               Title    Ratings    Price\n",
       "0  Lenovo ThinkBook 13s Intel 11th Gen Core i7 13...  NO rating  ₹30,990\n",
       "1  HP Pavilion 13, 11th Gen Intel Core i7, 13.3-i...  NO rating  ₹56,990\n",
       "2  ASUS TUF Dash F15 (2021), 15.6-inch (39.62 cms...  NO rating  ₹31,200\n",
       "3  ASUS VivoBook 14 (2021), 14-inch (35.56 cms) F...  NO rating  ₹50,400\n",
       "4  Mi Notebook Horizon Edition 14 Intel Core i7-1...  NO rating  ₹30,590\n",
       "5  Acer Nitro 5 AN515-57 Gaming Laptop | Intel Co...  NO rating  ₹57,400\n",
       "6  ASUS TUF Dash F15 (2021) 15.6-inch (39.62 cms)...  NO rating  ₹38,990\n",
       "7  ASUS ZenBook 14 (2020) Intel Core i7-1165G7 11...  NO rating  ₹38,999\n",
       "8  ASUS TUF Gaming F15 (2021) 15.6-inch (39.62 cm...  NO rating  ₹33,990\n",
       "9  MSI GF75 Thin Gaming, Intel i7-10750H, 17.3\" (...  NO rating  ₹46,395"
      ]
     },
     "execution_count": 185,
     "metadata": {},
     "output_type": "execute_result"
    }
   ],
   "source": [
    "Laptop_Data"
   ]
  },
  {
   "cell_type": "raw",
   "id": "b6e90856",
   "metadata": {},
   "source": []
  },
  {
   "cell_type": "markdown",
   "id": "aa9c6ebe",
   "metadata": {},
   "source": [
    "# Q.9"
   ]
  },
  {
   "cell_type": "code",
   "execution_count": 79,
   "id": "69f0380f",
   "metadata": {},
   "outputs": [],
   "source": [
    "#lets first connect to webdriver\n",
    "driver=webdriver.Chrome(r'C:\\Users\\91964\\Desktop\\nazia\\chromedriver_win32\\chromedriver.exe')"
   ]
  },
  {
   "cell_type": "code",
   "execution_count": 80,
   "id": "e72436a6",
   "metadata": {},
   "outputs": [],
   "source": [
    "url='https://www.ambitionbox.com/'\n",
    "driver.get(url)"
   ]
  },
  {
   "cell_type": "code",
   "execution_count": 81,
   "id": "58e7a187",
   "metadata": {},
   "outputs": [],
   "source": [
    "job_filter=driver.find_element_by_xpath('/html/body/div[1]/nav/nav/a[6]')"
   ]
  },
  {
   "cell_type": "code",
   "execution_count": 82,
   "id": "2c1d1d06",
   "metadata": {},
   "outputs": [],
   "source": [
    "job_filter.click()"
   ]
  },
  {
   "cell_type": "code",
   "execution_count": 83,
   "id": "40e5d3c5",
   "metadata": {},
   "outputs": [],
   "source": [
    "search_filter=driver.find_element_by_xpath('/html/body/div/div/div/div[2]/div[1]/div/div/div/div/span/input')"
   ]
  },
  {
   "cell_type": "code",
   "execution_count": 84,
   "id": "a21311f6",
   "metadata": {},
   "outputs": [],
   "source": [
    "search_filter.send_keys('Data Scientist')"
   ]
  },
  {
   "cell_type": "code",
   "execution_count": 85,
   "id": "ff06e27a",
   "metadata": {},
   "outputs": [],
   "source": [
    "search_btn=driver.find_element_by_xpath('/html/body/div/div/div/div[2]/div[1]/div/div/div/button/span')"
   ]
  },
  {
   "cell_type": "code",
   "execution_count": 86,
   "id": "63325158",
   "metadata": {},
   "outputs": [],
   "source": [
    "search_btn.click()"
   ]
  },
  {
   "cell_type": "code",
   "execution_count": 87,
   "id": "43b5a3ca",
   "metadata": {},
   "outputs": [],
   "source": [
    "location_btn=driver.find_element_by_xpath('/html/body/div/div/div/div[2]/div[2]/div[1]/div/div/div/div[2]/div[1]/p')"
   ]
  },
  {
   "cell_type": "code",
   "execution_count": 88,
   "id": "8d1e4c18",
   "metadata": {},
   "outputs": [],
   "source": [
    "location_btn.click()"
   ]
  },
  {
   "cell_type": "code",
   "execution_count": 91,
   "id": "ae315a66",
   "metadata": {},
   "outputs": [],
   "source": [
    "search_location=driver.find_element_by_xpath('/html/body/div/div/div/div[2]/div[2]/div[1]/div/div/div/div[2]/div[2]/div/div[3]/div[1]/div[5]/div/label')"
   ]
  },
  {
   "cell_type": "code",
   "execution_count": 92,
   "id": "ec5ed981",
   "metadata": {},
   "outputs": [],
   "source": [
    "search_location.click()"
   ]
  },
  {
   "cell_type": "code",
   "execution_count": 93,
   "id": "52a8eb61",
   "metadata": {},
   "outputs": [
    {
     "data": {
      "text/plain": [
       "10"
      ]
     },
     "execution_count": 93,
     "metadata": {},
     "output_type": "execute_result"
    }
   ],
   "source": [
    "#Extracting company name\n",
    "company_name=[]\n",
    "\n",
    "name_tag=driver.find_elements_by_xpath('//p[@class=\"company body-medium\"]')\n",
    "for r in name_tag:\n",
    "    company_name.append(r.text)\n",
    "               \n",
    "len(company_name)"
   ]
  },
  {
   "cell_type": "code",
   "execution_count": 94,
   "id": "1b77cc36",
   "metadata": {},
   "outputs": [
    {
     "data": {
      "text/plain": [
       "10"
      ]
     },
     "execution_count": 94,
     "metadata": {},
     "output_type": "execute_result"
    }
   ],
   "source": [
    "#Extracting Experience\n",
    "exper=[]\n",
    "\n",
    "exp_tag=driver.find_elements_by_xpath('//p[@class=\"body-small-l\"]')\n",
    "for r in exp_tag:\n",
    "    exper.append(r.text)\n",
    "exper=exper[0:10]               \n",
    "len(exper)"
   ]
  },
  {
   "cell_type": "code",
   "execution_count": 95,
   "id": "17d0f9d0",
   "metadata": {},
   "outputs": [
    {
     "data": {
      "text/plain": [
       "10"
      ]
     },
     "execution_count": 95,
     "metadata": {},
     "output_type": "execute_result"
    }
   ],
   "source": [
    "#Extracting review\n",
    "review=[]\n",
    "\n",
    "review_tag=driver.find_elements_by_xpath('//span[@class=\"body-small\"]')\n",
    "for r in review_tag:\n",
    "    review.append(r.text)\n",
    "            \n",
    "len(review)"
   ]
  },
  {
   "cell_type": "code",
   "execution_count": 115,
   "id": "013e5a08",
   "metadata": {},
   "outputs": [],
   "source": [
    "job_result=pd.DataFrame({'Company':company_name,\n",
    "            'Experience':exper,\n",
    "             'Review':review\n",
    "             })"
   ]
  },
  {
   "cell_type": "code",
   "execution_count": 116,
   "id": "f91522c6",
   "metadata": {},
   "outputs": [
    {
     "data": {
      "text/html": [
       "<div>\n",
       "<style scoped>\n",
       "    .dataframe tbody tr th:only-of-type {\n",
       "        vertical-align: middle;\n",
       "    }\n",
       "\n",
       "    .dataframe tbody tr th {\n",
       "        vertical-align: top;\n",
       "    }\n",
       "\n",
       "    .dataframe thead th {\n",
       "        text-align: right;\n",
       "    }\n",
       "</style>\n",
       "<table border=\"1\" class=\"dataframe\">\n",
       "  <thead>\n",
       "    <tr style=\"text-align: right;\">\n",
       "      <th></th>\n",
       "      <th>Company</th>\n",
       "      <th>Experience</th>\n",
       "      <th>Review</th>\n",
       "    </tr>\n",
       "  </thead>\n",
       "  <tbody>\n",
       "    <tr>\n",
       "      <th>0</th>\n",
       "      <td>Nokia Solutions and Networks India (P)Ltd.</td>\n",
       "      <td>1-3 years</td>\n",
       "      <td>4.3</td>\n",
       "    </tr>\n",
       "    <tr>\n",
       "      <th>1</th>\n",
       "      <td>Ameriprise Financial</td>\n",
       "      <td>Not Disclosed</td>\n",
       "      <td>4.0</td>\n",
       "    </tr>\n",
       "    <tr>\n",
       "      <th>2</th>\n",
       "      <td>Paytm</td>\n",
       "      <td>Noida</td>\n",
       "      <td>3.7</td>\n",
       "    </tr>\n",
       "    <tr>\n",
       "      <th>3</th>\n",
       "      <td>Jubilant Foodworks Limited</td>\n",
       "      <td>1 vacancy</td>\n",
       "      <td>3.9</td>\n",
       "    </tr>\n",
       "    <tr>\n",
       "      <th>4</th>\n",
       "      <td>CHT Sapiense</td>\n",
       "      <td>1-3 Yrs</td>\n",
       "      <td>3.7</td>\n",
       "    </tr>\n",
       "    <tr>\n",
       "      <th>5</th>\n",
       "      <td>CHT Sapiense</td>\n",
       "      <td>Not Disclosed</td>\n",
       "      <td>3.7</td>\n",
       "    </tr>\n",
       "    <tr>\n",
       "      <th>6</th>\n",
       "      <td>GI Group</td>\n",
       "      <td>Noida</td>\n",
       "      <td>4.1</td>\n",
       "    </tr>\n",
       "    <tr>\n",
       "      <th>7</th>\n",
       "      <td>GI Group</td>\n",
       "      <td>Telecom, Data mining, Relationship management ...</td>\n",
       "      <td>4.1</td>\n",
       "    </tr>\n",
       "    <tr>\n",
       "      <th>8</th>\n",
       "      <td>GI Group</td>\n",
       "      <td>4-6 Yrs</td>\n",
       "      <td>4.1</td>\n",
       "    </tr>\n",
       "    <tr>\n",
       "      <th>9</th>\n",
       "      <td>RMS Risk Management Solutions</td>\n",
       "      <td>Not Disclosed</td>\n",
       "      <td>3.5</td>\n",
       "    </tr>\n",
       "  </tbody>\n",
       "</table>\n",
       "</div>"
      ],
      "text/plain": [
       "                                      Company  \\\n",
       "0  Nokia Solutions and Networks India (P)Ltd.   \n",
       "1                        Ameriprise Financial   \n",
       "2                                       Paytm   \n",
       "3                  Jubilant Foodworks Limited   \n",
       "4                                CHT Sapiense   \n",
       "5                                CHT Sapiense   \n",
       "6                                    GI Group   \n",
       "7                                    GI Group   \n",
       "8                                    GI Group   \n",
       "9               RMS Risk Management Solutions   \n",
       "\n",
       "                                          Experience Review  \n",
       "0                                          1-3 years    4.3  \n",
       "1                                      Not Disclosed    4.0  \n",
       "2                                              Noida    3.7  \n",
       "3                                          1 vacancy    3.9  \n",
       "4                                            1-3 Yrs    3.7  \n",
       "5                                      Not Disclosed    3.7  \n",
       "6                                              Noida    4.1  \n",
       "7  Telecom, Data mining, Relationship management ...    4.1  \n",
       "8                                            4-6 Yrs    4.1  \n",
       "9                                      Not Disclosed    3.5  "
      ]
     },
     "execution_count": 116,
     "metadata": {},
     "output_type": "execute_result"
    }
   ],
   "source": [
    "job_result"
   ]
  },
  {
   "cell_type": "markdown",
   "id": "9b3a4e7c",
   "metadata": {},
   "source": [
    "# Q.10"
   ]
  },
  {
   "cell_type": "code",
   "execution_count": 2,
   "id": "2aa2e168",
   "metadata": {},
   "outputs": [],
   "source": [
    "#lets first connect to webdriver\n",
    "driver=webdriver.Chrome(r'C:\\Users\\91964\\Desktop\\nazia\\chromedriver_win32\\chromedriver.exe')"
   ]
  },
  {
   "cell_type": "code",
   "execution_count": 3,
   "id": "7a4deee3",
   "metadata": {},
   "outputs": [],
   "source": [
    "url='https://www.ambitionbox.com/'\n",
    "driver.get(url)"
   ]
  },
  {
   "cell_type": "code",
   "execution_count": 37,
   "id": "f6af038a",
   "metadata": {},
   "outputs": [],
   "source": [
    "salary_filter=driver.find_element_by_xpath('/html/body/div[1]/nav/nav/a[4]')"
   ]
  },
  {
   "cell_type": "code",
   "execution_count": 38,
   "id": "43a192f6",
   "metadata": {},
   "outputs": [],
   "source": [
    "salary_filter.click()"
   ]
  },
  {
   "cell_type": "code",
   "execution_count": 39,
   "id": "47a45699",
   "metadata": {},
   "outputs": [],
   "source": [
    "search_profile=driver.find_element_by_xpath('/html/body/div/div/div/main/section[1]/div[2]/div[1]/span/input')"
   ]
  },
  {
   "cell_type": "code",
   "execution_count": 40,
   "id": "0579891a",
   "metadata": {},
   "outputs": [],
   "source": [
    "search_profile.send_keys('Data Scientist')"
   ]
  },
  {
   "cell_type": "code",
   "execution_count": 41,
   "id": "c8bfeb02",
   "metadata": {},
   "outputs": [],
   "source": [
    "select_btn=driver.find_element_by_xpath('/html/body/div/div/div/main/section[1]/div[2]/div[1]/span/div/div/div[1]')"
   ]
  },
  {
   "cell_type": "code",
   "execution_count": 42,
   "id": "3c9a782b",
   "metadata": {},
   "outputs": [],
   "source": [
    "select_btn.click()"
   ]
  },
  {
   "cell_type": "code",
   "execution_count": 60,
   "id": "a47a2373",
   "metadata": {},
   "outputs": [
    {
     "data": {
      "text/plain": [
       "10"
      ]
     },
     "execution_count": 60,
     "metadata": {},
     "output_type": "execute_result"
    }
   ],
   "source": [
    "#Extracting company name\n",
    "company_name=[]\n",
    "\n",
    "name_tag=driver.find_elements_by_xpath('//div[@class=\"name\"]')\n",
    "for r in name_tag:\n",
    "    company_name.append(r.text.split('\\n')[0])\n",
    "               \n",
    "len(company_name)"
   ]
  },
  {
   "cell_type": "code",
   "execution_count": 62,
   "id": "890ddc1c",
   "metadata": {},
   "outputs": [
    {
     "data": {
      "text/plain": [
       "10"
      ]
     },
     "execution_count": 62,
     "metadata": {},
     "output_type": "execute_result"
    }
   ],
   "source": [
    "#Extracting total salary record\n",
    "total_salary=[]\n",
    "\n",
    "salary_tag=driver.find_elements_by_xpath('//div[@class=\"name\"]')\n",
    "for r in salary_tag:\n",
    "    total_salary.append(r.text.split('\\n')[1])\n",
    "               \n",
    "len(total_salary)"
   ]
  },
  {
   "cell_type": "code",
   "execution_count": 67,
   "id": "4aaec154",
   "metadata": {},
   "outputs": [
    {
     "data": {
      "text/plain": [
       "10"
      ]
     },
     "execution_count": 67,
     "metadata": {},
     "output_type": "execute_result"
    }
   ],
   "source": [
    "#Extracting year of exp\n",
    "total_exp=[]\n",
    "\n",
    "exp_tag=driver.find_elements_by_xpath('//div[@class=\"salaries sbold-list-header\"]')\n",
    "for r in exp_tag:\n",
    "    total_exp.append(r.text.split('\\n . \\n')[1])\n",
    "               \n",
    "len(total_exp)"
   ]
  },
  {
   "cell_type": "code",
   "execution_count": 71,
   "id": "aeebf488",
   "metadata": {},
   "outputs": [
    {
     "data": {
      "text/plain": [
       "10"
      ]
     },
     "execution_count": 71,
     "metadata": {},
     "output_type": "execute_result"
    }
   ],
   "source": [
    "#Extracting average salary\n",
    "avg_sal=[]\n",
    "\n",
    "avg_tag=driver.find_elements_by_xpath('//p[@class=\"averageCtc\"]')\n",
    "for r in avg_tag:\n",
    "    avg_sal.append(r.text)\n",
    "               \n",
    "len(avg_sal)"
   ]
  },
  {
   "cell_type": "code",
   "execution_count": 90,
   "id": "c0c2f80a",
   "metadata": {},
   "outputs": [
    {
     "data": {
      "text/plain": [
       "10"
      ]
     },
     "execution_count": 90,
     "metadata": {},
     "output_type": "execute_result"
    }
   ],
   "source": [
    "#Extracting minimum salary\n",
    "min_sal=[]\n",
    "\n",
    "min_tag=driver.find_elements_by_xpath('//div[@class=\"salary-values\"]')\n",
    "for r in min_tag:\n",
    "    min_sal.append(r.text.split('\\n')[0])\n",
    "min_sal=min_sal[0:10]               \n",
    "len(min_sal)"
   ]
  },
  {
   "cell_type": "code",
   "execution_count": 85,
   "id": "e9d972f0",
   "metadata": {},
   "outputs": [
    {
     "data": {
      "text/plain": [
       "10"
      ]
     },
     "execution_count": 85,
     "metadata": {},
     "output_type": "execute_result"
    }
   ],
   "source": [
    "#Extracting minimum salary\n",
    "max_sal=[]\n",
    "\n",
    "max_tag=driver.find_elements_by_xpath('//div[@class=\"salary-values\"]')\n",
    "for r in max_tag:\n",
    "    max_sal.append(r.text.split('\\n')[1])\n",
    "               \n",
    "max_sal=max_sal[0:10]              \n",
    "len(max_sal)"
   ]
  },
  {
   "cell_type": "code",
   "execution_count": 91,
   "id": "b089c74a",
   "metadata": {},
   "outputs": [],
   "source": [
    "salary_data=pd.DataFrame({'Name': company_name,\n",
    "                          'Total_Salary':total_salary,\n",
    "                          'Total_Exp': total_exp,\n",
    "                           'Avg_Salary':avg_sal,\n",
    "                          'Min_Salary':min_sal,\n",
    "                          'Max_Salary':max_sal})"
   ]
  },
  {
   "cell_type": "code",
   "execution_count": 92,
   "id": "2c1af78b",
   "metadata": {},
   "outputs": [
    {
     "data": {
      "text/html": [
       "<div>\n",
       "<style scoped>\n",
       "    .dataframe tbody tr th:only-of-type {\n",
       "        vertical-align: middle;\n",
       "    }\n",
       "\n",
       "    .dataframe tbody tr th {\n",
       "        vertical-align: top;\n",
       "    }\n",
       "\n",
       "    .dataframe thead th {\n",
       "        text-align: right;\n",
       "    }\n",
       "</style>\n",
       "<table border=\"1\" class=\"dataframe\">\n",
       "  <thead>\n",
       "    <tr style=\"text-align: right;\">\n",
       "      <th></th>\n",
       "      <th>Name</th>\n",
       "      <th>Total_Salary</th>\n",
       "      <th>Total_Exp</th>\n",
       "      <th>Avg_Salary</th>\n",
       "      <th>Min_Salary</th>\n",
       "      <th>Max_Salary</th>\n",
       "    </tr>\n",
       "  </thead>\n",
       "  <tbody>\n",
       "    <tr>\n",
       "      <th>0</th>\n",
       "      <td>Walmart</td>\n",
       "      <td>based on 10 salaries</td>\n",
       "      <td>3 yrs exp</td>\n",
       "      <td>₹ 28.7L</td>\n",
       "      <td>₹ 17.7L</td>\n",
       "      <td>₹ 35.0L</td>\n",
       "    </tr>\n",
       "    <tr>\n",
       "      <th>1</th>\n",
       "      <td>Ab Inbev</td>\n",
       "      <td>based on 22 salaries</td>\n",
       "      <td>3-4 yrs exp</td>\n",
       "      <td>₹ 19.5L</td>\n",
       "      <td>₹ 15.0L</td>\n",
       "      <td>₹ 25.0L</td>\n",
       "    </tr>\n",
       "    <tr>\n",
       "      <th>2</th>\n",
       "      <td>ZS</td>\n",
       "      <td>based on 14 salaries</td>\n",
       "      <td>2 yrs exp</td>\n",
       "      <td>₹ 15.8L</td>\n",
       "      <td>₹ 9.8L</td>\n",
       "      <td>₹ 20.0L</td>\n",
       "    </tr>\n",
       "    <tr>\n",
       "      <th>3</th>\n",
       "      <td>Fractal Analytics</td>\n",
       "      <td>based on 72 salaries</td>\n",
       "      <td>2-4 yrs exp</td>\n",
       "      <td>₹ 15.0L</td>\n",
       "      <td>₹ 9.5L</td>\n",
       "      <td>₹ 22.0L</td>\n",
       "    </tr>\n",
       "    <tr>\n",
       "      <th>4</th>\n",
       "      <td>Optum</td>\n",
       "      <td>based on 23 salaries</td>\n",
       "      <td>3-4 yrs exp</td>\n",
       "      <td>₹ 15.0L</td>\n",
       "      <td>₹ 11.0L</td>\n",
       "      <td>₹ 21.3L</td>\n",
       "    </tr>\n",
       "    <tr>\n",
       "      <th>5</th>\n",
       "      <td>UnitedHealth</td>\n",
       "      <td>based on 49 salaries</td>\n",
       "      <td>2-4 yrs exp</td>\n",
       "      <td>₹ 13.5L</td>\n",
       "      <td>₹ 7.2L</td>\n",
       "      <td>₹ 20.5L</td>\n",
       "    </tr>\n",
       "    <tr>\n",
       "      <th>6</th>\n",
       "      <td>Tiger Analytics</td>\n",
       "      <td>based on 27 salaries</td>\n",
       "      <td>3-4 yrs exp</td>\n",
       "      <td>₹ 13.5L</td>\n",
       "      <td>₹ 8.3L</td>\n",
       "      <td>₹ 18.5L</td>\n",
       "    </tr>\n",
       "    <tr>\n",
       "      <th>7</th>\n",
       "      <td>Verizon</td>\n",
       "      <td>based on 14 salaries</td>\n",
       "      <td>4 yrs exp</td>\n",
       "      <td>₹ 12.7L</td>\n",
       "      <td>₹ 10.0L</td>\n",
       "      <td>₹ 21.0L</td>\n",
       "    </tr>\n",
       "    <tr>\n",
       "      <th>8</th>\n",
       "      <td>Ganit Business Solutions</td>\n",
       "      <td>based on 13 salaries</td>\n",
       "      <td>4 yrs exp</td>\n",
       "      <td>₹ 12.4L</td>\n",
       "      <td>₹ 8.5L</td>\n",
       "      <td>₹ 15.0L</td>\n",
       "    </tr>\n",
       "    <tr>\n",
       "      <th>9</th>\n",
       "      <td>Ericsson</td>\n",
       "      <td>based on 42 salaries</td>\n",
       "      <td>3-4 yrs exp</td>\n",
       "      <td>₹ 11.9L</td>\n",
       "      <td>₹ 5.8L</td>\n",
       "      <td>₹ 21.5L</td>\n",
       "    </tr>\n",
       "  </tbody>\n",
       "</table>\n",
       "</div>"
      ],
      "text/plain": [
       "                       Name          Total_Salary    Total_Exp Avg_Salary  \\\n",
       "0                   Walmart  based on 10 salaries    3 yrs exp    ₹ 28.7L   \n",
       "1                  Ab Inbev  based on 22 salaries  3-4 yrs exp    ₹ 19.5L   \n",
       "2                        ZS  based on 14 salaries    2 yrs exp    ₹ 15.8L   \n",
       "3         Fractal Analytics  based on 72 salaries  2-4 yrs exp    ₹ 15.0L   \n",
       "4                     Optum  based on 23 salaries  3-4 yrs exp    ₹ 15.0L   \n",
       "5              UnitedHealth  based on 49 salaries  2-4 yrs exp    ₹ 13.5L   \n",
       "6           Tiger Analytics  based on 27 salaries  3-4 yrs exp    ₹ 13.5L   \n",
       "7                   Verizon  based on 14 salaries    4 yrs exp    ₹ 12.7L   \n",
       "8  Ganit Business Solutions  based on 13 salaries    4 yrs exp    ₹ 12.4L   \n",
       "9                  Ericsson  based on 42 salaries  3-4 yrs exp    ₹ 11.9L   \n",
       "\n",
       "  Min_Salary Max_Salary  \n",
       "0    ₹ 17.7L    ₹ 35.0L  \n",
       "1    ₹ 15.0L    ₹ 25.0L  \n",
       "2     ₹ 9.8L    ₹ 20.0L  \n",
       "3     ₹ 9.5L    ₹ 22.0L  \n",
       "4    ₹ 11.0L    ₹ 21.3L  \n",
       "5     ₹ 7.2L    ₹ 20.5L  \n",
       "6     ₹ 8.3L    ₹ 18.5L  \n",
       "7    ₹ 10.0L    ₹ 21.0L  \n",
       "8     ₹ 8.5L    ₹ 15.0L  \n",
       "9     ₹ 5.8L    ₹ 21.5L  "
      ]
     },
     "execution_count": 92,
     "metadata": {},
     "output_type": "execute_result"
    }
   ],
   "source": [
    "salary_data"
   ]
  },
  {
   "cell_type": "code",
   "execution_count": null,
   "id": "7043b296",
   "metadata": {},
   "outputs": [],
   "source": []
  }
 ],
 "metadata": {
  "kernelspec": {
   "display_name": "Python 3",
   "language": "python",
   "name": "python3"
  },
  "language_info": {
   "codemirror_mode": {
    "name": "ipython",
    "version": 3
   },
   "file_extension": ".py",
   "mimetype": "text/x-python",
   "name": "python",
   "nbconvert_exporter": "python",
   "pygments_lexer": "ipython3",
   "version": "3.8.8"
  }
 },
 "nbformat": 4,
 "nbformat_minor": 5
}
