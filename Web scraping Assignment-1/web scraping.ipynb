{
 "cells": [
  {
   "cell_type": "code",
   "execution_count": 1,
   "id": "32045406",
   "metadata": {},
   "outputs": [
    {
     "name": "stdout",
     "output_type": "stream",
     "text": [
      "Collecting bs4\n",
      "  Downloading bs4-0.0.1.tar.gz (1.1 kB)\n",
      "Requirement already satisfied: beautifulsoup4 in c:\\users\\91964\\anaconda3\\lib\\site-packages (from bs4) (4.9.3)\n",
      "Requirement already satisfied: soupsieve>1.2 in c:\\users\\91964\\anaconda3\\lib\\site-packages (from beautifulsoup4->bs4) (2.2.1)\n",
      "Building wheels for collected packages: bs4\n",
      "  Building wheel for bs4 (setup.py): started\n",
      "  Building wheel for bs4 (setup.py): finished with status 'done'\n",
      "  Created wheel for bs4: filename=bs4-0.0.1-py3-none-any.whl size=1273 sha256=a2b67eb1e68200f233e658edab04ec4b200cdab87448aa63b99794c70af45b75\n",
      "  Stored in directory: c:\\users\\91964\\appdata\\local\\pip\\cache\\wheels\\75\\78\\21\\68b124549c9bdc94f822c02fb9aa3578a669843f9767776bca\n",
      "Successfully built bs4\n",
      "Installing collected packages: bs4\n",
      "Successfully installed bs4-0.0.1\n",
      "Requirement already satisfied: requests in c:\\users\\91964\\anaconda3\\lib\\site-packages (2.25.1)\n",
      "Requirement already satisfied: certifi>=2017.4.17 in c:\\users\\91964\\anaconda3\\lib\\site-packages (from requests) (2020.12.5)\n",
      "Requirement already satisfied: urllib3<1.27,>=1.21.1 in c:\\users\\91964\\anaconda3\\lib\\site-packages (from requests) (1.26.4)\n",
      "Requirement already satisfied: idna<3,>=2.5 in c:\\users\\91964\\anaconda3\\lib\\site-packages (from requests) (2.10)\n",
      "Requirement already satisfied: chardet<5,>=3.0.2 in c:\\users\\91964\\anaconda3\\lib\\site-packages (from requests) (4.0.0)\n"
     ]
    }
   ],
   "source": [
    "!pip install bs4\n",
    "!pip install requests"
   ]
  },
  {
   "cell_type": "code",
   "execution_count": 1,
   "id": "79628b05",
   "metadata": {},
   "outputs": [],
   "source": [
    "from bs4 import BeautifulSoup\n",
    "import requests\n",
    "import pandas as pd"
   ]
  },
  {
   "cell_type": "markdown",
   "id": "466cf4d3",
   "metadata": {},
   "source": [
    "1) Write a python program to display all the header tags from wikipedia.org"
   ]
  },
  {
   "cell_type": "code",
   "execution_count": 2,
   "id": "1efaf4b5",
   "metadata": {},
   "outputs": [],
   "source": [
    "page=requests.get('https://en.wikipedia.org/wiki/Main_Page')"
   ]
  },
  {
   "cell_type": "code",
   "execution_count": 3,
   "id": "c92258a4",
   "metadata": {},
   "outputs": [
    {
     "data": {
      "text/plain": [
       "<Response [200]>"
      ]
     },
     "execution_count": 3,
     "metadata": {},
     "output_type": "execute_result"
    }
   ],
   "source": [
    "page"
   ]
  },
  {
   "cell_type": "code",
   "execution_count": 4,
   "id": "fb5c454a",
   "metadata": {},
   "outputs": [],
   "source": [
    "wiki=BeautifulSoup(page.content)"
   ]
  },
  {
   "cell_type": "code",
   "execution_count": 5,
   "id": "cc6ed8b4",
   "metadata": {},
   "outputs": [],
   "source": [
    "titles=[]"
   ]
  },
  {
   "cell_type": "code",
   "execution_count": 6,
   "id": "55c78253",
   "metadata": {},
   "outputs": [
    {
     "data": {
      "text/plain": [
       "[\"From today's featured article\",\n",
       " 'Did you know\\xa0...',\n",
       " 'In the news',\n",
       " 'On this day',\n",
       " \"From today's featured list\",\n",
       " \"Today's featured picture\",\n",
       " 'Other areas of Wikipedia',\n",
       " \"Wikipedia's sister projects\",\n",
       " 'Wikipedia languages']"
      ]
     },
     "execution_count": 6,
     "metadata": {},
     "output_type": "execute_result"
    }
   ],
   "source": [
    "for i in wiki.find_all('span',class_='mw-headline'):\n",
    "    titles.append(i.text)\n",
    "titles\n"
   ]
  },
  {
   "cell_type": "code",
   "execution_count": 7,
   "id": "73df6a84",
   "metadata": {},
   "outputs": [
    {
     "data": {
      "text/html": [
       "<div>\n",
       "<style scoped>\n",
       "    .dataframe tbody tr th:only-of-type {\n",
       "        vertical-align: middle;\n",
       "    }\n",
       "\n",
       "    .dataframe tbody tr th {\n",
       "        vertical-align: top;\n",
       "    }\n",
       "\n",
       "    .dataframe thead th {\n",
       "        text-align: right;\n",
       "    }\n",
       "</style>\n",
       "<table border=\"1\" class=\"dataframe\">\n",
       "  <thead>\n",
       "    <tr style=\"text-align: right;\">\n",
       "      <th></th>\n",
       "      <th>Header Tags</th>\n",
       "    </tr>\n",
       "  </thead>\n",
       "  <tbody>\n",
       "    <tr>\n",
       "      <th>0</th>\n",
       "      <td>From today's featured article</td>\n",
       "    </tr>\n",
       "    <tr>\n",
       "      <th>1</th>\n",
       "      <td>Did you know ...</td>\n",
       "    </tr>\n",
       "    <tr>\n",
       "      <th>2</th>\n",
       "      <td>In the news</td>\n",
       "    </tr>\n",
       "    <tr>\n",
       "      <th>3</th>\n",
       "      <td>On this day</td>\n",
       "    </tr>\n",
       "    <tr>\n",
       "      <th>4</th>\n",
       "      <td>From today's featured list</td>\n",
       "    </tr>\n",
       "    <tr>\n",
       "      <th>5</th>\n",
       "      <td>Today's featured picture</td>\n",
       "    </tr>\n",
       "    <tr>\n",
       "      <th>6</th>\n",
       "      <td>Other areas of Wikipedia</td>\n",
       "    </tr>\n",
       "    <tr>\n",
       "      <th>7</th>\n",
       "      <td>Wikipedia's sister projects</td>\n",
       "    </tr>\n",
       "    <tr>\n",
       "      <th>8</th>\n",
       "      <td>Wikipedia languages</td>\n",
       "    </tr>\n",
       "  </tbody>\n",
       "</table>\n",
       "</div>"
      ],
      "text/plain": [
       "                     Header Tags\n",
       "0  From today's featured article\n",
       "1               Did you know ...\n",
       "2                    In the news\n",
       "3                    On this day\n",
       "4     From today's featured list\n",
       "5       Today's featured picture\n",
       "6       Other areas of Wikipedia\n",
       "7    Wikipedia's sister projects\n",
       "8            Wikipedia languages"
      ]
     },
     "execution_count": 7,
     "metadata": {},
     "output_type": "execute_result"
    }
   ],
   "source": [
    "#Making DataFrame\n",
    "wikipedia=pd.DataFrame({'Header Tags':titles})\n",
    "wikipedia"
   ]
  },
  {
   "cell_type": "markdown",
   "id": "7f05dd87",
   "metadata": {},
   "source": [
    "-----"
   ]
  },
  {
   "cell_type": "markdown",
   "id": "ac3c4c57",
   "metadata": {},
   "source": [
    "-----"
   ]
  },
  {
   "cell_type": "markdown",
   "id": "00682db1",
   "metadata": {},
   "source": [
    "2) Write a python program to display IMDB’s Top rated 100 movies’ data (i.e. name, rating, year of release)\n",
    "and make data frame."
   ]
  },
  {
   "cell_type": "code",
   "execution_count": 8,
   "id": "e748db5b",
   "metadata": {},
   "outputs": [],
   "source": [
    "page=requests.get('https://www.imdb.com/list/ls091520106/')"
   ]
  },
  {
   "cell_type": "code",
   "execution_count": 9,
   "id": "1743c9f0",
   "metadata": {},
   "outputs": [
    {
     "data": {
      "text/plain": [
       "<Response [200]>"
      ]
     },
     "execution_count": 9,
     "metadata": {},
     "output_type": "execute_result"
    }
   ],
   "source": [
    "page"
   ]
  },
  {
   "cell_type": "code",
   "execution_count": 10,
   "id": "24ff781d",
   "metadata": {},
   "outputs": [],
   "source": [
    "imdb=BeautifulSoup(page.content)"
   ]
  },
  {
   "cell_type": "code",
   "execution_count": 11,
   "id": "9213e679",
   "metadata": {},
   "outputs": [
    {
     "data": {
      "text/plain": [
       "['The Shawshank Redemption',\n",
       " 'The Godfather',\n",
       " 'The Godfather: Part II',\n",
       " 'The Dark Knight',\n",
       " '12 Angry Men',\n",
       " \"Schindler's List\",\n",
       " 'The Lord of the Rings: The Return of the King',\n",
       " 'Pulp Fiction',\n",
       " 'Il buono, il brutto, il cattivo',\n",
       " 'Fight Club',\n",
       " 'Joker',\n",
       " 'The Lord of the Rings: The Fellowship of the Ring',\n",
       " 'Forrest Gump',\n",
       " 'Inception',\n",
       " 'Star Wars: Episode V - The Empire Strikes Back',\n",
       " 'The Lord of the Rings: The Two Towers',\n",
       " 'The Matrix',\n",
       " \"One Flew Over the Cuckoo's Nest\",\n",
       " 'Goodfellas',\n",
       " 'Shichinin no samurai',\n",
       " 'Se7en',\n",
       " 'Cidade de Deus',\n",
       " 'La vita è bella',\n",
       " 'The Silence of the Lambs',\n",
       " 'Star Wars',\n",
       " \"It's a Wonderful Life\",\n",
       " 'Saving Private Ryan',\n",
       " 'Sen to Chihiro no kamikakushi',\n",
       " 'The Green Mile',\n",
       " 'Léon',\n",
       " 'Seppuku',\n",
       " 'Interstellar',\n",
       " 'The Usual Suspects',\n",
       " 'The Lion King',\n",
       " 'American History X',\n",
       " 'Back to the Future',\n",
       " 'The Pianist',\n",
       " 'Modern Times',\n",
       " 'Terminator 2: Judgment Day',\n",
       " 'The Intouchables',\n",
       " 'Psycho',\n",
       " 'Gladiator',\n",
       " 'City Lights',\n",
       " 'The Departed',\n",
       " 'Whiplash',\n",
       " 'Once Upon a Time in the West',\n",
       " 'The Prestige',\n",
       " 'Avengers: Endgame',\n",
       " 'Casablanca',\n",
       " 'Hotaru no haka',\n",
       " 'Rear Window',\n",
       " 'Nuovo Cinema Paradiso',\n",
       " 'Alien',\n",
       " 'Raiders of the Lost Ark',\n",
       " 'Memento',\n",
       " 'Apocalypse Now',\n",
       " 'The Great Dictator',\n",
       " 'The Lives of Others',\n",
       " 'Avengers: Infinity War',\n",
       " 'Django Unchained',\n",
       " 'Spider-Man: Into the Spider-Verse',\n",
       " 'The Shining',\n",
       " 'Paths of Glory',\n",
       " 'WALL·E',\n",
       " 'Sunset Blvd.',\n",
       " 'Dr. Strangelove or: How I Learned to Stop Worrying and Love the Bomb',\n",
       " 'Mononoke-hime',\n",
       " 'Oldeuboi',\n",
       " 'Witness for the Prosecution',\n",
       " 'The Dark Knight Rises',\n",
       " 'Once Upon a Time in America',\n",
       " 'Gisaengchung',\n",
       " 'Aliens',\n",
       " 'American Beauty',\n",
       " 'Coco',\n",
       " 'Kimi no na wa.',\n",
       " 'Braveheart',\n",
       " 'Das Boot',\n",
       " '3 Idiots',\n",
       " 'Taare Zameen Par',\n",
       " 'Star Wars: Episode VI - Return of the Jedi',\n",
       " 'Toy Story',\n",
       " 'Reservoir Dogs',\n",
       " 'Amadeus',\n",
       " 'Dangal',\n",
       " 'Good Will Hunting',\n",
       " 'Inglourious Basterds',\n",
       " 'M - Eine Stadt sucht einen Mörder',\n",
       " 'Requiem for a Dream',\n",
       " '2001: A Space Odyssey',\n",
       " 'Vertigo',\n",
       " 'Eternal Sunshine of the Spotless Mind',\n",
       " 'Citizen Kane',\n",
       " 'Full Metal Jacket',\n",
       " 'Jagten',\n",
       " 'North by Northwest',\n",
       " 'A Clockwork Orange',\n",
       " 'Snatch',\n",
       " \"Le fabuleux destin d'Amélie Poulain\",\n",
       " 'The Kid']"
      ]
     },
     "execution_count": 11,
     "metadata": {},
     "output_type": "execute_result"
    }
   ],
   "source": [
    "moviename=[]\n",
    "for i in imdb.find_all('h3', class_=\"lister-item-header\"):\n",
    "    moviename.append(i.text.split('\\n')[2])\n",
    "    \n",
    "moviename"
   ]
  },
  {
   "cell_type": "code",
   "execution_count": 12,
   "id": "c2f0758a",
   "metadata": {},
   "outputs": [
    {
     "data": {
      "text/plain": [
       "['9.3',\n",
       " '9.2',\n",
       " '9',\n",
       " '9',\n",
       " '9',\n",
       " '8.9',\n",
       " '8.9',\n",
       " '8.9',\n",
       " '8.8',\n",
       " '8.8',\n",
       " '8.4',\n",
       " '8.8',\n",
       " '8.8',\n",
       " '8.8',\n",
       " '8.7',\n",
       " '8.7',\n",
       " '8.7',\n",
       " '8.7',\n",
       " '8.7',\n",
       " '8.6',\n",
       " '8.6',\n",
       " '8.6',\n",
       " '8.6',\n",
       " '8.6',\n",
       " '8.6',\n",
       " '8.6',\n",
       " '8.6',\n",
       " '8.6',\n",
       " '8.6',\n",
       " '8.5',\n",
       " '8.6',\n",
       " '8.6',\n",
       " '8.5',\n",
       " '8.5',\n",
       " '8.5',\n",
       " '8.5',\n",
       " '8.5',\n",
       " '8.5',\n",
       " '8.5',\n",
       " '8.5',\n",
       " '8.5',\n",
       " '8.5',\n",
       " '8.5',\n",
       " '8.5',\n",
       " '8.5',\n",
       " '8.5',\n",
       " '8.5',\n",
       " '8.4',\n",
       " '8.5',\n",
       " '8.5',\n",
       " '8.5',\n",
       " '8.5',\n",
       " '8.4',\n",
       " '8.4',\n",
       " '8.4',\n",
       " '8.4',\n",
       " '8.4',\n",
       " '8.4',\n",
       " '8.4',\n",
       " '8.4',\n",
       " '8.4',\n",
       " '8.4',\n",
       " '8.4',\n",
       " '8.4',\n",
       " '8.4',\n",
       " '8.4',\n",
       " '8.4',\n",
       " '8.4',\n",
       " '8.4',\n",
       " '8.4',\n",
       " '8.3',\n",
       " '8.6',\n",
       " '8.3',\n",
       " '8.3',\n",
       " '8.4',\n",
       " '8.4',\n",
       " '8.3',\n",
       " '8.3',\n",
       " '8.4',\n",
       " '8.4',\n",
       " '8.3',\n",
       " '8.3',\n",
       " '8.3',\n",
       " '8.3',\n",
       " '8.4',\n",
       " '8.3',\n",
       " '8.3',\n",
       " '8.3',\n",
       " '8.3',\n",
       " '8.3',\n",
       " '8.3',\n",
       " '8.3',\n",
       " '8.3',\n",
       " '8.3',\n",
       " '8.3',\n",
       " '8.3',\n",
       " '8.3',\n",
       " '8.2',\n",
       " '8.3',\n",
       " '8.3']"
      ]
     },
     "execution_count": 12,
     "metadata": {},
     "output_type": "execute_result"
    }
   ],
   "source": [
    "rating=[]\n",
    "for i in imdb.find_all('div',class_=\"ipl-rating-star small\"):\n",
    "    rating.append(i.text.replace ('\\n',''))\n",
    "\n",
    "rating"
   ]
  },
  {
   "cell_type": "code",
   "execution_count": 13,
   "id": "0735deb7",
   "metadata": {},
   "outputs": [
    {
     "data": {
      "text/plain": [
       "['1994',\n",
       " '1972',\n",
       " '1974',\n",
       " '2008',\n",
       " '1957',\n",
       " '1993',\n",
       " '2003',\n",
       " '1994',\n",
       " '1966',\n",
       " '1999',\n",
       " '2019',\n",
       " '2001',\n",
       " '1994',\n",
       " '2010',\n",
       " '1980',\n",
       " '2002',\n",
       " '1999',\n",
       " '1975',\n",
       " '1990',\n",
       " '1954',\n",
       " '1995',\n",
       " '2002',\n",
       " '1997',\n",
       " '1991',\n",
       " '1977',\n",
       " '1946',\n",
       " '1998',\n",
       " '2001',\n",
       " '1999',\n",
       " '1994',\n",
       " '1962',\n",
       " '2014',\n",
       " '1995',\n",
       " '1994',\n",
       " '1998',\n",
       " '1985',\n",
       " '2002',\n",
       " '1936',\n",
       " '1991',\n",
       " '2011',\n",
       " '1960',\n",
       " '2000',\n",
       " '1931',\n",
       " '2006',\n",
       " '2014',\n",
       " '1968',\n",
       " '2006',\n",
       " '2019',\n",
       " '1942',\n",
       " '1988',\n",
       " '1954',\n",
       " '1988',\n",
       " '1979',\n",
       " '1981',\n",
       " '2000',\n",
       " '1979',\n",
       " '1940',\n",
       " '2006',\n",
       " '2018',\n",
       " '2012',\n",
       " '2018',\n",
       " '1980',\n",
       " '1957',\n",
       " '2008',\n",
       " '1950',\n",
       " '1964',\n",
       " '1997',\n",
       " '2003',\n",
       " '1957',\n",
       " '2012',\n",
       " '1984',\n",
       " '2019',\n",
       " '1986',\n",
       " '1999',\n",
       " '2017',\n",
       " '2016',\n",
       " '1995',\n",
       " '1981',\n",
       " '2009',\n",
       " '2007',\n",
       " '1983',\n",
       " '1995',\n",
       " '1992',\n",
       " '1984',\n",
       " '2016',\n",
       " '1997',\n",
       " '2009',\n",
       " '1931',\n",
       " '2000',\n",
       " '1968',\n",
       " '1958',\n",
       " '2004',\n",
       " '1941',\n",
       " '1987',\n",
       " '2012',\n",
       " '1959',\n",
       " '1971',\n",
       " '2000',\n",
       " '2001',\n",
       " '1921']"
      ]
     },
     "execution_count": 13,
     "metadata": {},
     "output_type": "execute_result"
    }
   ],
   "source": [
    "release=[]\n",
    "for i in imdb.find_all('span',class_=\"lister-item-year text-muted unbold\"):\n",
    "    release.append(i.text[-5:-1:1])\n",
    "release\n",
    "\n"
   ]
  },
  {
   "cell_type": "code",
   "execution_count": 14,
   "id": "5d72ae28",
   "metadata": {},
   "outputs": [
    {
     "data": {
      "text/plain": [
       "(100, 100, 100)"
      ]
     },
     "execution_count": 14,
     "metadata": {},
     "output_type": "execute_result"
    }
   ],
   "source": [
    "len(moviename),len(rating),len(release)"
   ]
  },
  {
   "cell_type": "code",
   "execution_count": 15,
   "id": "a9c5b838",
   "metadata": {},
   "outputs": [],
   "source": [
    "#Making DataFrame\n",
    "df=pd.DataFrame({ 'Moviename': moviename,\n",
    "                  'Rating': rating,\n",
    "                  'Year of Release': release})"
   ]
  },
  {
   "cell_type": "code",
   "execution_count": 16,
   "id": "1c791555",
   "metadata": {},
   "outputs": [
    {
     "data": {
      "text/html": [
       "<div>\n",
       "<style scoped>\n",
       "    .dataframe tbody tr th:only-of-type {\n",
       "        vertical-align: middle;\n",
       "    }\n",
       "\n",
       "    .dataframe tbody tr th {\n",
       "        vertical-align: top;\n",
       "    }\n",
       "\n",
       "    .dataframe thead th {\n",
       "        text-align: right;\n",
       "    }\n",
       "</style>\n",
       "<table border=\"1\" class=\"dataframe\">\n",
       "  <thead>\n",
       "    <tr style=\"text-align: right;\">\n",
       "      <th></th>\n",
       "      <th>Moviename</th>\n",
       "      <th>Rating</th>\n",
       "      <th>Year of Release</th>\n",
       "    </tr>\n",
       "  </thead>\n",
       "  <tbody>\n",
       "    <tr>\n",
       "      <th>0</th>\n",
       "      <td>The Shawshank Redemption</td>\n",
       "      <td>9.3</td>\n",
       "      <td>1994</td>\n",
       "    </tr>\n",
       "    <tr>\n",
       "      <th>1</th>\n",
       "      <td>The Godfather</td>\n",
       "      <td>9.2</td>\n",
       "      <td>1972</td>\n",
       "    </tr>\n",
       "    <tr>\n",
       "      <th>2</th>\n",
       "      <td>The Godfather: Part II</td>\n",
       "      <td>9</td>\n",
       "      <td>1974</td>\n",
       "    </tr>\n",
       "    <tr>\n",
       "      <th>3</th>\n",
       "      <td>The Dark Knight</td>\n",
       "      <td>9</td>\n",
       "      <td>2008</td>\n",
       "    </tr>\n",
       "    <tr>\n",
       "      <th>4</th>\n",
       "      <td>12 Angry Men</td>\n",
       "      <td>9</td>\n",
       "      <td>1957</td>\n",
       "    </tr>\n",
       "    <tr>\n",
       "      <th>...</th>\n",
       "      <td>...</td>\n",
       "      <td>...</td>\n",
       "      <td>...</td>\n",
       "    </tr>\n",
       "    <tr>\n",
       "      <th>95</th>\n",
       "      <td>North by Northwest</td>\n",
       "      <td>8.3</td>\n",
       "      <td>1959</td>\n",
       "    </tr>\n",
       "    <tr>\n",
       "      <th>96</th>\n",
       "      <td>A Clockwork Orange</td>\n",
       "      <td>8.3</td>\n",
       "      <td>1971</td>\n",
       "    </tr>\n",
       "    <tr>\n",
       "      <th>97</th>\n",
       "      <td>Snatch</td>\n",
       "      <td>8.2</td>\n",
       "      <td>2000</td>\n",
       "    </tr>\n",
       "    <tr>\n",
       "      <th>98</th>\n",
       "      <td>Le fabuleux destin d'Amélie Poulain</td>\n",
       "      <td>8.3</td>\n",
       "      <td>2001</td>\n",
       "    </tr>\n",
       "    <tr>\n",
       "      <th>99</th>\n",
       "      <td>The Kid</td>\n",
       "      <td>8.3</td>\n",
       "      <td>1921</td>\n",
       "    </tr>\n",
       "  </tbody>\n",
       "</table>\n",
       "<p>100 rows × 3 columns</p>\n",
       "</div>"
      ],
      "text/plain": [
       "                              Moviename Rating Year of Release\n",
       "0              The Shawshank Redemption    9.3            1994\n",
       "1                         The Godfather    9.2            1972\n",
       "2                The Godfather: Part II      9            1974\n",
       "3                       The Dark Knight      9            2008\n",
       "4                          12 Angry Men      9            1957\n",
       "..                                  ...    ...             ...\n",
       "95                   North by Northwest    8.3            1959\n",
       "96                   A Clockwork Orange    8.3            1971\n",
       "97                               Snatch    8.2            2000\n",
       "98  Le fabuleux destin d'Amélie Poulain    8.3            2001\n",
       "99                              The Kid    8.3            1921\n",
       "\n",
       "[100 rows x 3 columns]"
      ]
     },
     "execution_count": 16,
     "metadata": {},
     "output_type": "execute_result"
    }
   ],
   "source": [
    "df"
   ]
  },
  {
   "cell_type": "markdown",
   "id": "ef2c0413",
   "metadata": {},
   "source": [
    "-----"
   ]
  },
  {
   "cell_type": "markdown",
   "id": "3c64eaa3",
   "metadata": {},
   "source": [
    "-----"
   ]
  },
  {
   "cell_type": "markdown",
   "id": "3d397275",
   "metadata": {},
   "source": [
    "3) Write a python program to display IMDB’s Top rated 100 Indian movies’ data (i.e. name, rating, year of\n",
    "release) and make data frame"
   ]
  },
  {
   "cell_type": "code",
   "execution_count": 17,
   "id": "b3a26149",
   "metadata": {},
   "outputs": [],
   "source": [
    "page=requests.get(\"https://www.imdb.com/list/ls009997493\")"
   ]
  },
  {
   "cell_type": "code",
   "execution_count": 18,
   "id": "dd3a1e37",
   "metadata": {},
   "outputs": [
    {
     "data": {
      "text/plain": [
       "<Response [200]>"
      ]
     },
     "execution_count": 18,
     "metadata": {},
     "output_type": "execute_result"
    }
   ],
   "source": [
    "page"
   ]
  },
  {
   "cell_type": "code",
   "execution_count": 19,
   "id": "9f796b62",
   "metadata": {},
   "outputs": [],
   "source": [
    "imdb_indian=BeautifulSoup(page.content)"
   ]
  },
  {
   "cell_type": "code",
   "execution_count": 20,
   "id": "82e7dd52",
   "metadata": {},
   "outputs": [
    {
     "data": {
      "text/plain": [
       "['Rang De Basanti',\n",
       " '3 Idiots',\n",
       " 'Taare Zameen Par',\n",
       " 'Dil Chahta Hai',\n",
       " 'Swades: We, the People',\n",
       " 'Lagaan: Once Upon a Time in India',\n",
       " 'Gangs of Wasseypur',\n",
       " 'Barfi!',\n",
       " 'Anand',\n",
       " 'Munna Bhai M.B.B.S.',\n",
       " 'A Wednesday',\n",
       " 'Andaz Apna Apna',\n",
       " 'Sholay',\n",
       " 'Bhaag Milkha Bhaag',\n",
       " 'Hera Pheri',\n",
       " 'Udaan',\n",
       " 'Kahaani',\n",
       " 'Black',\n",
       " 'Chak De! India',\n",
       " 'Khosla Ka Ghosla!',\n",
       " 'Jo Jeeta Wohi Sikandar',\n",
       " 'Zindagi Na Milegi Dobara',\n",
       " 'Paan Singh Tomar',\n",
       " 'Dilwale Dulhania Le Jayenge',\n",
       " 'Omkara',\n",
       " 'Lage Raho Munna Bhai',\n",
       " 'Iqbal',\n",
       " 'The Lunchbox',\n",
       " 'Black Friday',\n",
       " 'Company',\n",
       " 'Golmaal',\n",
       " 'Dev.D',\n",
       " 'Jaane Bhi Do Yaaro',\n",
       " 'OMG: Oh My God!',\n",
       " 'Mughal-E-Azam',\n",
       " 'Gulaal',\n",
       " 'Dor',\n",
       " 'Jab We Met',\n",
       " 'Pyaasa',\n",
       " 'The Legend of Bhagat Singh',\n",
       " 'Masoom',\n",
       " 'Salaam Bombay!',\n",
       " 'Satya',\n",
       " 'Vicky Donor',\n",
       " 'Lakshya',\n",
       " 'Vaastav: The Reality',\n",
       " 'Kal Ho Naa Ho',\n",
       " 'Oye Lucky! Lucky Oye!',\n",
       " 'Sarfarosh',\n",
       " 'Gangaajal',\n",
       " 'Angoor',\n",
       " 'Madras Cafe',\n",
       " 'English Vinglish',\n",
       " 'Chupke Chupke',\n",
       " 'Johnny Gaddaar',\n",
       " 'Maqbool',\n",
       " 'Hazaaron Khwaishein Aisi',\n",
       " 'Rock On!!',\n",
       " 'Don',\n",
       " 'Chhoti Si Baat',\n",
       " 'Guide',\n",
       " 'Raanjhanaa',\n",
       " 'Deewaar',\n",
       " 'Special Chabbis',\n",
       " 'Padosan',\n",
       " 'Mumbai Meri Jaan',\n",
       " 'Ab Tak Chhappan',\n",
       " 'Kai po che!',\n",
       " 'Awaara',\n",
       " 'Shree 420',\n",
       " 'Earth',\n",
       " 'Gunda',\n",
       " 'Parinda',\n",
       " 'Dasvidaniya',\n",
       " 'Hey Ram',\n",
       " 'Pinjar: Beyond Boundaries...',\n",
       " 'Socha Na Tha',\n",
       " 'Guru',\n",
       " 'Bawarchi',\n",
       " 'Manorama: Six Feet Under',\n",
       " 'Mr. India',\n",
       " 'Aamir',\n",
       " 'Zakhm',\n",
       " 'Water',\n",
       " 'Stanley Ka Dabba',\n",
       " 'Agneepath',\n",
       " 'My Name Is Khan',\n",
       " 'Qayamat Se Qayamat Tak',\n",
       " '3 Deewarein',\n",
       " 'Abhimaan',\n",
       " 'Sarkar',\n",
       " 'Bheja Fry',\n",
       " 'Mother India',\n",
       " 'Jaane Tu... Ya Jaane Na',\n",
       " 'Delhi Belly',\n",
       " 'Wake Up Sid',\n",
       " 'Rangeela',\n",
       " 'Shatranj Ke Khilari',\n",
       " 'Pyaar Ka Punchnama',\n",
       " 'Ek Hasina Thi']"
      ]
     },
     "execution_count": 20,
     "metadata": {},
     "output_type": "execute_result"
    }
   ],
   "source": [
    "titles=[]\n",
    "for movie in imdb_indian.find_all('h3',class_=\"lister-item-header\"):\n",
    "    titles.append(movie.text.split('\\n')[2])\n",
    "    \n",
    "titles\n",
    "        "
   ]
  },
  {
   "cell_type": "code",
   "execution_count": 21,
   "id": "1748e358",
   "metadata": {},
   "outputs": [
    {
     "data": {
      "text/plain": [
       "['8.1',\n",
       " '8.4',\n",
       " '8.4',\n",
       " '8.1',\n",
       " '8.2',\n",
       " '8.1',\n",
       " '8.2',\n",
       " '8.1',\n",
       " '8.2',\n",
       " '8.1',\n",
       " '8.1',\n",
       " '8.1',\n",
       " '8.2',\n",
       " '8.2',\n",
       " '8.2',\n",
       " '8.2',\n",
       " '8.1',\n",
       " '8.2',\n",
       " '8.2',\n",
       " '8.3',\n",
       " '8.2',\n",
       " '8.2',\n",
       " '8.2',\n",
       " '8.1',\n",
       " '8.1',\n",
       " '8.1',\n",
       " '8.1',\n",
       " '7.8',\n",
       " '8.5',\n",
       " '8',\n",
       " '8.6',\n",
       " '8',\n",
       " '8.4',\n",
       " '8.1',\n",
       " '8.2',\n",
       " '8.1',\n",
       " '7.9',\n",
       " '7.9',\n",
       " '8.5',\n",
       " '8.1',\n",
       " '8.4',\n",
       " '8',\n",
       " '8.3',\n",
       " '7.8',\n",
       " '7.9',\n",
       " '8',\n",
       " '7.9',\n",
       " '7.7',\n",
       " '8.1',\n",
       " '7.8',\n",
       " '8.3',\n",
       " '7.7',\n",
       " '7.8',\n",
       " '8.3',\n",
       " '7.8',\n",
       " '8.1',\n",
       " '7.9',\n",
       " '7.7',\n",
       " '7.8',\n",
       " '8.3',\n",
       " '8.4',\n",
       " '7.6',\n",
       " '8.1',\n",
       " '8',\n",
       " '8.1',\n",
       " '7.7',\n",
       " '7.8',\n",
       " '7.8',\n",
       " '7.9',\n",
       " '8',\n",
       " '7.7',\n",
       " '7.3',\n",
       " '7.8',\n",
       " '7.8',\n",
       " '8',\n",
       " '8',\n",
       " '7.4',\n",
       " '7.7',\n",
       " '8.1',\n",
       " '7.6',\n",
       " '7.8',\n",
       " '7.7',\n",
       " '7.9',\n",
       " '7.7',\n",
       " '7.8',\n",
       " '7.7',\n",
       " '8',\n",
       " '7.5',\n",
       " '7.8',\n",
       " '7.9',\n",
       " '7.6',\n",
       " '7.6',\n",
       " '8',\n",
       " '7.5',\n",
       " '7.6',\n",
       " '7.6',\n",
       " '7.5',\n",
       " '7.7',\n",
       " '7.6',\n",
       " '7.5']"
      ]
     },
     "execution_count": 21,
     "metadata": {},
     "output_type": "execute_result"
    }
   ],
   "source": [
    "ratings=[]\n",
    "for rating in imdb_indian.find_all('div',class_=\"ipl-rating-star small\"):\n",
    "    ratings.append(rating.text.strip('\\n'))\n",
    "    \n",
    "ratings\n",
    "   "
   ]
  },
  {
   "cell_type": "code",
   "execution_count": 22,
   "id": "a276d46b",
   "metadata": {},
   "outputs": [
    {
     "data": {
      "text/plain": [
       "['1994',\n",
       " '1972',\n",
       " '1974',\n",
       " '2008',\n",
       " '1957',\n",
       " '1993',\n",
       " '2003',\n",
       " '1994',\n",
       " '1966',\n",
       " '1999',\n",
       " '2019',\n",
       " '2001',\n",
       " '1994',\n",
       " '2010',\n",
       " '1980',\n",
       " '2002',\n",
       " '1999',\n",
       " '1975',\n",
       " '1990',\n",
       " '1954',\n",
       " '1995',\n",
       " '2002',\n",
       " '1997',\n",
       " '1991',\n",
       " '1977',\n",
       " '1946',\n",
       " '1998',\n",
       " '2001',\n",
       " '1999',\n",
       " '1994',\n",
       " '1962',\n",
       " '2014',\n",
       " '1995',\n",
       " '1994',\n",
       " '1998',\n",
       " '1985',\n",
       " '2002',\n",
       " '1936',\n",
       " '1991',\n",
       " '2011',\n",
       " '1960',\n",
       " '2000',\n",
       " '1931',\n",
       " '2006',\n",
       " '2014',\n",
       " '1968',\n",
       " '2006',\n",
       " '2019',\n",
       " '1942',\n",
       " '1988',\n",
       " '1954',\n",
       " '1988',\n",
       " '1979',\n",
       " '1981',\n",
       " '2000',\n",
       " '1979',\n",
       " '1940',\n",
       " '2006',\n",
       " '2018',\n",
       " '2012',\n",
       " '2018',\n",
       " '1980',\n",
       " '1957',\n",
       " '2008',\n",
       " '1950',\n",
       " '1964',\n",
       " '1997',\n",
       " '2003',\n",
       " '1957',\n",
       " '2012',\n",
       " '1984',\n",
       " '2019',\n",
       " '1986',\n",
       " '1999',\n",
       " '2017',\n",
       " '2016',\n",
       " '1995',\n",
       " '1981',\n",
       " '2009',\n",
       " '2007',\n",
       " '1983',\n",
       " '1995',\n",
       " '1992',\n",
       " '1984',\n",
       " '2016',\n",
       " '1997',\n",
       " '2009',\n",
       " '1931',\n",
       " '2000',\n",
       " '1968',\n",
       " '1958',\n",
       " '2004',\n",
       " '1941',\n",
       " '1987',\n",
       " '2012',\n",
       " '1959',\n",
       " '1971',\n",
       " '2000',\n",
       " '2001',\n",
       " '1921']"
      ]
     },
     "execution_count": 22,
     "metadata": {},
     "output_type": "execute_result"
    }
   ],
   "source": [
    "year=[]\n",
    "for yr in imdb.find_all('span',class_=\"lister-item-year text-muted unbold\"):\n",
    "    year.append(yr.text[-5:-1])\n",
    "    \n",
    "year\n"
   ]
  },
  {
   "cell_type": "code",
   "execution_count": 23,
   "id": "6ae616e2",
   "metadata": {},
   "outputs": [
    {
     "data": {
      "text/plain": [
       "(100, 100, 100)"
      ]
     },
     "execution_count": 23,
     "metadata": {},
     "output_type": "execute_result"
    }
   ],
   "source": [
    "len(titles),len(ratings),len(year)"
   ]
  },
  {
   "cell_type": "code",
   "execution_count": 24,
   "id": "bcb498ff",
   "metadata": {},
   "outputs": [],
   "source": [
    "#Making DataFRame\n",
    "IMDB_=pd.DataFrame({'Name': titles,\n",
    "                    'Rating':ratings,\n",
    "                    'year of release':year})"
   ]
  },
  {
   "cell_type": "code",
   "execution_count": 25,
   "id": "ecfc2d42",
   "metadata": {},
   "outputs": [
    {
     "data": {
      "text/html": [
       "<div>\n",
       "<style scoped>\n",
       "    .dataframe tbody tr th:only-of-type {\n",
       "        vertical-align: middle;\n",
       "    }\n",
       "\n",
       "    .dataframe tbody tr th {\n",
       "        vertical-align: top;\n",
       "    }\n",
       "\n",
       "    .dataframe thead th {\n",
       "        text-align: right;\n",
       "    }\n",
       "</style>\n",
       "<table border=\"1\" class=\"dataframe\">\n",
       "  <thead>\n",
       "    <tr style=\"text-align: right;\">\n",
       "      <th></th>\n",
       "      <th>Name</th>\n",
       "      <th>Rating</th>\n",
       "      <th>year of release</th>\n",
       "    </tr>\n",
       "  </thead>\n",
       "  <tbody>\n",
       "    <tr>\n",
       "      <th>0</th>\n",
       "      <td>Rang De Basanti</td>\n",
       "      <td>8.1</td>\n",
       "      <td>1994</td>\n",
       "    </tr>\n",
       "    <tr>\n",
       "      <th>1</th>\n",
       "      <td>3 Idiots</td>\n",
       "      <td>8.4</td>\n",
       "      <td>1972</td>\n",
       "    </tr>\n",
       "    <tr>\n",
       "      <th>2</th>\n",
       "      <td>Taare Zameen Par</td>\n",
       "      <td>8.4</td>\n",
       "      <td>1974</td>\n",
       "    </tr>\n",
       "    <tr>\n",
       "      <th>3</th>\n",
       "      <td>Dil Chahta Hai</td>\n",
       "      <td>8.1</td>\n",
       "      <td>2008</td>\n",
       "    </tr>\n",
       "    <tr>\n",
       "      <th>4</th>\n",
       "      <td>Swades: We, the People</td>\n",
       "      <td>8.2</td>\n",
       "      <td>1957</td>\n",
       "    </tr>\n",
       "    <tr>\n",
       "      <th>...</th>\n",
       "      <td>...</td>\n",
       "      <td>...</td>\n",
       "      <td>...</td>\n",
       "    </tr>\n",
       "    <tr>\n",
       "      <th>95</th>\n",
       "      <td>Wake Up Sid</td>\n",
       "      <td>7.6</td>\n",
       "      <td>1959</td>\n",
       "    </tr>\n",
       "    <tr>\n",
       "      <th>96</th>\n",
       "      <td>Rangeela</td>\n",
       "      <td>7.5</td>\n",
       "      <td>1971</td>\n",
       "    </tr>\n",
       "    <tr>\n",
       "      <th>97</th>\n",
       "      <td>Shatranj Ke Khilari</td>\n",
       "      <td>7.7</td>\n",
       "      <td>2000</td>\n",
       "    </tr>\n",
       "    <tr>\n",
       "      <th>98</th>\n",
       "      <td>Pyaar Ka Punchnama</td>\n",
       "      <td>7.6</td>\n",
       "      <td>2001</td>\n",
       "    </tr>\n",
       "    <tr>\n",
       "      <th>99</th>\n",
       "      <td>Ek Hasina Thi</td>\n",
       "      <td>7.5</td>\n",
       "      <td>1921</td>\n",
       "    </tr>\n",
       "  </tbody>\n",
       "</table>\n",
       "<p>100 rows × 3 columns</p>\n",
       "</div>"
      ],
      "text/plain": [
       "                      Name Rating year of release\n",
       "0          Rang De Basanti    8.1            1994\n",
       "1                 3 Idiots    8.4            1972\n",
       "2         Taare Zameen Par    8.4            1974\n",
       "3           Dil Chahta Hai    8.1            2008\n",
       "4   Swades: We, the People    8.2            1957\n",
       "..                     ...    ...             ...\n",
       "95             Wake Up Sid    7.6            1959\n",
       "96                Rangeela    7.5            1971\n",
       "97     Shatranj Ke Khilari    7.7            2000\n",
       "98      Pyaar Ka Punchnama    7.6            2001\n",
       "99           Ek Hasina Thi    7.5            1921\n",
       "\n",
       "[100 rows x 3 columns]"
      ]
     },
     "execution_count": 25,
     "metadata": {},
     "output_type": "execute_result"
    }
   ],
   "source": [
    "IMDB_"
   ]
  },
  {
   "cell_type": "markdown",
   "id": "7f33dec5",
   "metadata": {},
   "source": [
    "-----"
   ]
  },
  {
   "cell_type": "markdown",
   "id": "3d2a7592",
   "metadata": {},
   "source": [
    "-----"
   ]
  },
  {
   "cell_type": "markdown",
   "id": "a421a4d4",
   "metadata": {},
   "source": [
    "4) Write a python program to scrape product name, price and discounts from https://meesho.com/bags\u0002ladies/pl/p7vbp ."
   ]
  },
  {
   "cell_type": "code",
   "execution_count": 26,
   "id": "79940dfa",
   "metadata": {},
   "outputs": [],
   "source": [
    "page=requests.get('https://meesho.com/bags-ladies/pl/p7vbp')"
   ]
  },
  {
   "cell_type": "code",
   "execution_count": 27,
   "id": "3f5bde1b",
   "metadata": {},
   "outputs": [
    {
     "data": {
      "text/plain": [
       "<Response [200]>"
      ]
     },
     "execution_count": 27,
     "metadata": {},
     "output_type": "execute_result"
    }
   ],
   "source": [
    "page"
   ]
  },
  {
   "cell_type": "code",
   "execution_count": 28,
   "id": "05b2abff",
   "metadata": {},
   "outputs": [],
   "source": [
    "meesho=BeautifulSoup(page.content)"
   ]
  },
  {
   "cell_type": "code",
   "execution_count": 29,
   "id": "47ab8eeb",
   "metadata": {},
   "outputs": [
    {
     "data": {
      "text/plain": [
       "['handbags',\n",
       " 'Stylish Diva Fashion Tote Handbag for Women',\n",
       " 'STYLISH HAND BAG',\n",
       " 'AARAYAHI Handled Handbag',\n",
       " 'STYLISH HANBAG',\n",
       " 'Stylish Ladies HandBags',\n",
       " 'SFW Shoulder Stylish Bag for Women ',\n",
       " \"AZED Collections Women's PU Leather Handbag - Combo Pack of 2 -Tan & Brown \",\n",
       " 'Handbags',\n",
       " 'Jute Bags',\n",
       " 'Stylish Ladies Handbag',\n",
       " 'HANDBAG FOR GIRLS / HANDBAG FOR WOMEN/ HANDBAG FOR OFFICE',\n",
       " 'HandBAG',\n",
       " 'AARAYAHI Handbags with Bow Applique',\n",
       " 'Rexine Textured Money Clip Women',\n",
       " 'Trendy Purple Handbags ',\n",
       " 'BOTTLE SHAPE JUTE BAG',\n",
       " 'PREMIUM QUALITY WITH BEST PRICE HANDBAGS',\n",
       " 'Flamebird Beautiful Women Handbags',\n",
       " 'Global Desi Black Pepper Solid Shoulder Bag Green ']"
      ]
     },
     "execution_count": 29,
     "metadata": {},
     "output_type": "execute_result"
    }
   ],
   "source": [
    "name=[]\n",
    "for product in meesho.find_all('p',class_=\"Text__StyledText-sc-oo0kvp-0 bWSOET NewProductCard__ProductTitle_Desktop-sc-j0e7tu-4 cQhePS NewProductCard__ProductTitle_Desktop-sc-j0e7tu-4 cQhePS\"):\n",
    "    name.append(product.text.split('(')[0])\n",
    "    \n",
    "name"
   ]
  },
  {
   "cell_type": "code",
   "execution_count": 30,
   "id": "200f689b",
   "metadata": {},
   "outputs": [
    {
     "data": {
      "text/plain": [
       "['199',\n",
       " '260',\n",
       " '175',\n",
       " '341',\n",
       " '434',\n",
       " '699',\n",
       " '435',\n",
       " '585',\n",
       " '261',\n",
       " '434',\n",
       " '244',\n",
       " '277',\n",
       " '434',\n",
       " '314',\n",
       " '234',\n",
       " '484',\n",
       " '105',\n",
       " '207',\n",
       " '417',\n",
       " '1604']"
      ]
     },
     "execution_count": 30,
     "metadata": {},
     "output_type": "execute_result"
    }
   ],
   "source": [
    "price=[]\n",
    "for i in meesho.find_all('h5',class_=\"Text__StyledText-sc-oo0kvp-0 hiHdyy\"):\n",
    "    price.append(i.text.strip('₹ '))\n",
    "    \n",
    "price"
   ]
  },
  {
   "cell_type": "code",
   "execution_count": 31,
   "id": "512c70d7",
   "metadata": {},
   "outputs": [
    {
     "data": {
      "text/plain": [
       "['₹85  1st order',\n",
       " '₹100  1st order',\n",
       " '₹75  1st order',\n",
       " '₹100  1st order',\n",
       " '₹100  1st order',\n",
       " '₹100  1st order',\n",
       " '₹100  1st order',\n",
       " '₹100  1st order',\n",
       " '₹100  1st order',\n",
       " '₹100  1st order',\n",
       " '₹100  1st order',\n",
       " '₹100  1st order',\n",
       " '₹100  1st order',\n",
       " '₹100  1st order',\n",
       " '₹100  1st order',\n",
       " '₹100  1st order',\n",
       " '₹44  1st order',\n",
       " '₹88  1st order',\n",
       " '₹100  1st order',\n",
       " '₹100  1st order']"
      ]
     },
     "execution_count": 31,
     "metadata": {},
     "output_type": "execute_result"
    }
   ],
   "source": [
    "discount=[]\n",
    "for i in meesho.find_all('p',class_=\"Text__StyledText-sc-oo0kvp-0 fCJVtz NewProductCard__DiscountTextParagraph-sc-j0e7tu-16 kmYsnm NewProductCard__DiscountTextParagraph-sc-j0e7tu-16 kmYsnm\"):\n",
    "    discount.append(i.text.replace('discount on',''))\n",
    "    \n",
    "discount"
   ]
  },
  {
   "cell_type": "code",
   "execution_count": 32,
   "id": "8afd3e0f",
   "metadata": {},
   "outputs": [
    {
     "data": {
      "text/plain": [
       "(20, 20, 20)"
      ]
     },
     "execution_count": 32,
     "metadata": {},
     "output_type": "execute_result"
    }
   ],
   "source": [
    "len(name),len(price),len(discount)"
   ]
  },
  {
   "cell_type": "code",
   "execution_count": 33,
   "id": "f785a84a",
   "metadata": {},
   "outputs": [],
   "source": [
    "#Making DataFrame\n",
    "meesho_bag=pd.DataFrame({'Product name': name,\n",
    "                         'Price': price,\n",
    "                         'Discount': discount})"
   ]
  },
  {
   "cell_type": "code",
   "execution_count": 34,
   "id": "b6157fe6",
   "metadata": {},
   "outputs": [
    {
     "data": {
      "text/html": [
       "<div>\n",
       "<style scoped>\n",
       "    .dataframe tbody tr th:only-of-type {\n",
       "        vertical-align: middle;\n",
       "    }\n",
       "\n",
       "    .dataframe tbody tr th {\n",
       "        vertical-align: top;\n",
       "    }\n",
       "\n",
       "    .dataframe thead th {\n",
       "        text-align: right;\n",
       "    }\n",
       "</style>\n",
       "<table border=\"1\" class=\"dataframe\">\n",
       "  <thead>\n",
       "    <tr style=\"text-align: right;\">\n",
       "      <th></th>\n",
       "      <th>Product name</th>\n",
       "      <th>Price</th>\n",
       "      <th>Discount</th>\n",
       "    </tr>\n",
       "  </thead>\n",
       "  <tbody>\n",
       "    <tr>\n",
       "      <th>0</th>\n",
       "      <td>handbags</td>\n",
       "      <td>199</td>\n",
       "      <td>₹85  1st order</td>\n",
       "    </tr>\n",
       "    <tr>\n",
       "      <th>1</th>\n",
       "      <td>Stylish Diva Fashion Tote Handbag for Women</td>\n",
       "      <td>260</td>\n",
       "      <td>₹100  1st order</td>\n",
       "    </tr>\n",
       "    <tr>\n",
       "      <th>2</th>\n",
       "      <td>STYLISH HAND BAG</td>\n",
       "      <td>175</td>\n",
       "      <td>₹75  1st order</td>\n",
       "    </tr>\n",
       "    <tr>\n",
       "      <th>3</th>\n",
       "      <td>AARAYAHI Handled Handbag</td>\n",
       "      <td>341</td>\n",
       "      <td>₹100  1st order</td>\n",
       "    </tr>\n",
       "    <tr>\n",
       "      <th>4</th>\n",
       "      <td>STYLISH HANBAG</td>\n",
       "      <td>434</td>\n",
       "      <td>₹100  1st order</td>\n",
       "    </tr>\n",
       "    <tr>\n",
       "      <th>5</th>\n",
       "      <td>Stylish Ladies HandBags</td>\n",
       "      <td>699</td>\n",
       "      <td>₹100  1st order</td>\n",
       "    </tr>\n",
       "    <tr>\n",
       "      <th>6</th>\n",
       "      <td>SFW Shoulder Stylish Bag for Women</td>\n",
       "      <td>435</td>\n",
       "      <td>₹100  1st order</td>\n",
       "    </tr>\n",
       "    <tr>\n",
       "      <th>7</th>\n",
       "      <td>AZED Collections Women's PU Leather Handbag - ...</td>\n",
       "      <td>585</td>\n",
       "      <td>₹100  1st order</td>\n",
       "    </tr>\n",
       "    <tr>\n",
       "      <th>8</th>\n",
       "      <td>Handbags</td>\n",
       "      <td>261</td>\n",
       "      <td>₹100  1st order</td>\n",
       "    </tr>\n",
       "    <tr>\n",
       "      <th>9</th>\n",
       "      <td>Jute Bags</td>\n",
       "      <td>434</td>\n",
       "      <td>₹100  1st order</td>\n",
       "    </tr>\n",
       "    <tr>\n",
       "      <th>10</th>\n",
       "      <td>Stylish Ladies Handbag</td>\n",
       "      <td>244</td>\n",
       "      <td>₹100  1st order</td>\n",
       "    </tr>\n",
       "    <tr>\n",
       "      <th>11</th>\n",
       "      <td>HANDBAG FOR GIRLS / HANDBAG FOR WOMEN/ HANDBAG...</td>\n",
       "      <td>277</td>\n",
       "      <td>₹100  1st order</td>\n",
       "    </tr>\n",
       "    <tr>\n",
       "      <th>12</th>\n",
       "      <td>HandBAG</td>\n",
       "      <td>434</td>\n",
       "      <td>₹100  1st order</td>\n",
       "    </tr>\n",
       "    <tr>\n",
       "      <th>13</th>\n",
       "      <td>AARAYAHI Handbags with Bow Applique</td>\n",
       "      <td>314</td>\n",
       "      <td>₹100  1st order</td>\n",
       "    </tr>\n",
       "    <tr>\n",
       "      <th>14</th>\n",
       "      <td>Rexine Textured Money Clip Women</td>\n",
       "      <td>234</td>\n",
       "      <td>₹100  1st order</td>\n",
       "    </tr>\n",
       "    <tr>\n",
       "      <th>15</th>\n",
       "      <td>Trendy Purple Handbags</td>\n",
       "      <td>484</td>\n",
       "      <td>₹100  1st order</td>\n",
       "    </tr>\n",
       "    <tr>\n",
       "      <th>16</th>\n",
       "      <td>BOTTLE SHAPE JUTE BAG</td>\n",
       "      <td>105</td>\n",
       "      <td>₹44  1st order</td>\n",
       "    </tr>\n",
       "    <tr>\n",
       "      <th>17</th>\n",
       "      <td>PREMIUM QUALITY WITH BEST PRICE HANDBAGS</td>\n",
       "      <td>207</td>\n",
       "      <td>₹88  1st order</td>\n",
       "    </tr>\n",
       "    <tr>\n",
       "      <th>18</th>\n",
       "      <td>Flamebird Beautiful Women Handbags</td>\n",
       "      <td>417</td>\n",
       "      <td>₹100  1st order</td>\n",
       "    </tr>\n",
       "    <tr>\n",
       "      <th>19</th>\n",
       "      <td>Global Desi Black Pepper Solid Shoulder Bag Gr...</td>\n",
       "      <td>1604</td>\n",
       "      <td>₹100  1st order</td>\n",
       "    </tr>\n",
       "  </tbody>\n",
       "</table>\n",
       "</div>"
      ],
      "text/plain": [
       "                                         Product name Price         Discount\n",
       "0                                            handbags   199   ₹85  1st order\n",
       "1         Stylish Diva Fashion Tote Handbag for Women   260  ₹100  1st order\n",
       "2                                    STYLISH HAND BAG   175   ₹75  1st order\n",
       "3                            AARAYAHI Handled Handbag   341  ₹100  1st order\n",
       "4                                      STYLISH HANBAG   434  ₹100  1st order\n",
       "5                             Stylish Ladies HandBags   699  ₹100  1st order\n",
       "6                 SFW Shoulder Stylish Bag for Women    435  ₹100  1st order\n",
       "7   AZED Collections Women's PU Leather Handbag - ...   585  ₹100  1st order\n",
       "8                                            Handbags   261  ₹100  1st order\n",
       "9                                           Jute Bags   434  ₹100  1st order\n",
       "10                             Stylish Ladies Handbag   244  ₹100  1st order\n",
       "11  HANDBAG FOR GIRLS / HANDBAG FOR WOMEN/ HANDBAG...   277  ₹100  1st order\n",
       "12                                            HandBAG   434  ₹100  1st order\n",
       "13                AARAYAHI Handbags with Bow Applique   314  ₹100  1st order\n",
       "14                   Rexine Textured Money Clip Women   234  ₹100  1st order\n",
       "15                            Trendy Purple Handbags    484  ₹100  1st order\n",
       "16                              BOTTLE SHAPE JUTE BAG   105   ₹44  1st order\n",
       "17           PREMIUM QUALITY WITH BEST PRICE HANDBAGS   207   ₹88  1st order\n",
       "18                 Flamebird Beautiful Women Handbags   417  ₹100  1st order\n",
       "19  Global Desi Black Pepper Solid Shoulder Bag Gr...  1604  ₹100  1st order"
      ]
     },
     "execution_count": 34,
     "metadata": {},
     "output_type": "execute_result"
    }
   ],
   "source": [
    "meesho_bag"
   ]
  },
  {
   "cell_type": "markdown",
   "id": "2aa89615",
   "metadata": {},
   "source": [
    "-----"
   ]
  },
  {
   "cell_type": "markdown",
   "id": "bff9f5a4",
   "metadata": {},
   "source": [
    "-----"
   ]
  },
  {
   "cell_type": "markdown",
   "id": "52d159ac",
   "metadata": {},
   "source": [
    "5) Write a python program to scrape cricket rankings from icc-cricket.com. You have to scrape:\n",
    "\n",
    "a) Top 10 ODI teams in men’s cricket along with the records for matches, points and rating.\n"
   ]
  },
  {
   "cell_type": "code",
   "execution_count": 35,
   "id": "634a2db9",
   "metadata": {},
   "outputs": [
    {
     "data": {
      "text/plain": [
       "<Response [200]>"
      ]
     },
     "execution_count": 35,
     "metadata": {},
     "output_type": "execute_result"
    }
   ],
   "source": [
    "page=requests.get('https://www.icc-cricket.com/rankings/mens/team-rankings/odi')\n",
    "page"
   ]
  },
  {
   "cell_type": "code",
   "execution_count": 36,
   "id": "df1653d9",
   "metadata": {},
   "outputs": [],
   "source": [
    "men_team_rank=BeautifulSoup(page.content)"
   ]
  },
  {
   "cell_type": "code",
   "execution_count": 37,
   "id": "a4b6d899",
   "metadata": {},
   "outputs": [
    {
     "data": {
      "text/plain": [
       "['New Zealand',\n",
       " 'England',\n",
       " 'Australia',\n",
       " 'India',\n",
       " 'South Africa',\n",
       " 'Pakistan',\n",
       " 'Bangladesh',\n",
       " 'West Indies',\n",
       " 'Sri Lanka',\n",
       " 'Afghanistan']"
      ]
     },
     "execution_count": 37,
     "metadata": {},
     "output_type": "execute_result"
    }
   ],
   "source": [
    "team=[]\n",
    "for i in men_team_rank.find_all('span',class_=\"u-hide-phablet\"):\n",
    "    team.append(i.text)\n",
    "    \n",
    "team=team[:10]\n",
    "team"
   ]
  },
  {
   "cell_type": "code",
   "execution_count": 38,
   "id": "df238a1b",
   "metadata": {},
   "outputs": [
    {
     "data": {
      "text/plain": [
       "['32', '28', '32', '25', '27', '30', '30', '32', '17']"
      ]
     },
     "execution_count": 38,
     "metadata": {},
     "output_type": "execute_result"
    }
   ],
   "source": [
    "matches=[]\n",
    "for i in men_team_rank.find_all('td',class_=\"table-body__cell u-center-text\"):\n",
    "    matches.append(i.text)\n",
    "    \n",
    "\n",
    "matches=matches[0: :2 ]\n",
    "matches=matches[ :9]\n",
    "matches\n"
   ]
  },
  {
   "cell_type": "code",
   "execution_count": 39,
   "id": "393e2177",
   "metadata": {},
   "outputs": [
    {
     "data": {
      "text/plain": [
       "'17'"
      ]
     },
     "execution_count": 39,
     "metadata": {},
     "output_type": "execute_result"
    }
   ],
   "source": [
    "match_=men_team_rank.find('td',class_=\"rankings-block__banner--matches\")\n",
    "match_=match_.text\n",
    "match_\n"
   ]
  },
  {
   "cell_type": "code",
   "execution_count": 40,
   "id": "6887eadf",
   "metadata": {},
   "outputs": [],
   "source": [
    "matches.insert(0,match_)\n"
   ]
  },
  {
   "cell_type": "code",
   "execution_count": 41,
   "id": "799a58fb",
   "metadata": {},
   "outputs": [
    {
     "data": {
      "text/plain": [
       "['17', '32', '28', '32', '25', '27', '30', '30', '32', '17']"
      ]
     },
     "execution_count": 41,
     "metadata": {},
     "output_type": "execute_result"
    }
   ],
   "source": [
    "matches"
   ]
  },
  {
   "cell_type": "code",
   "execution_count": 42,
   "id": "c821a719",
   "metadata": {},
   "outputs": [
    {
     "data": {
      "text/plain": [
       "['3,793',\n",
       " '3,244',\n",
       " '3,624',\n",
       " '2,459',\n",
       " '2,524',\n",
       " '2,740',\n",
       " '2,523',\n",
       " '2,657',\n",
       " '1,054']"
      ]
     },
     "execution_count": 42,
     "metadata": {},
     "output_type": "execute_result"
    }
   ],
   "source": [
    "points=[]\n",
    "for i in men_team_rank.find_all('td',class_=\"table-body__cell u-center-text\"):\n",
    "    points.append(i.text)\n",
    "    \n",
    "points=points[1: :2]\n",
    "points=points[ :9]\n",
    "points"
   ]
  },
  {
   "cell_type": "code",
   "execution_count": 43,
   "id": "605f6aaa",
   "metadata": {},
   "outputs": [
    {
     "data": {
      "text/plain": [
       "'2,054'"
      ]
     },
     "execution_count": 43,
     "metadata": {},
     "output_type": "execute_result"
    }
   ],
   "source": [
    "point_=men_team_rank.find('td',class_=\"rankings-block__banner--points\")\n",
    "point_.text"
   ]
  },
  {
   "cell_type": "code",
   "execution_count": 44,
   "id": "a8346681",
   "metadata": {},
   "outputs": [
    {
     "data": {
      "text/plain": [
       "['2,054',\n",
       " '3,793',\n",
       " '3,244',\n",
       " '3,624',\n",
       " '2,459',\n",
       " '2,524',\n",
       " '2,740',\n",
       " '2,523',\n",
       " '2,657',\n",
       " '1,054']"
      ]
     },
     "execution_count": 44,
     "metadata": {},
     "output_type": "execute_result"
    }
   ],
   "source": [
    "points.insert(0,point_.text)\n",
    "points"
   ]
  },
  {
   "cell_type": "code",
   "execution_count": 45,
   "id": "f1e0bde1",
   "metadata": {},
   "outputs": [
    {
     "data": {
      "text/plain": [
       "['119', '116', '113', '98', '93', '91', '84', '83', '62']"
      ]
     },
     "execution_count": 45,
     "metadata": {},
     "output_type": "execute_result"
    }
   ],
   "source": [
    "ratings=[]\n",
    "for i in men_team_rank.find_all('td',class_=\"table-body__cell u-text-right rating\"):\n",
    "    ratings.append(i.text)\n",
    "    \n",
    "ratings=ratings[:9]\n",
    "ratings"
   ]
  },
  {
   "cell_type": "code",
   "execution_count": 46,
   "id": "37733b46",
   "metadata": {},
   "outputs": [
    {
     "data": {
      "text/plain": [
       "'121'"
      ]
     },
     "execution_count": 46,
     "metadata": {},
     "output_type": "execute_result"
    }
   ],
   "source": [
    "rating=men_team_rank.find('td',class_=\"rankings-block__banner--rating u-text-right\")\n",
    "rating=rating.text.strip('\\n     ')    \n",
    "rating"
   ]
  },
  {
   "cell_type": "code",
   "execution_count": 47,
   "id": "fff2f37d",
   "metadata": {},
   "outputs": [
    {
     "data": {
      "text/plain": [
       "['121', '119', '116', '113', '98', '93', '91', '84', '83', '62']"
      ]
     },
     "execution_count": 47,
     "metadata": {},
     "output_type": "execute_result"
    }
   ],
   "source": [
    "ratings.insert(0,rating)\n",
    "ratings"
   ]
  },
  {
   "cell_type": "code",
   "execution_count": 48,
   "id": "fd9b19ee",
   "metadata": {},
   "outputs": [
    {
     "data": {
      "text/plain": [
       "(10, 10, 10, 10)"
      ]
     },
     "execution_count": 48,
     "metadata": {},
     "output_type": "execute_result"
    }
   ],
   "source": [
    "len(points),len(matches),len(ratings),len(team)"
   ]
  },
  {
   "cell_type": "code",
   "execution_count": 49,
   "id": "051e1f97",
   "metadata": {},
   "outputs": [],
   "source": [
    "#Making DataFrame\n",
    "ODI_team_rank=pd.DataFrame({'Team':team,\n",
    "                           'Matches':matches,\n",
    "                            'Points':points,\n",
    "                            'Rating':ratings})"
   ]
  },
  {
   "cell_type": "code",
   "execution_count": 50,
   "id": "2d472667",
   "metadata": {},
   "outputs": [
    {
     "data": {
      "text/html": [
       "<div>\n",
       "<style scoped>\n",
       "    .dataframe tbody tr th:only-of-type {\n",
       "        vertical-align: middle;\n",
       "    }\n",
       "\n",
       "    .dataframe tbody tr th {\n",
       "        vertical-align: top;\n",
       "    }\n",
       "\n",
       "    .dataframe thead th {\n",
       "        text-align: right;\n",
       "    }\n",
       "</style>\n",
       "<table border=\"1\" class=\"dataframe\">\n",
       "  <thead>\n",
       "    <tr style=\"text-align: right;\">\n",
       "      <th></th>\n",
       "      <th>Team</th>\n",
       "      <th>Matches</th>\n",
       "      <th>Points</th>\n",
       "      <th>Rating</th>\n",
       "    </tr>\n",
       "  </thead>\n",
       "  <tbody>\n",
       "    <tr>\n",
       "      <th>0</th>\n",
       "      <td>New Zealand</td>\n",
       "      <td>17</td>\n",
       "      <td>2,054</td>\n",
       "      <td>121</td>\n",
       "    </tr>\n",
       "    <tr>\n",
       "      <th>1</th>\n",
       "      <td>England</td>\n",
       "      <td>32</td>\n",
       "      <td>3,793</td>\n",
       "      <td>119</td>\n",
       "    </tr>\n",
       "    <tr>\n",
       "      <th>2</th>\n",
       "      <td>Australia</td>\n",
       "      <td>28</td>\n",
       "      <td>3,244</td>\n",
       "      <td>116</td>\n",
       "    </tr>\n",
       "    <tr>\n",
       "      <th>3</th>\n",
       "      <td>India</td>\n",
       "      <td>32</td>\n",
       "      <td>3,624</td>\n",
       "      <td>113</td>\n",
       "    </tr>\n",
       "    <tr>\n",
       "      <th>4</th>\n",
       "      <td>South Africa</td>\n",
       "      <td>25</td>\n",
       "      <td>2,459</td>\n",
       "      <td>98</td>\n",
       "    </tr>\n",
       "    <tr>\n",
       "      <th>5</th>\n",
       "      <td>Pakistan</td>\n",
       "      <td>27</td>\n",
       "      <td>2,524</td>\n",
       "      <td>93</td>\n",
       "    </tr>\n",
       "    <tr>\n",
       "      <th>6</th>\n",
       "      <td>Bangladesh</td>\n",
       "      <td>30</td>\n",
       "      <td>2,740</td>\n",
       "      <td>91</td>\n",
       "    </tr>\n",
       "    <tr>\n",
       "      <th>7</th>\n",
       "      <td>West Indies</td>\n",
       "      <td>30</td>\n",
       "      <td>2,523</td>\n",
       "      <td>84</td>\n",
       "    </tr>\n",
       "    <tr>\n",
       "      <th>8</th>\n",
       "      <td>Sri Lanka</td>\n",
       "      <td>32</td>\n",
       "      <td>2,657</td>\n",
       "      <td>83</td>\n",
       "    </tr>\n",
       "    <tr>\n",
       "      <th>9</th>\n",
       "      <td>Afghanistan</td>\n",
       "      <td>17</td>\n",
       "      <td>1,054</td>\n",
       "      <td>62</td>\n",
       "    </tr>\n",
       "  </tbody>\n",
       "</table>\n",
       "</div>"
      ],
      "text/plain": [
       "           Team Matches Points Rating\n",
       "0   New Zealand      17  2,054    121\n",
       "1       England      32  3,793    119\n",
       "2     Australia      28  3,244    116\n",
       "3         India      32  3,624    113\n",
       "4  South Africa      25  2,459     98\n",
       "5      Pakistan      27  2,524     93\n",
       "6    Bangladesh      30  2,740     91\n",
       "7   West Indies      30  2,523     84\n",
       "8     Sri Lanka      32  2,657     83\n",
       "9   Afghanistan      17  1,054     62"
      ]
     },
     "execution_count": 50,
     "metadata": {},
     "output_type": "execute_result"
    }
   ],
   "source": [
    "ODI_team_rank"
   ]
  },
  {
   "cell_type": "markdown",
   "id": "48b2ae54",
   "metadata": {},
   "source": [
    "-----"
   ]
  },
  {
   "cell_type": "markdown",
   "id": "f353617b",
   "metadata": {},
   "source": [
    "-----"
   ]
  },
  {
   "cell_type": "markdown",
   "id": "69c0d32a",
   "metadata": {},
   "source": [
    "5) Write a python program to scrape cricket rankings from icc-cricket.com. You have to scrape:\n",
    "\n",
    "b) Top 10 ODI Batsmen along with the records of their team and rating.\n"
   ]
  },
  {
   "cell_type": "code",
   "execution_count": 51,
   "id": "19f62e36",
   "metadata": {},
   "outputs": [],
   "source": [
    "page=requests.get('https://www.icc-cricket.com/rankings/mens/player-rankings/odi/batting')"
   ]
  },
  {
   "cell_type": "code",
   "execution_count": 52,
   "id": "1a8f5a5e",
   "metadata": {},
   "outputs": [],
   "source": [
    "bats_man=BeautifulSoup(page.content)"
   ]
  },
  {
   "cell_type": "code",
   "execution_count": 53,
   "id": "e7928f89",
   "metadata": {},
   "outputs": [
    {
     "data": {
      "text/plain": [
       "['Virat Kohli',\n",
       " 'Rohit Sharma',\n",
       " 'Ross Taylor',\n",
       " 'Aaron Finch',\n",
       " 'Jonny Bairstow',\n",
       " 'David Warner',\n",
       " 'Shai Hope',\n",
       " 'Kane Williamson',\n",
       " 'Quinton de Kock']"
      ]
     },
     "execution_count": 53,
     "metadata": {},
     "output_type": "execute_result"
    }
   ],
   "source": [
    "batsmen_names=[]\n",
    "for i in bats_man.find_all('td',class_=\"table-body__cell rankings-table__name name\"):\n",
    "    batsmen_names.append(i.text.strip('\\n'))\n",
    "    \n",
    "batsmen_names=batsmen_names[ :9]\n",
    "batsmen_names"
   ]
  },
  {
   "cell_type": "code",
   "execution_count": 54,
   "id": "c7f1dd92",
   "metadata": {},
   "outputs": [
    {
     "data": {
      "text/plain": [
       "9"
      ]
     },
     "execution_count": 54,
     "metadata": {},
     "output_type": "execute_result"
    }
   ],
   "source": [
    "len(batsmen_names)"
   ]
  },
  {
   "cell_type": "code",
   "execution_count": 55,
   "id": "ff2c003e",
   "metadata": {},
   "outputs": [
    {
     "data": {
      "text/plain": [
       "'Babar Azam'"
      ]
     },
     "execution_count": 55,
     "metadata": {},
     "output_type": "execute_result"
    }
   ],
   "source": [
    "name1=bats_man.find('div',class_=\"rankings-block__banner--name-large\")\n",
    "     \n",
    "name1=name1.text\n",
    "name1\n",
    "    \n",
    "    \n"
   ]
  },
  {
   "cell_type": "code",
   "execution_count": 56,
   "id": "4672a7a6",
   "metadata": {},
   "outputs": [
    {
     "data": {
      "text/plain": [
       "['Babar Azam',\n",
       " 'Virat Kohli',\n",
       " 'Rohit Sharma',\n",
       " 'Ross Taylor',\n",
       " 'Aaron Finch',\n",
       " 'Jonny Bairstow',\n",
       " 'David Warner',\n",
       " 'Shai Hope',\n",
       " 'Kane Williamson',\n",
       " 'Quinton de Kock']"
      ]
     },
     "execution_count": 56,
     "metadata": {},
     "output_type": "execute_result"
    }
   ],
   "source": [
    "batsmen_names.insert(0,name1)\n",
    "batsmen_names"
   ]
  },
  {
   "cell_type": "code",
   "execution_count": 57,
   "id": "61eca83c",
   "metadata": {},
   "outputs": [
    {
     "data": {
      "text/plain": [
       "['IND', 'IND', 'NZ', 'AUS', 'ENG', 'AUS', 'WI', 'NZ', 'SA']"
      ]
     },
     "execution_count": 57,
     "metadata": {},
     "output_type": "execute_result"
    }
   ],
   "source": [
    "batsmen_team=[]\n",
    "for i in bats_man.find_all('td',class_=\"table-body__cell nationality-logo rankings-table__team\"):\n",
    "    batsmen_team.append(i.text.strip('\\n'))\n",
    "    \n",
    "batsmen_team=batsmen_team[ :9]\n",
    "batsmen_team\n",
    "                            "
   ]
  },
  {
   "cell_type": "code",
   "execution_count": 58,
   "id": "355560a4",
   "metadata": {},
   "outputs": [
    {
     "data": {
      "text/plain": [
       "'PAK'"
      ]
     },
     "execution_count": 58,
     "metadata": {},
     "output_type": "execute_result"
    }
   ],
   "source": [
    "batsman=bats_man.find('div',class_=\"rankings-block__banner--nationality\")\n",
    "batsman=batsman.text[2:5]\n",
    "\n",
    "batsman                       "
   ]
  },
  {
   "cell_type": "code",
   "execution_count": 59,
   "id": "08612cd3",
   "metadata": {},
   "outputs": [
    {
     "data": {
      "text/plain": [
       "['PAK', 'IND', 'IND', 'NZ', 'AUS', 'ENG', 'AUS', 'WI', 'NZ', 'SA']"
      ]
     },
     "execution_count": 59,
     "metadata": {},
     "output_type": "execute_result"
    }
   ],
   "source": [
    "batsmen_team.insert(0,batsman)\n",
    "batsmen_team"
   ]
  },
  {
   "cell_type": "code",
   "execution_count": 60,
   "id": "0f7b947c",
   "metadata": {},
   "outputs": [
    {
     "data": {
      "text/plain": [
       "['844', '813', '801', '779', '775', '762', '758', '754', '743']"
      ]
     },
     "execution_count": 60,
     "metadata": {},
     "output_type": "execute_result"
    }
   ],
   "source": [
    "ratings=[]\n",
    "for i in bats_man.find_all('td',class_=\"table-body__cell rating\"):\n",
    "    ratings.append(i.text)\n",
    "    \n",
    "ratings=ratings[ :9]\n",
    "ratings"
   ]
  },
  {
   "cell_type": "code",
   "execution_count": 61,
   "id": "c9837cbc",
   "metadata": {},
   "outputs": [
    {
     "data": {
      "text/plain": [
       "'873'"
      ]
     },
     "execution_count": 61,
     "metadata": {},
     "output_type": "execute_result"
    }
   ],
   "source": [
    "rate=bats_man.find('div',class_=\"rankings-block__banner--rating\")\n",
    "rate=rate.text\n",
    "rate"
   ]
  },
  {
   "cell_type": "code",
   "execution_count": 62,
   "id": "054d01ea",
   "metadata": {},
   "outputs": [],
   "source": [
    "ratings.insert(0,rate)"
   ]
  },
  {
   "cell_type": "code",
   "execution_count": 63,
   "id": "6b9e0c26",
   "metadata": {},
   "outputs": [
    {
     "data": {
      "text/plain": [
       "['873', '844', '813', '801', '779', '775', '762', '758', '754', '743']"
      ]
     },
     "execution_count": 63,
     "metadata": {},
     "output_type": "execute_result"
    }
   ],
   "source": [
    "ratings"
   ]
  },
  {
   "cell_type": "code",
   "execution_count": 64,
   "id": "927ddd7d",
   "metadata": {},
   "outputs": [
    {
     "data": {
      "text/plain": [
       "(10, 10, 10)"
      ]
     },
     "execution_count": 64,
     "metadata": {},
     "output_type": "execute_result"
    }
   ],
   "source": [
    "len(batsmen_names),len(batsmen_team),len(ratings)"
   ]
  },
  {
   "cell_type": "code",
   "execution_count": 65,
   "id": "868c7216",
   "metadata": {},
   "outputs": [],
   "source": [
    "#Making DataFrame\n",
    "ODI_Batsmen=pd.DataFrame({'Batsmen':batsmen_names,\n",
    "              'Team':batsmen_team,\n",
    "              'Rating':ratings\n",
    "             })"
   ]
  },
  {
   "cell_type": "code",
   "execution_count": 66,
   "id": "47d8c2e5",
   "metadata": {},
   "outputs": [
    {
     "data": {
      "text/html": [
       "<div>\n",
       "<style scoped>\n",
       "    .dataframe tbody tr th:only-of-type {\n",
       "        vertical-align: middle;\n",
       "    }\n",
       "\n",
       "    .dataframe tbody tr th {\n",
       "        vertical-align: top;\n",
       "    }\n",
       "\n",
       "    .dataframe thead th {\n",
       "        text-align: right;\n",
       "    }\n",
       "</style>\n",
       "<table border=\"1\" class=\"dataframe\">\n",
       "  <thead>\n",
       "    <tr style=\"text-align: right;\">\n",
       "      <th></th>\n",
       "      <th>Batsmen</th>\n",
       "      <th>Team</th>\n",
       "      <th>Rating</th>\n",
       "    </tr>\n",
       "  </thead>\n",
       "  <tbody>\n",
       "    <tr>\n",
       "      <th>0</th>\n",
       "      <td>Babar Azam</td>\n",
       "      <td>PAK</td>\n",
       "      <td>873</td>\n",
       "    </tr>\n",
       "    <tr>\n",
       "      <th>1</th>\n",
       "      <td>Virat Kohli</td>\n",
       "      <td>IND</td>\n",
       "      <td>844</td>\n",
       "    </tr>\n",
       "    <tr>\n",
       "      <th>2</th>\n",
       "      <td>Rohit Sharma</td>\n",
       "      <td>IND</td>\n",
       "      <td>813</td>\n",
       "    </tr>\n",
       "    <tr>\n",
       "      <th>3</th>\n",
       "      <td>Ross Taylor</td>\n",
       "      <td>NZ</td>\n",
       "      <td>801</td>\n",
       "    </tr>\n",
       "    <tr>\n",
       "      <th>4</th>\n",
       "      <td>Aaron Finch</td>\n",
       "      <td>AUS</td>\n",
       "      <td>779</td>\n",
       "    </tr>\n",
       "    <tr>\n",
       "      <th>5</th>\n",
       "      <td>Jonny Bairstow</td>\n",
       "      <td>ENG</td>\n",
       "      <td>775</td>\n",
       "    </tr>\n",
       "    <tr>\n",
       "      <th>6</th>\n",
       "      <td>David Warner</td>\n",
       "      <td>AUS</td>\n",
       "      <td>762</td>\n",
       "    </tr>\n",
       "    <tr>\n",
       "      <th>7</th>\n",
       "      <td>Shai Hope</td>\n",
       "      <td>WI</td>\n",
       "      <td>758</td>\n",
       "    </tr>\n",
       "    <tr>\n",
       "      <th>8</th>\n",
       "      <td>Kane Williamson</td>\n",
       "      <td>NZ</td>\n",
       "      <td>754</td>\n",
       "    </tr>\n",
       "    <tr>\n",
       "      <th>9</th>\n",
       "      <td>Quinton de Kock</td>\n",
       "      <td>SA</td>\n",
       "      <td>743</td>\n",
       "    </tr>\n",
       "  </tbody>\n",
       "</table>\n",
       "</div>"
      ],
      "text/plain": [
       "           Batsmen Team Rating\n",
       "0       Babar Azam  PAK    873\n",
       "1      Virat Kohli  IND    844\n",
       "2     Rohit Sharma  IND    813\n",
       "3      Ross Taylor   NZ    801\n",
       "4      Aaron Finch  AUS    779\n",
       "5   Jonny Bairstow  ENG    775\n",
       "6     David Warner  AUS    762\n",
       "7        Shai Hope   WI    758\n",
       "8  Kane Williamson   NZ    754\n",
       "9  Quinton de Kock   SA    743"
      ]
     },
     "execution_count": 66,
     "metadata": {},
     "output_type": "execute_result"
    }
   ],
   "source": [
    "ODI_Batsmen"
   ]
  },
  {
   "cell_type": "markdown",
   "id": "db5d9da1",
   "metadata": {},
   "source": [
    "-----"
   ]
  },
  {
   "cell_type": "markdown",
   "id": "8f277474",
   "metadata": {},
   "source": [
    "-----"
   ]
  },
  {
   "cell_type": "markdown",
   "id": "19a21311",
   "metadata": {},
   "source": [
    "5) Write a python program to scrape cricket rankings from icc-cricket.com. You have to scrape:\n",
    "\n",
    "c) Top 10 ODI bowlers along with the records of their team and rating.\n"
   ]
  },
  {
   "cell_type": "code",
   "execution_count": 67,
   "id": "1fe42d84",
   "metadata": {},
   "outputs": [
    {
     "data": {
      "text/plain": [
       "<Response [200]>"
      ]
     },
     "execution_count": 67,
     "metadata": {},
     "output_type": "execute_result"
    }
   ],
   "source": [
    "page=requests.get('https://www.icc-cricket.com/rankings/mens/player-rankings/odi/bowling')\n",
    "page"
   ]
  },
  {
   "cell_type": "code",
   "execution_count": 68,
   "id": "59f825d2",
   "metadata": {},
   "outputs": [],
   "source": [
    "odi_bow=BeautifulSoup(page.content)"
   ]
  },
  {
   "cell_type": "code",
   "execution_count": 69,
   "id": "efec9896",
   "metadata": {},
   "outputs": [
    {
     "data": {
      "text/plain": [
       "'Trent Boult'"
      ]
     },
     "execution_count": 69,
     "metadata": {},
     "output_type": "execute_result"
    }
   ],
   "source": [
    "bowler=odi_bow.find('div',class_=\"rankings-block__banner--name-large\")\n",
    "bowler.text"
   ]
  },
  {
   "cell_type": "code",
   "execution_count": 70,
   "id": "42003adb",
   "metadata": {},
   "outputs": [
    {
     "data": {
      "text/plain": [
       "['Josh Hazlewood',\n",
       " 'Mujeeb Ur Rahman',\n",
       " 'Chris Woakes',\n",
       " 'Mehedi Hasan',\n",
       " 'Matt Henry',\n",
       " 'Jasprit Bumrah',\n",
       " 'Mitchell Starc',\n",
       " 'Shakib Al Hasan',\n",
       " 'Kagiso Rabada']"
      ]
     },
     "execution_count": 70,
     "metadata": {},
     "output_type": "execute_result"
    }
   ],
   "source": [
    "bow_name=[]\n",
    "\n",
    "for i in odi_bow.find_all('td',class_=\"table-body__cell rankings-table__name name\"):\n",
    "                            \n",
    "    bow_name.append(i.text.strip(\"  \\n\"))\n",
    "    \n",
    "bow_name=bow_name[ :9]\n",
    "bow_name"
   ]
  },
  {
   "cell_type": "code",
   "execution_count": 71,
   "id": "8b8e776d",
   "metadata": {},
   "outputs": [],
   "source": [
    "bow_name.insert(0,bowler.text)"
   ]
  },
  {
   "cell_type": "code",
   "execution_count": 72,
   "id": "2fb48bbd",
   "metadata": {},
   "outputs": [
    {
     "data": {
      "text/plain": [
       "['Trent Boult',\n",
       " 'Josh Hazlewood',\n",
       " 'Mujeeb Ur Rahman',\n",
       " 'Chris Woakes',\n",
       " 'Mehedi Hasan',\n",
       " 'Matt Henry',\n",
       " 'Jasprit Bumrah',\n",
       " 'Mitchell Starc',\n",
       " 'Shakib Al Hasan',\n",
       " 'Kagiso Rabada']"
      ]
     },
     "execution_count": 72,
     "metadata": {},
     "output_type": "execute_result"
    }
   ],
   "source": [
    "bow_name"
   ]
  },
  {
   "cell_type": "code",
   "execution_count": 73,
   "id": "8a5991ca",
   "metadata": {},
   "outputs": [
    {
     "data": {
      "text/plain": [
       "'NZ'"
      ]
     },
     "execution_count": 73,
     "metadata": {},
     "output_type": "execute_result"
    }
   ],
   "source": [
    "team=odi_bow.find('div',class_=\"rankings-block__banner--nationality\")\n",
    "                        \n",
    "team=team.text.strip(\"  \\n\")\n",
    "team"
   ]
  },
  {
   "cell_type": "code",
   "execution_count": 74,
   "id": "c1138488",
   "metadata": {},
   "outputs": [
    {
     "data": {
      "text/plain": [
       "['AUS', 'AFG', 'ENG', 'BAN', 'NZ', 'IND', 'AUS', 'BAN', 'SA']"
      ]
     },
     "execution_count": 74,
     "metadata": {},
     "output_type": "execute_result"
    }
   ],
   "source": [
    "team_name=[]\n",
    "\n",
    "for i in odi_bow.find_all('span',class_=\"table-body__logo-text\"):\n",
    "                            \n",
    "    team_name.append(i.text)\n",
    "    \n",
    "team_name=team_name[ :9]\n",
    "team_name"
   ]
  },
  {
   "cell_type": "code",
   "execution_count": 75,
   "id": "777888f9",
   "metadata": {},
   "outputs": [],
   "source": [
    "team_name.insert(0,team)"
   ]
  },
  {
   "cell_type": "code",
   "execution_count": 76,
   "id": "913d30b7",
   "metadata": {},
   "outputs": [
    {
     "data": {
      "text/plain": [
       "['NZ', 'AUS', 'AFG', 'ENG', 'BAN', 'NZ', 'IND', 'AUS', 'BAN', 'SA']"
      ]
     },
     "execution_count": 76,
     "metadata": {},
     "output_type": "execute_result"
    }
   ],
   "source": [
    "team_name"
   ]
  },
  {
   "cell_type": "code",
   "execution_count": 77,
   "id": "d036b5a8",
   "metadata": {},
   "outputs": [
    {
     "data": {
      "text/plain": [
       "'737'"
      ]
     },
     "execution_count": 77,
     "metadata": {},
     "output_type": "execute_result"
    }
   ],
   "source": [
    "rate=odi_bow.find('div',class_=\"rankings-block__banner--rating\")\n",
    "                        \n",
    "rate=rate.text\n",
    "rate\n"
   ]
  },
  {
   "cell_type": "code",
   "execution_count": 78,
   "id": "4654ceaf",
   "metadata": {},
   "outputs": [
    {
     "data": {
      "text/plain": [
       "['709', '708', '700', '692', '691', '679', '652', '650', '643']"
      ]
     },
     "execution_count": 78,
     "metadata": {},
     "output_type": "execute_result"
    }
   ],
   "source": [
    "ratings=[]\n",
    "\n",
    "for i in odi_bow.find_all('td',class_=\"table-body__cell rating\"):\n",
    "                            \n",
    "    ratings.append(i.text)\n",
    "    \n",
    "\n",
    "ratings=ratings[ :9]\n",
    "ratings"
   ]
  },
  {
   "cell_type": "code",
   "execution_count": 79,
   "id": "fc179d6d",
   "metadata": {},
   "outputs": [],
   "source": [
    "ratings.insert(0,rate)"
   ]
  },
  {
   "cell_type": "code",
   "execution_count": 80,
   "id": "471fec39",
   "metadata": {},
   "outputs": [
    {
     "data": {
      "text/plain": [
       "['737', '709', '708', '700', '692', '691', '679', '652', '650', '643']"
      ]
     },
     "execution_count": 80,
     "metadata": {},
     "output_type": "execute_result"
    }
   ],
   "source": [
    "ratings"
   ]
  },
  {
   "cell_type": "code",
   "execution_count": 81,
   "id": "9f0a8cb7",
   "metadata": {},
   "outputs": [
    {
     "data": {
      "text/plain": [
       "(10, 10, 10)"
      ]
     },
     "execution_count": 81,
     "metadata": {},
     "output_type": "execute_result"
    }
   ],
   "source": [
    "len(bow_name),len(team_name),len(ratings)"
   ]
  },
  {
   "cell_type": "code",
   "execution_count": 82,
   "id": "9896b2eb",
   "metadata": {},
   "outputs": [],
   "source": [
    "#Making DataFrame\n",
    "ODI_Bowlers=pd.DataFrame({'Bowlers':bow_name,\n",
    "                         'Team':team_name,\n",
    "                         'Ratings':ratings\n",
    "                         })"
   ]
  },
  {
   "cell_type": "code",
   "execution_count": 83,
   "id": "f1ae962d",
   "metadata": {},
   "outputs": [
    {
     "data": {
      "text/html": [
       "<div>\n",
       "<style scoped>\n",
       "    .dataframe tbody tr th:only-of-type {\n",
       "        vertical-align: middle;\n",
       "    }\n",
       "\n",
       "    .dataframe tbody tr th {\n",
       "        vertical-align: top;\n",
       "    }\n",
       "\n",
       "    .dataframe thead th {\n",
       "        text-align: right;\n",
       "    }\n",
       "</style>\n",
       "<table border=\"1\" class=\"dataframe\">\n",
       "  <thead>\n",
       "    <tr style=\"text-align: right;\">\n",
       "      <th></th>\n",
       "      <th>Bowlers</th>\n",
       "      <th>Team</th>\n",
       "      <th>Ratings</th>\n",
       "    </tr>\n",
       "  </thead>\n",
       "  <tbody>\n",
       "    <tr>\n",
       "      <th>0</th>\n",
       "      <td>Trent Boult</td>\n",
       "      <td>NZ</td>\n",
       "      <td>737</td>\n",
       "    </tr>\n",
       "    <tr>\n",
       "      <th>1</th>\n",
       "      <td>Josh Hazlewood</td>\n",
       "      <td>AUS</td>\n",
       "      <td>709</td>\n",
       "    </tr>\n",
       "    <tr>\n",
       "      <th>2</th>\n",
       "      <td>Mujeeb Ur Rahman</td>\n",
       "      <td>AFG</td>\n",
       "      <td>708</td>\n",
       "    </tr>\n",
       "    <tr>\n",
       "      <th>3</th>\n",
       "      <td>Chris Woakes</td>\n",
       "      <td>ENG</td>\n",
       "      <td>700</td>\n",
       "    </tr>\n",
       "    <tr>\n",
       "      <th>4</th>\n",
       "      <td>Mehedi Hasan</td>\n",
       "      <td>BAN</td>\n",
       "      <td>692</td>\n",
       "    </tr>\n",
       "    <tr>\n",
       "      <th>5</th>\n",
       "      <td>Matt Henry</td>\n",
       "      <td>NZ</td>\n",
       "      <td>691</td>\n",
       "    </tr>\n",
       "    <tr>\n",
       "      <th>6</th>\n",
       "      <td>Jasprit Bumrah</td>\n",
       "      <td>IND</td>\n",
       "      <td>679</td>\n",
       "    </tr>\n",
       "    <tr>\n",
       "      <th>7</th>\n",
       "      <td>Mitchell Starc</td>\n",
       "      <td>AUS</td>\n",
       "      <td>652</td>\n",
       "    </tr>\n",
       "    <tr>\n",
       "      <th>8</th>\n",
       "      <td>Shakib Al Hasan</td>\n",
       "      <td>BAN</td>\n",
       "      <td>650</td>\n",
       "    </tr>\n",
       "    <tr>\n",
       "      <th>9</th>\n",
       "      <td>Kagiso Rabada</td>\n",
       "      <td>SA</td>\n",
       "      <td>643</td>\n",
       "    </tr>\n",
       "  </tbody>\n",
       "</table>\n",
       "</div>"
      ],
      "text/plain": [
       "            Bowlers Team Ratings\n",
       "0       Trent Boult   NZ     737\n",
       "1    Josh Hazlewood  AUS     709\n",
       "2  Mujeeb Ur Rahman  AFG     708\n",
       "3      Chris Woakes  ENG     700\n",
       "4      Mehedi Hasan  BAN     692\n",
       "5        Matt Henry   NZ     691\n",
       "6    Jasprit Bumrah  IND     679\n",
       "7    Mitchell Starc  AUS     652\n",
       "8   Shakib Al Hasan  BAN     650\n",
       "9     Kagiso Rabada   SA     643"
      ]
     },
     "execution_count": 83,
     "metadata": {},
     "output_type": "execute_result"
    }
   ],
   "source": [
    "ODI_Bowlers"
   ]
  },
  {
   "cell_type": "markdown",
   "id": "5c24aee6",
   "metadata": {},
   "source": [
    "-----"
   ]
  },
  {
   "cell_type": "markdown",
   "id": "354d881c",
   "metadata": {},
   "source": [
    "-----"
   ]
  },
  {
   "cell_type": "markdown",
   "id": "e6f157b2",
   "metadata": {},
   "source": [
    "-----"
   ]
  },
  {
   "cell_type": "markdown",
   "id": "e1b40109",
   "metadata": {},
   "source": [
    "6) Write a python program to scrape cricket rankings from icc-cricket.com. You have to scrape:\n",
    "a) Top 10 ODI teams in women’s cricket along with the records for matches, points and rating.\n"
   ]
  },
  {
   "cell_type": "code",
   "execution_count": 84,
   "id": "39073e6c",
   "metadata": {},
   "outputs": [
    {
     "data": {
      "text/plain": [
       "<Response [200]>"
      ]
     },
     "execution_count": 84,
     "metadata": {},
     "output_type": "execute_result"
    }
   ],
   "source": [
    "page=requests.get(\"https://www.icc-cricket.com/rankings/womens/team-rankings/odi\")\n",
    "page"
   ]
  },
  {
   "cell_type": "code",
   "execution_count": 85,
   "id": "b57afde1",
   "metadata": {},
   "outputs": [],
   "source": [
    "team_rank=BeautifulSoup(page.content)"
   ]
  },
  {
   "cell_type": "code",
   "execution_count": 86,
   "id": "feb7017d",
   "metadata": {},
   "outputs": [
    {
     "data": {
      "text/plain": [
       "['Australia',\n",
       " 'South Africa',\n",
       " 'England',\n",
       " 'India',\n",
       " 'Bangladesh',\n",
       " 'New Zealand',\n",
       " 'West Indies',\n",
       " 'Pakistan',\n",
       " 'Ireland',\n",
       " 'Sri Lanka',\n",
       " 'Zimbabwe']"
      ]
     },
     "execution_count": 86,
     "metadata": {},
     "output_type": "execute_result"
    }
   ],
   "source": [
    "team=[]\n",
    "for i in team_rank.find_all('span',class_=\"u-hide-phablet\"):\n",
    "    team.append(i.text)\n",
    "    \n",
    "team=team[:11]\n",
    "team"
   ]
  },
  {
   "cell_type": "code",
   "execution_count": 87,
   "id": "2cb792ad",
   "metadata": {},
   "outputs": [],
   "source": [
    "matches=[]\n",
    "for i in team_rank.find_all('td',class_=\"table-body__cell u-center-text\"):\n",
    "    matches.append(i.text)\n",
    "    \n",
    "matches=matches[0: :2]"
   ]
  },
  {
   "cell_type": "code",
   "execution_count": 88,
   "id": "29d744b7",
   "metadata": {},
   "outputs": [
    {
     "data": {
      "text/plain": [
       "['19', '18', '17', '5', '19', '19', '18', '5', '5', '7']"
      ]
     },
     "execution_count": 88,
     "metadata": {},
     "output_type": "execute_result"
    }
   ],
   "source": [
    "matches"
   ]
  },
  {
   "cell_type": "code",
   "execution_count": 89,
   "id": "4175835e",
   "metadata": {},
   "outputs": [
    {
     "data": {
      "text/plain": [
       "'17'"
      ]
     },
     "execution_count": 89,
     "metadata": {},
     "output_type": "execute_result"
    }
   ],
   "source": [
    "match=team_rank.find('td',class_=\"rankings-block__banner--matches\")\n",
    "match.text"
   ]
  },
  {
   "cell_type": "code",
   "execution_count": 90,
   "id": "440e5d3c",
   "metadata": {},
   "outputs": [],
   "source": [
    "matches.insert(0,match.text)"
   ]
  },
  {
   "cell_type": "code",
   "execution_count": 91,
   "id": "abd9ad6b",
   "metadata": {},
   "outputs": [
    {
     "data": {
      "text/plain": [
       "['17', '19', '18', '17', '5', '19', '19', '18', '5', '5', '7']"
      ]
     },
     "execution_count": 91,
     "metadata": {},
     "output_type": "execute_result"
    }
   ],
   "source": [
    "matches"
   ]
  },
  {
   "cell_type": "code",
   "execution_count": 92,
   "id": "bbaa21be",
   "metadata": {},
   "outputs": [],
   "source": [
    "points=[]\n",
    "for i in team_rank.find_all('td',class_=\"table-body__cell u-center-text\"):\n",
    "    points.append(i.text)\n",
    "    \n",
    "points=points[1: :2]"
   ]
  },
  {
   "cell_type": "code",
   "execution_count": 93,
   "id": "7d712d71",
   "metadata": {},
   "outputs": [
    {
     "data": {
      "text/plain": [
       "['2,307',\n",
       " '2,148',\n",
       " '1,899',\n",
       " '475',\n",
       " '1,668',\n",
       " '1,658',\n",
       " '1,226',\n",
       " '240',\n",
       " '233',\n",
       " '0']"
      ]
     },
     "execution_count": 93,
     "metadata": {},
     "output_type": "execute_result"
    }
   ],
   "source": [
    "points"
   ]
  },
  {
   "cell_type": "code",
   "execution_count": 94,
   "id": "334eb4ac",
   "metadata": {},
   "outputs": [
    {
     "data": {
      "text/plain": [
       "'2,746'"
      ]
     },
     "execution_count": 94,
     "metadata": {},
     "output_type": "execute_result"
    }
   ],
   "source": [
    "point=team_rank.find('td',class_=\"rankings-block__banner--points\")\n",
    "point.text"
   ]
  },
  {
   "cell_type": "code",
   "execution_count": 95,
   "id": "ac8d04bf",
   "metadata": {},
   "outputs": [],
   "source": [
    "points.insert(0,point.text)"
   ]
  },
  {
   "cell_type": "code",
   "execution_count": 96,
   "id": "93175c16",
   "metadata": {},
   "outputs": [
    {
     "data": {
      "text/plain": [
       "['2,746',\n",
       " '2,307',\n",
       " '2,148',\n",
       " '1,899',\n",
       " '475',\n",
       " '1,668',\n",
       " '1,658',\n",
       " '1,226',\n",
       " '240',\n",
       " '233',\n",
       " '0']"
      ]
     },
     "execution_count": 96,
     "metadata": {},
     "output_type": "execute_result"
    }
   ],
   "source": [
    "points"
   ]
  },
  {
   "cell_type": "code",
   "execution_count": 97,
   "id": "709106a0",
   "metadata": {},
   "outputs": [
    {
     "data": {
      "text/plain": [
       "['121', '119', '112', '95', '88', '87', '68', '48', '47', '0']"
      ]
     },
     "execution_count": 97,
     "metadata": {},
     "output_type": "execute_result"
    }
   ],
   "source": [
    "ratings=[]\n",
    "for i in team_rank.find_all('td',class_=\"table-body__cell u-text-right rating\"):\n",
    "    ratings.append(i.text)\n",
    "    \n",
    "ratings"
   ]
  },
  {
   "cell_type": "code",
   "execution_count": 98,
   "id": "c6e1ec26",
   "metadata": {},
   "outputs": [
    {
     "data": {
      "text/plain": [
       "'162'"
      ]
     },
     "execution_count": 98,
     "metadata": {},
     "output_type": "execute_result"
    }
   ],
   "source": [
    "rating=team_rank.find('td',class_=\"rankings-block__banner--rating u-text-right\")\n",
    "rating=rating.text.strip('      \\n')\n",
    "rating"
   ]
  },
  {
   "cell_type": "code",
   "execution_count": 99,
   "id": "f795dcd6",
   "metadata": {},
   "outputs": [],
   "source": [
    "ratings.insert(0,rating)"
   ]
  },
  {
   "cell_type": "code",
   "execution_count": 100,
   "id": "20b3112d",
   "metadata": {},
   "outputs": [
    {
     "data": {
      "text/plain": [
       "['162', '121', '119', '112', '95', '88', '87', '68', '48', '47', '0']"
      ]
     },
     "execution_count": 100,
     "metadata": {},
     "output_type": "execute_result"
    }
   ],
   "source": [
    "ratings"
   ]
  },
  {
   "cell_type": "code",
   "execution_count": 101,
   "id": "42436290",
   "metadata": {},
   "outputs": [
    {
     "data": {
      "text/plain": [
       "(11, 11, 11, 11)"
      ]
     },
     "execution_count": 101,
     "metadata": {},
     "output_type": "execute_result"
    }
   ],
   "source": [
    "len(ratings),len(points),len(matches),len(team)"
   ]
  },
  {
   "cell_type": "code",
   "execution_count": 102,
   "id": "39f67482",
   "metadata": {},
   "outputs": [],
   "source": [
    "#Making DataFrame\n",
    "ODI_t_womens=pd.DataFrame({'Team':team,\n",
    "                           'Matches':matches,\n",
    "                          'Points':points,\n",
    "                           'Ratings':ratings})"
   ]
  },
  {
   "cell_type": "code",
   "execution_count": 103,
   "id": "9e76b893",
   "metadata": {},
   "outputs": [
    {
     "data": {
      "text/html": [
       "<div>\n",
       "<style scoped>\n",
       "    .dataframe tbody tr th:only-of-type {\n",
       "        vertical-align: middle;\n",
       "    }\n",
       "\n",
       "    .dataframe tbody tr th {\n",
       "        vertical-align: top;\n",
       "    }\n",
       "\n",
       "    .dataframe thead th {\n",
       "        text-align: right;\n",
       "    }\n",
       "</style>\n",
       "<table border=\"1\" class=\"dataframe\">\n",
       "  <thead>\n",
       "    <tr style=\"text-align: right;\">\n",
       "      <th></th>\n",
       "      <th>Team</th>\n",
       "      <th>Matches</th>\n",
       "      <th>Points</th>\n",
       "      <th>Ratings</th>\n",
       "    </tr>\n",
       "  </thead>\n",
       "  <tbody>\n",
       "    <tr>\n",
       "      <th>0</th>\n",
       "      <td>Australia</td>\n",
       "      <td>17</td>\n",
       "      <td>2,746</td>\n",
       "      <td>162</td>\n",
       "    </tr>\n",
       "    <tr>\n",
       "      <th>1</th>\n",
       "      <td>South Africa</td>\n",
       "      <td>19</td>\n",
       "      <td>2,307</td>\n",
       "      <td>121</td>\n",
       "    </tr>\n",
       "    <tr>\n",
       "      <th>2</th>\n",
       "      <td>England</td>\n",
       "      <td>18</td>\n",
       "      <td>2,148</td>\n",
       "      <td>119</td>\n",
       "    </tr>\n",
       "    <tr>\n",
       "      <th>3</th>\n",
       "      <td>India</td>\n",
       "      <td>17</td>\n",
       "      <td>1,899</td>\n",
       "      <td>112</td>\n",
       "    </tr>\n",
       "    <tr>\n",
       "      <th>4</th>\n",
       "      <td>Bangladesh</td>\n",
       "      <td>5</td>\n",
       "      <td>475</td>\n",
       "      <td>95</td>\n",
       "    </tr>\n",
       "    <tr>\n",
       "      <th>5</th>\n",
       "      <td>New Zealand</td>\n",
       "      <td>19</td>\n",
       "      <td>1,668</td>\n",
       "      <td>88</td>\n",
       "    </tr>\n",
       "    <tr>\n",
       "      <th>6</th>\n",
       "      <td>West Indies</td>\n",
       "      <td>19</td>\n",
       "      <td>1,658</td>\n",
       "      <td>87</td>\n",
       "    </tr>\n",
       "    <tr>\n",
       "      <th>7</th>\n",
       "      <td>Pakistan</td>\n",
       "      <td>18</td>\n",
       "      <td>1,226</td>\n",
       "      <td>68</td>\n",
       "    </tr>\n",
       "    <tr>\n",
       "      <th>8</th>\n",
       "      <td>Ireland</td>\n",
       "      <td>5</td>\n",
       "      <td>240</td>\n",
       "      <td>48</td>\n",
       "    </tr>\n",
       "    <tr>\n",
       "      <th>9</th>\n",
       "      <td>Sri Lanka</td>\n",
       "      <td>5</td>\n",
       "      <td>233</td>\n",
       "      <td>47</td>\n",
       "    </tr>\n",
       "    <tr>\n",
       "      <th>10</th>\n",
       "      <td>Zimbabwe</td>\n",
       "      <td>7</td>\n",
       "      <td>0</td>\n",
       "      <td>0</td>\n",
       "    </tr>\n",
       "  </tbody>\n",
       "</table>\n",
       "</div>"
      ],
      "text/plain": [
       "            Team Matches Points Ratings\n",
       "0      Australia      17  2,746     162\n",
       "1   South Africa      19  2,307     121\n",
       "2        England      18  2,148     119\n",
       "3          India      17  1,899     112\n",
       "4     Bangladesh       5    475      95\n",
       "5    New Zealand      19  1,668      88\n",
       "6    West Indies      19  1,658      87\n",
       "7       Pakistan      18  1,226      68\n",
       "8        Ireland       5    240      48\n",
       "9      Sri Lanka       5    233      47\n",
       "10      Zimbabwe       7      0       0"
      ]
     },
     "execution_count": 103,
     "metadata": {},
     "output_type": "execute_result"
    }
   ],
   "source": [
    "ODI_t_womens"
   ]
  },
  {
   "cell_type": "markdown",
   "id": "52e1e749",
   "metadata": {},
   "source": [
    "-----"
   ]
  },
  {
   "cell_type": "markdown",
   "id": "3ecb3ad9",
   "metadata": {},
   "source": [
    "-----"
   ]
  },
  {
   "cell_type": "markdown",
   "id": "d8e6bc04",
   "metadata": {},
   "source": [
    "6) Write a python program to scrape cricket rankings from icc-cricket.com. You have to scrape:\n",
    "\n",
    "b) Top 10 women’s ODI Batting players along with the records of their team and rating.\n"
   ]
  },
  {
   "cell_type": "code",
   "execution_count": 104,
   "id": "1cabafde",
   "metadata": {},
   "outputs": [
    {
     "data": {
      "text/plain": [
       "<Response [200]>"
      ]
     },
     "execution_count": 104,
     "metadata": {},
     "output_type": "execute_result"
    }
   ],
   "source": [
    "page=requests.get('https://www.icc-cricket.com/rankings/womens/player-rankings/odi')\n",
    "page"
   ]
  },
  {
   "cell_type": "code",
   "execution_count": 105,
   "id": "2987495d",
   "metadata": {},
   "outputs": [],
   "source": [
    "batt_ply=BeautifulSoup(page.content)"
   ]
  },
  {
   "cell_type": "code",
   "execution_count": 106,
   "id": "611c2380",
   "metadata": {},
   "outputs": [
    {
     "data": {
      "text/plain": [
       "['Alyssa Healy',\n",
       " 'Mithali Raj',\n",
       " 'Tammy Beaumont',\n",
       " 'Amy Satterthwaite',\n",
       " 'Smriti Mandhana',\n",
       " 'Meg Lanning',\n",
       " 'Beth Mooney',\n",
       " 'Stafanie Taylor',\n",
       " 'Heather Knight']"
      ]
     },
     "execution_count": 106,
     "metadata": {},
     "output_type": "execute_result"
    }
   ],
   "source": [
    "names=[]\n",
    "for i in batt_ply.find_all('td',class_=\"table-body__cell name\"):\n",
    "    names.append(i.text.strip('\\n'))\n",
    "    \n",
    "names=names[: 9]\n",
    "names"
   ]
  },
  {
   "cell_type": "code",
   "execution_count": 107,
   "id": "d891d280",
   "metadata": {},
   "outputs": [
    {
     "data": {
      "text/plain": [
       "'Lizelle Lee'"
      ]
     },
     "execution_count": 107,
     "metadata": {},
     "output_type": "execute_result"
    }
   ],
   "source": [
    "name=batt_ply.find('div',class_=\"rankings-block__banner--name\")\n",
    "name.text"
   ]
  },
  {
   "cell_type": "code",
   "execution_count": 108,
   "id": "0ef88546",
   "metadata": {},
   "outputs": [
    {
     "data": {
      "text/plain": [
       "['Lizelle Lee',\n",
       " 'Alyssa Healy',\n",
       " 'Mithali Raj',\n",
       " 'Tammy Beaumont',\n",
       " 'Amy Satterthwaite',\n",
       " 'Smriti Mandhana',\n",
       " 'Meg Lanning',\n",
       " 'Beth Mooney',\n",
       " 'Stafanie Taylor',\n",
       " 'Heather Knight']"
      ]
     },
     "execution_count": 108,
     "metadata": {},
     "output_type": "execute_result"
    }
   ],
   "source": [
    "names.insert(0,name.text)\n",
    "names"
   ]
  },
  {
   "cell_type": "code",
   "execution_count": 109,
   "id": "ff4ff9c1",
   "metadata": {},
   "outputs": [
    {
     "data": {
      "text/plain": [
       "['AUS', 'IND', 'ENG', 'NZ', 'IND', 'AUS', 'AUS', 'WI', 'ENG']"
      ]
     },
     "execution_count": 109,
     "metadata": {},
     "output_type": "execute_result"
    }
   ],
   "source": [
    "teams=[]\n",
    "for i in batt_ply.find_all('span',class_=\"table-body__logo-text\"):\n",
    "    teams.append(i.text)\n",
    "    \n",
    "teams=teams[:9]\n",
    "teams"
   ]
  },
  {
   "cell_type": "code",
   "execution_count": 110,
   "id": "088395c5",
   "metadata": {},
   "outputs": [
    {
     "data": {
      "text/plain": [
       "'SA'"
      ]
     },
     "execution_count": 110,
     "metadata": {},
     "output_type": "execute_result"
    }
   ],
   "source": [
    "team=batt_ply.find('div',class_=\"rankings-block__banner--nationality\")\n",
    "team=team.text[2:4]\n",
    "team"
   ]
  },
  {
   "cell_type": "code",
   "execution_count": 111,
   "id": "9e115cc3",
   "metadata": {},
   "outputs": [
    {
     "data": {
      "text/plain": [
       "['SA', 'AUS', 'IND', 'ENG', 'NZ', 'IND', 'AUS', 'AUS', 'WI', 'ENG']"
      ]
     },
     "execution_count": 111,
     "metadata": {},
     "output_type": "execute_result"
    }
   ],
   "source": [
    "teams.insert(0,team)\n",
    "teams"
   ]
  },
  {
   "cell_type": "code",
   "execution_count": 112,
   "id": "e7592bd9",
   "metadata": {},
   "outputs": [
    {
     "data": {
      "text/plain": [
       "['750', '738', '728', '717', '710', '699', '690', '676', '674']"
      ]
     },
     "execution_count": 112,
     "metadata": {},
     "output_type": "execute_result"
    }
   ],
   "source": [
    "ratings=[]\n",
    "for i in batt_ply.find_all('td',class_=\"table-body__cell u-text-right rating\"):\n",
    "    ratings.append(i.text)\n",
    "    \n",
    "ratings=ratings[ :9]\n",
    "ratings"
   ]
  },
  {
   "cell_type": "code",
   "execution_count": 113,
   "id": "fc8c7a20",
   "metadata": {},
   "outputs": [
    {
     "data": {
      "text/plain": [
       "'761'"
      ]
     },
     "execution_count": 113,
     "metadata": {},
     "output_type": "execute_result"
    }
   ],
   "source": [
    "rating=batt_ply.find('div',class_=\"rankings-block__banner--rating\")\n",
    "rating.text   "
   ]
  },
  {
   "cell_type": "code",
   "execution_count": 114,
   "id": "413d55d0",
   "metadata": {},
   "outputs": [],
   "source": [
    "ratings.insert(0,rating.text)"
   ]
  },
  {
   "cell_type": "code",
   "execution_count": 115,
   "id": "eaa9284f",
   "metadata": {},
   "outputs": [
    {
     "data": {
      "text/plain": [
       "['761', '750', '738', '728', '717', '710', '699', '690', '676', '674']"
      ]
     },
     "execution_count": 115,
     "metadata": {},
     "output_type": "execute_result"
    }
   ],
   "source": [
    "ratings"
   ]
  },
  {
   "cell_type": "code",
   "execution_count": 116,
   "id": "1e19f782",
   "metadata": {},
   "outputs": [
    {
     "data": {
      "text/plain": [
       "(10, 10, 10)"
      ]
     },
     "execution_count": 116,
     "metadata": {},
     "output_type": "execute_result"
    }
   ],
   "source": [
    "len(ratings),len(teams),len(names)"
   ]
  },
  {
   "cell_type": "code",
   "execution_count": 117,
   "id": "03cf336b",
   "metadata": {},
   "outputs": [],
   "source": [
    "#Making DataFrame\n",
    "Batting_players=pd.DataFrame({'Players Name':names,\n",
    "                              'Teams': teams,\n",
    "                              'Ratings': ratings})"
   ]
  },
  {
   "cell_type": "code",
   "execution_count": 118,
   "id": "b474a4b1",
   "metadata": {},
   "outputs": [
    {
     "data": {
      "text/html": [
       "<div>\n",
       "<style scoped>\n",
       "    .dataframe tbody tr th:only-of-type {\n",
       "        vertical-align: middle;\n",
       "    }\n",
       "\n",
       "    .dataframe tbody tr th {\n",
       "        vertical-align: top;\n",
       "    }\n",
       "\n",
       "    .dataframe thead th {\n",
       "        text-align: right;\n",
       "    }\n",
       "</style>\n",
       "<table border=\"1\" class=\"dataframe\">\n",
       "  <thead>\n",
       "    <tr style=\"text-align: right;\">\n",
       "      <th></th>\n",
       "      <th>Players Name</th>\n",
       "      <th>Teams</th>\n",
       "      <th>Ratings</th>\n",
       "    </tr>\n",
       "  </thead>\n",
       "  <tbody>\n",
       "    <tr>\n",
       "      <th>0</th>\n",
       "      <td>Lizelle Lee</td>\n",
       "      <td>SA</td>\n",
       "      <td>761</td>\n",
       "    </tr>\n",
       "    <tr>\n",
       "      <th>1</th>\n",
       "      <td>Alyssa Healy</td>\n",
       "      <td>AUS</td>\n",
       "      <td>750</td>\n",
       "    </tr>\n",
       "    <tr>\n",
       "      <th>2</th>\n",
       "      <td>Mithali Raj</td>\n",
       "      <td>IND</td>\n",
       "      <td>738</td>\n",
       "    </tr>\n",
       "    <tr>\n",
       "      <th>3</th>\n",
       "      <td>Tammy Beaumont</td>\n",
       "      <td>ENG</td>\n",
       "      <td>728</td>\n",
       "    </tr>\n",
       "    <tr>\n",
       "      <th>4</th>\n",
       "      <td>Amy Satterthwaite</td>\n",
       "      <td>NZ</td>\n",
       "      <td>717</td>\n",
       "    </tr>\n",
       "    <tr>\n",
       "      <th>5</th>\n",
       "      <td>Smriti Mandhana</td>\n",
       "      <td>IND</td>\n",
       "      <td>710</td>\n",
       "    </tr>\n",
       "    <tr>\n",
       "      <th>6</th>\n",
       "      <td>Meg Lanning</td>\n",
       "      <td>AUS</td>\n",
       "      <td>699</td>\n",
       "    </tr>\n",
       "    <tr>\n",
       "      <th>7</th>\n",
       "      <td>Beth Mooney</td>\n",
       "      <td>AUS</td>\n",
       "      <td>690</td>\n",
       "    </tr>\n",
       "    <tr>\n",
       "      <th>8</th>\n",
       "      <td>Stafanie Taylor</td>\n",
       "      <td>WI</td>\n",
       "      <td>676</td>\n",
       "    </tr>\n",
       "    <tr>\n",
       "      <th>9</th>\n",
       "      <td>Heather Knight</td>\n",
       "      <td>ENG</td>\n",
       "      <td>674</td>\n",
       "    </tr>\n",
       "  </tbody>\n",
       "</table>\n",
       "</div>"
      ],
      "text/plain": [
       "        Players Name Teams Ratings\n",
       "0        Lizelle Lee    SA     761\n",
       "1       Alyssa Healy   AUS     750\n",
       "2        Mithali Raj   IND     738\n",
       "3     Tammy Beaumont   ENG     728\n",
       "4  Amy Satterthwaite    NZ     717\n",
       "5    Smriti Mandhana   IND     710\n",
       "6        Meg Lanning   AUS     699\n",
       "7        Beth Mooney   AUS     690\n",
       "8    Stafanie Taylor    WI     676\n",
       "9     Heather Knight   ENG     674"
      ]
     },
     "execution_count": 118,
     "metadata": {},
     "output_type": "execute_result"
    }
   ],
   "source": [
    "Batting_players"
   ]
  },
  {
   "cell_type": "markdown",
   "id": "49d775cc",
   "metadata": {},
   "source": [
    "----- "
   ]
  },
  {
   "cell_type": "markdown",
   "id": "069676e3",
   "metadata": {},
   "source": [
    "-----"
   ]
  },
  {
   "cell_type": "markdown",
   "id": "5e53b731",
   "metadata": {},
   "source": [
    "6) Write a python program to scrape cricket rankings from icc-cricket.com. You have to scrape:\n",
    "\n",
    "c) Top 10 women’s ODI all-rounder along with the records of their team and rating\n"
   ]
  },
  {
   "cell_type": "code",
   "execution_count": 119,
   "id": "1e87d4fc",
   "metadata": {},
   "outputs": [
    {
     "data": {
      "text/plain": [
       "<Response [200]>"
      ]
     },
     "execution_count": 119,
     "metadata": {},
     "output_type": "execute_result"
    }
   ],
   "source": [
    "page=requests.get('https://www.icc-cricket.com/rankings/womens/player-rankings/odi/all-rounder')\n",
    "page"
   ]
  },
  {
   "cell_type": "code",
   "execution_count": 120,
   "id": "fd217712",
   "metadata": {},
   "outputs": [],
   "source": [
    "all_roun=BeautifulSoup(page.content)"
   ]
  },
  {
   "cell_type": "code",
   "execution_count": 121,
   "id": "9496bb47",
   "metadata": {},
   "outputs": [
    {
     "data": {
      "text/plain": [
       "['Natalie Sciver',\n",
       " 'Ellyse Perry',\n",
       " 'Stafanie Taylor',\n",
       " 'Deepti Sharma',\n",
       " 'Ashleigh Gardner',\n",
       " 'Dane van Niekerk',\n",
       " 'Hayley Matthews',\n",
       " 'Jess Jonassen',\n",
       " 'Katherine Brunt']"
      ]
     },
     "execution_count": 121,
     "metadata": {},
     "output_type": "execute_result"
    }
   ],
   "source": [
    "names_all=[]\n",
    "for i in all_roun.find_all('td',class_=\"table-body__cell rankings-table__name name\"):\n",
    "    names_all.append(i.text.strip('\\n'))\n",
    "    \n",
    "\n",
    "names_all=names_all[ :9]\n",
    "names_all"
   ]
  },
  {
   "cell_type": "code",
   "execution_count": 122,
   "id": "f4d0bba5",
   "metadata": {},
   "outputs": [
    {
     "data": {
      "text/plain": [
       "'Marizanne Kapp'"
      ]
     },
     "execution_count": 122,
     "metadata": {},
     "output_type": "execute_result"
    }
   ],
   "source": [
    "name_=all_roun.find('div',class_=\"rankings-block__banner--name-large\")\n",
    "name_.text"
   ]
  },
  {
   "cell_type": "code",
   "execution_count": 123,
   "id": "09241158",
   "metadata": {},
   "outputs": [
    {
     "data": {
      "text/plain": [
       "['Marizanne Kapp',\n",
       " 'Natalie Sciver',\n",
       " 'Ellyse Perry',\n",
       " 'Stafanie Taylor',\n",
       " 'Deepti Sharma',\n",
       " 'Ashleigh Gardner',\n",
       " 'Dane van Niekerk',\n",
       " 'Hayley Matthews',\n",
       " 'Jess Jonassen',\n",
       " 'Katherine Brunt']"
      ]
     },
     "execution_count": 123,
     "metadata": {},
     "output_type": "execute_result"
    }
   ],
   "source": [
    "names_all.insert(0,name_.text)\n",
    "names_all"
   ]
  },
  {
   "cell_type": "code",
   "execution_count": 124,
   "id": "19723a50",
   "metadata": {},
   "outputs": [
    {
     "data": {
      "text/plain": [
       "['ENG', 'AUS', 'WI', 'IND', 'AUS', 'SA', 'WI', 'AUS', 'ENG']"
      ]
     },
     "execution_count": 124,
     "metadata": {},
     "output_type": "execute_result"
    }
   ],
   "source": [
    "teams_all=[]\n",
    "for i in all_roun.find_all('span',class_=\"table-body__logo-text\"):\n",
    "    teams_all.append(i.text)\n",
    "    \n",
    "teams_all=teams_all[ :9]\n",
    "teams_all"
   ]
  },
  {
   "cell_type": "code",
   "execution_count": 125,
   "id": "d9ccc562",
   "metadata": {},
   "outputs": [
    {
     "data": {
      "text/plain": [
       "'SA'"
      ]
     },
     "execution_count": 125,
     "metadata": {},
     "output_type": "execute_result"
    }
   ],
   "source": [
    "team_=all_roun.find('div',class_=\"rankings-block__banner--nationality\")\n",
    "team_=team_.text.strip('\\n')[ :2]\n",
    "team_                       "
   ]
  },
  {
   "cell_type": "code",
   "execution_count": 126,
   "id": "428214c9",
   "metadata": {},
   "outputs": [
    {
     "data": {
      "text/plain": [
       "['SA', 'ENG', 'AUS', 'WI', 'IND', 'AUS', 'SA', 'WI', 'AUS', 'ENG']"
      ]
     },
     "execution_count": 126,
     "metadata": {},
     "output_type": "execute_result"
    }
   ],
   "source": [
    "teams_all.insert(0,team_)\n",
    "teams_all"
   ]
  },
  {
   "cell_type": "code",
   "execution_count": 127,
   "id": "d045647b",
   "metadata": {},
   "outputs": [
    {
     "data": {
      "text/plain": [
       "['372', '365', '319', '299', '275', '274', '272', '272', '272']"
      ]
     },
     "execution_count": 127,
     "metadata": {},
     "output_type": "execute_result"
    }
   ],
   "source": [
    "ratings_all=[]\n",
    "for i in all_roun.find_all('td',class_=\"table-body__cell rating\"):\n",
    "    ratings_all.append(i.text)\n",
    "    \n",
    "ratings_all=ratings_all[ :9]\n",
    "ratings_all"
   ]
  },
  {
   "cell_type": "code",
   "execution_count": 128,
   "id": "5347b067",
   "metadata": {},
   "outputs": [
    {
     "data": {
      "text/plain": [
       "'384'"
      ]
     },
     "execution_count": 128,
     "metadata": {},
     "output_type": "execute_result"
    }
   ],
   "source": [
    "rating_=all_roun.find('div',class_=\"rankings-block__banner--rating\")\n",
    "rating_=rating_.text\n",
    "rating_"
   ]
  },
  {
   "cell_type": "code",
   "execution_count": 129,
   "id": "157c1054",
   "metadata": {},
   "outputs": [
    {
     "data": {
      "text/plain": [
       "['384', '372', '365', '319', '299', '275', '274', '272', '272', '272']"
      ]
     },
     "execution_count": 129,
     "metadata": {},
     "output_type": "execute_result"
    }
   ],
   "source": [
    "ratings_all.insert(0,rating_)\n",
    "ratings_all"
   ]
  },
  {
   "cell_type": "code",
   "execution_count": 130,
   "id": "f8af9214",
   "metadata": {},
   "outputs": [
    {
     "data": {
      "text/plain": [
       "(10, 10, 10)"
      ]
     },
     "execution_count": 130,
     "metadata": {},
     "output_type": "execute_result"
    }
   ],
   "source": [
    "len(names_all),len(teams_all),len(ratings_all)"
   ]
  },
  {
   "cell_type": "code",
   "execution_count": 131,
   "id": "9877be37",
   "metadata": {},
   "outputs": [],
   "source": [
    "#Making DataFrame\n",
    "ODI_allrounder=pd.DataFrame({'Players':names_all,\n",
    "                             'Team':teams_all,\n",
    "                             'Rating': ratings_all})"
   ]
  },
  {
   "cell_type": "code",
   "execution_count": 132,
   "id": "8e104728",
   "metadata": {},
   "outputs": [
    {
     "data": {
      "text/html": [
       "<div>\n",
       "<style scoped>\n",
       "    .dataframe tbody tr th:only-of-type {\n",
       "        vertical-align: middle;\n",
       "    }\n",
       "\n",
       "    .dataframe tbody tr th {\n",
       "        vertical-align: top;\n",
       "    }\n",
       "\n",
       "    .dataframe thead th {\n",
       "        text-align: right;\n",
       "    }\n",
       "</style>\n",
       "<table border=\"1\" class=\"dataframe\">\n",
       "  <thead>\n",
       "    <tr style=\"text-align: right;\">\n",
       "      <th></th>\n",
       "      <th>Players</th>\n",
       "      <th>Team</th>\n",
       "      <th>Rating</th>\n",
       "    </tr>\n",
       "  </thead>\n",
       "  <tbody>\n",
       "    <tr>\n",
       "      <th>0</th>\n",
       "      <td>Marizanne Kapp</td>\n",
       "      <td>SA</td>\n",
       "      <td>384</td>\n",
       "    </tr>\n",
       "    <tr>\n",
       "      <th>1</th>\n",
       "      <td>Natalie Sciver</td>\n",
       "      <td>ENG</td>\n",
       "      <td>372</td>\n",
       "    </tr>\n",
       "    <tr>\n",
       "      <th>2</th>\n",
       "      <td>Ellyse Perry</td>\n",
       "      <td>AUS</td>\n",
       "      <td>365</td>\n",
       "    </tr>\n",
       "    <tr>\n",
       "      <th>3</th>\n",
       "      <td>Stafanie Taylor</td>\n",
       "      <td>WI</td>\n",
       "      <td>319</td>\n",
       "    </tr>\n",
       "    <tr>\n",
       "      <th>4</th>\n",
       "      <td>Deepti Sharma</td>\n",
       "      <td>IND</td>\n",
       "      <td>299</td>\n",
       "    </tr>\n",
       "    <tr>\n",
       "      <th>5</th>\n",
       "      <td>Ashleigh Gardner</td>\n",
       "      <td>AUS</td>\n",
       "      <td>275</td>\n",
       "    </tr>\n",
       "    <tr>\n",
       "      <th>6</th>\n",
       "      <td>Dane van Niekerk</td>\n",
       "      <td>SA</td>\n",
       "      <td>274</td>\n",
       "    </tr>\n",
       "    <tr>\n",
       "      <th>7</th>\n",
       "      <td>Hayley Matthews</td>\n",
       "      <td>WI</td>\n",
       "      <td>272</td>\n",
       "    </tr>\n",
       "    <tr>\n",
       "      <th>8</th>\n",
       "      <td>Jess Jonassen</td>\n",
       "      <td>AUS</td>\n",
       "      <td>272</td>\n",
       "    </tr>\n",
       "    <tr>\n",
       "      <th>9</th>\n",
       "      <td>Katherine Brunt</td>\n",
       "      <td>ENG</td>\n",
       "      <td>272</td>\n",
       "    </tr>\n",
       "  </tbody>\n",
       "</table>\n",
       "</div>"
      ],
      "text/plain": [
       "            Players Team Rating\n",
       "0    Marizanne Kapp   SA    384\n",
       "1    Natalie Sciver  ENG    372\n",
       "2      Ellyse Perry  AUS    365\n",
       "3   Stafanie Taylor   WI    319\n",
       "4     Deepti Sharma  IND    299\n",
       "5  Ashleigh Gardner  AUS    275\n",
       "6  Dane van Niekerk   SA    274\n",
       "7   Hayley Matthews   WI    272\n",
       "8     Jess Jonassen  AUS    272\n",
       "9   Katherine Brunt  ENG    272"
      ]
     },
     "execution_count": 132,
     "metadata": {},
     "output_type": "execute_result"
    }
   ],
   "source": [
    "ODI_allrounder"
   ]
  },
  {
   "cell_type": "markdown",
   "id": "bc75ae95",
   "metadata": {},
   "source": [
    "7) Write a python program to scrape details of all the posts from coreyms.com. Scrape the heading, date, content\n",
    "and the code for the video from the link for the youtube video from the post."
   ]
  },
  {
   "cell_type": "code",
   "execution_count": 133,
   "id": "4c50dae7",
   "metadata": {},
   "outputs": [
    {
     "data": {
      "text/plain": [
       "<Response [200]>"
      ]
     },
     "execution_count": 133,
     "metadata": {},
     "output_type": "execute_result"
    }
   ],
   "source": [
    "page=requests.get('https://coreyms.com/')\n",
    "page"
   ]
  },
  {
   "cell_type": "code",
   "execution_count": 134,
   "id": "d7a1acd2",
   "metadata": {},
   "outputs": [],
   "source": [
    "cory=BeautifulSoup(page.content)"
   ]
  },
  {
   "cell_type": "code",
   "execution_count": 135,
   "id": "813e279b",
   "metadata": {},
   "outputs": [
    {
     "data": {
      "text/plain": [
       "['Python Tutorial: Zip Files – Creating and Extracting Zip Archives',\n",
       " 'Python Data Science Tutorial: Analyzing the 2019 Stack Overflow Developer Survey',\n",
       " 'Python Multiprocessing Tutorial: Run Code in Parallel Using the Multiprocessing Module',\n",
       " 'Python Threading Tutorial: Run Code Concurrently Using the Threading Module',\n",
       " 'Update (2019-09-03)',\n",
       " 'Python Quick Tip: The Difference Between “==” and “is” (Equality vs Identity)',\n",
       " 'Python Tutorial: Calling External Commands Using the Subprocess Module',\n",
       " 'Visual Studio Code (Windows) – Setting up a Python Development Environment and Complete Overview',\n",
       " 'Visual Studio Code (Mac) – Setting up a Python Development Environment and Complete Overview',\n",
       " 'Clarifying the Issues with Mutable Default Arguments']"
      ]
     },
     "execution_count": 135,
     "metadata": {},
     "output_type": "execute_result"
    }
   ],
   "source": [
    "heading=[]\n",
    "for i in cory.find_all('a',class_=\"entry-title-link\"):\n",
    "    heading.append(i.text)\n",
    "    \n",
    "heading"
   ]
  },
  {
   "cell_type": "code",
   "execution_count": 136,
   "id": "50c8369d",
   "metadata": {},
   "outputs": [
    {
     "data": {
      "text/plain": [
       "['November 19, 2019',\n",
       " 'October 17, 2019',\n",
       " 'September 21, 2019',\n",
       " 'September 12, 2019',\n",
       " 'September 3, 2019',\n",
       " 'August 6, 2019',\n",
       " 'July 24, 2019',\n",
       " 'May 1, 2019',\n",
       " 'May 1, 2019',\n",
       " 'April 24, 2019']"
      ]
     },
     "execution_count": 136,
     "metadata": {},
     "output_type": "execute_result"
    }
   ],
   "source": [
    "date=[]\n",
    "for i in cory.find_all('time',class_=\"entry-time\"):\n",
    "    date.append(i.text)\n",
    "    \n",
    "date"
   ]
  },
  {
   "cell_type": "code",
   "execution_count": 137,
   "id": "7757179a",
   "metadata": {},
   "outputs": [
    {
     "data": {
      "text/plain": [
       "['\\nIn this video, we will be learning how to create and extract zip archives. We will start by using the zipfile module, and then we will see how to do this using the shutil module. We will learn how to do this with single files and directories, as well as learning how to use gzip as well. Let’s get started…\\n\\n',\n",
       " '\\nIn this Python Programming video, we will be learning how to download and analyze real-world data from the 2019 Stack Overflow Developer Survey. This is terrific practice for anyone getting into the data science field. We will learn different ways to analyze this data and also some best practices. Let’s get started…\\n\\n\\n\\n',\n",
       " '\\nIn this Python Programming video, we will be learning how to run code in parallel using the multiprocessing module. We will also look at how to process multiple high-resolution images at the same time using a ProcessPoolExecutor from the concurrent.futures module. Let’s get started…\\n\\n\\n\\n',\n",
       " '\\nIn this Python Programming video, we will be learning how to run threads concurrently using the threading module. We will also look at how to download multiple high-resolution images online using a ThreadPoolExecutor from the concurrent.futures module. Let’s get started…\\n\\n\\n\\n',\n",
       " '\\nHey everyone. I wanted to give you an update on my videos. I will be releasing videos on threading and multiprocessing within the next week. Thanks so much for your patience. I currently have a temporary recording studio setup at my Airbnb that will allow me to record and edit the threading/multiprocessing videos. I am going to be moving into my new house in 10 days and once I have my recording studio setup then you can expect much faster video releases. I really appreciate how patient everyone has been while I go through this move, especially those of you who are contributing monthly through YouTube \\n',\n",
       " '\\nIn this Python Programming Tutorial, we will be learning the difference between using “==” and the “is” keyword when doing comparisons. The difference between these is that “==” checks to see if values are equal, and the “is” keyword checks their identity, which means it’s going to check if the values are identical in terms of being the same object in memory. We’ll learn more in the video. Let’s get started…\\n\\n\\n\\n',\n",
       " '\\nIn this Python Programming Tutorial, we will be learning how to run external commands using the subprocess module from the standard library. We will learn how to run commands, capture the output, handle errors, and also how to pipe output into other commands. Let’s get started…\\n\\n\\n\\n',\n",
       " '\\nIn this Python Programming Tutorial, we will be learning how to set up a Python development environment in VSCode on Windows. VSCode is a very nice free editor for writing Python applications and many developers are now switching over to this editor. In this video, we will learn how to install VSCode, get the Python extension installed, how to change Python interpreters, create virtual environments, format/lint our code, how to use Git within VSCode, how to debug our programs, how unit testing works, and more. We have a lot to cover, so let’s go ahead and get started…\\nVSCode on MacOS – https://youtu.be/06I63_p-2A4\\nTimestamps for topics in this tutorial: Installation – 1:13 Python Extension – 5:48 Switching Interpreters – 10:04 Changing Color Themes – 12:35 VSCode Settings – 16:16 Set Default Python – 21:33 Using Virtual Environments – 25:10 IntelliSense – 29:45 Code Formatting – 32:13 Code Linting – 37:06 Code Runner Extension – 39:42 Git Integration – 47:44 Use Different Terminal – 51:07 Debugging – 58:45 Unit Testing – 1:03:25 Zen Mode – 1:09:55\\n\\n\\n\\n',\n",
       " '\\nIn this Python Programming Tutorial, we will be learning how to set up a Python development environment in VSCode on MacOS. VSCode is a very nice free editor for writing Python applications and many developers are now switching over to this editor. In this video, we will learn how to install VSCode, get the Python extension installed, how to change Python interpreters, create virtual environments, format/lint our code, how to use Git within VSCode, how to debug our programs, how unit testing works, and more. We have a lot to cover, so let’s go ahead and get started…\\nVSCode on Windows – https://youtu.be/-nh9rCzPJ20\\nTimestamps for topics in this tutorial: Installation – 1:11 Python Extension – 6:21 Switching Interpreters – 10:16 Changing Color Themes – 13:08 VSCode Settings – 17:12 Set Default Python – 22:24 Using Virtual Environments – 25:52 IntelliSense – 30:28 Code Formatting – 33:08 Code Linting – 38:01 Code Runner Extension – 40:45 Git Integration – 49:05 Debugging – 58:15 Unit Testing – 1:02:38 Zen Mode – 1:10:42 \\n\\n\\n\\n',\n",
       " '\\nIn this Python Programming Tutorial, we will be clarifying the issues with mutable default arguments. We discussed this in my last video titled “5 Common Python Mistakes and How to Fix Them”, but I received many comments from people who were still confused. So we will be doing a deeper dive to explain exactly what is going on here. Let’s get started…\\n\\n\\n\\n']"
      ]
     },
     "execution_count": 137,
     "metadata": {},
     "output_type": "execute_result"
    }
   ],
   "source": [
    "content=[]\n",
    "for i in cory.find_all('div',class_=\"entry-content\"):\n",
    "    content.append(i.text)\n",
    "    \n",
    "content"
   ]
  },
  {
   "cell_type": "code",
   "execution_count": 138,
   "id": "937ef6b6",
   "metadata": {},
   "outputs": [
    {
     "data": {
      "text/plain": [
       "['https://www.youtube.com/embed/z0gguhEmWiY?version=3&rel=1&showsearch=0&showinfo=1&iv_load_policy=1&fs=1&hl=en-US&autohide=2&wmode=transparent',\n",
       " 'https://www.youtube.com/embed/_P7X8tMplsw?version=3&rel=1&showsearch=0&showinfo=1&iv_load_policy=1&fs=1&hl=en-US&autohide=2&wmode=transparent',\n",
       " 'https://www.youtube.com/embed/fKl2JW_qrso?version=3&rel=1&showsearch=0&showinfo=1&iv_load_policy=1&fs=1&hl=en-US&autohide=2&wmode=transparent',\n",
       " 'https://www.youtube.com/embed/IEEhzQoKtQU?version=3&rel=1&showsearch=0&showinfo=1&iv_load_policy=1&fs=1&hl=en-US&autohide=2&wmode=transparent',\n",
       " 'https://www.youtube.com/embed/mO_dS3rXDIs?version=3&rel=1&showsearch=0&showinfo=1&iv_load_policy=1&fs=1&hl=en-US&autohide=2&wmode=transparent',\n",
       " 'https://www.youtube.com/embed/2Fp1N6dof0Y?version=3&rel=1&showsearch=0&showinfo=1&iv_load_policy=1&fs=1&hl=en-US&autohide=2&wmode=transparent',\n",
       " 'https://www.youtube.com/embed/-nh9rCzPJ20?version=3&rel=1&showsearch=0&showinfo=1&iv_load_policy=1&fs=1&hl=en-US&autohide=2&wmode=transparent',\n",
       " 'https://www.youtube.com/embed/06I63_p-2A4?version=3&rel=1&showsearch=0&showinfo=1&iv_load_policy=1&fs=1&hl=en-US&autohide=2&wmode=transparent',\n",
       " 'https://www.youtube.com/embed/_JGmemuINww?version=3&rel=1&showsearch=0&showinfo=1&iv_load_policy=1&fs=1&hl=en-US&autohide=2&wmode=transparent']"
      ]
     },
     "execution_count": 138,
     "metadata": {},
     "output_type": "execute_result"
    }
   ],
   "source": [
    "video_code=[]\n",
    "for i in cory.find_all('iframe',class_=\"youtube-player\"):\n",
    "    video_code.append(i['src'])\n",
    "    \n",
    "video_code"
   ]
  },
  {
   "cell_type": "code",
   "execution_count": 139,
   "id": "68c39f0c",
   "metadata": {},
   "outputs": [],
   "source": [
    "video_code.insert(4,'Video will be coming soon')"
   ]
  },
  {
   "cell_type": "code",
   "execution_count": 140,
   "id": "403ddc28",
   "metadata": {},
   "outputs": [
    {
     "data": {
      "text/plain": [
       "['https://www.youtube.com/embed/z0gguhEmWiY?version=3&rel=1&showsearch=0&showinfo=1&iv_load_policy=1&fs=1&hl=en-US&autohide=2&wmode=transparent',\n",
       " 'https://www.youtube.com/embed/_P7X8tMplsw?version=3&rel=1&showsearch=0&showinfo=1&iv_load_policy=1&fs=1&hl=en-US&autohide=2&wmode=transparent',\n",
       " 'https://www.youtube.com/embed/fKl2JW_qrso?version=3&rel=1&showsearch=0&showinfo=1&iv_load_policy=1&fs=1&hl=en-US&autohide=2&wmode=transparent',\n",
       " 'https://www.youtube.com/embed/IEEhzQoKtQU?version=3&rel=1&showsearch=0&showinfo=1&iv_load_policy=1&fs=1&hl=en-US&autohide=2&wmode=transparent',\n",
       " 'Video will be coming soon',\n",
       " 'https://www.youtube.com/embed/mO_dS3rXDIs?version=3&rel=1&showsearch=0&showinfo=1&iv_load_policy=1&fs=1&hl=en-US&autohide=2&wmode=transparent',\n",
       " 'https://www.youtube.com/embed/2Fp1N6dof0Y?version=3&rel=1&showsearch=0&showinfo=1&iv_load_policy=1&fs=1&hl=en-US&autohide=2&wmode=transparent',\n",
       " 'https://www.youtube.com/embed/-nh9rCzPJ20?version=3&rel=1&showsearch=0&showinfo=1&iv_load_policy=1&fs=1&hl=en-US&autohide=2&wmode=transparent',\n",
       " 'https://www.youtube.com/embed/06I63_p-2A4?version=3&rel=1&showsearch=0&showinfo=1&iv_load_policy=1&fs=1&hl=en-US&autohide=2&wmode=transparent',\n",
       " 'https://www.youtube.com/embed/_JGmemuINww?version=3&rel=1&showsearch=0&showinfo=1&iv_load_policy=1&fs=1&hl=en-US&autohide=2&wmode=transparent']"
      ]
     },
     "execution_count": 140,
     "metadata": {},
     "output_type": "execute_result"
    }
   ],
   "source": [
    "video_code"
   ]
  },
  {
   "cell_type": "code",
   "execution_count": 141,
   "id": "dceb083d",
   "metadata": {},
   "outputs": [
    {
     "data": {
      "text/plain": [
       "(10, 10, 10, 10)"
      ]
     },
     "execution_count": 141,
     "metadata": {},
     "output_type": "execute_result"
    }
   ],
   "source": [
    "len(heading),len(date),len(content),len(video_code)"
   ]
  },
  {
   "cell_type": "code",
   "execution_count": 142,
   "id": "d9162715",
   "metadata": {},
   "outputs": [],
   "source": [
    "#Making DataFrame\n",
    "coryms=pd.DataFrame({'Heading':heading,\n",
    "                     'Date':date,\n",
    "                     'Content':content,\n",
    "                      'Video code':video_code\n",
    "                    })"
   ]
  },
  {
   "cell_type": "code",
   "execution_count": 143,
   "id": "a3b2884d",
   "metadata": {},
   "outputs": [
    {
     "data": {
      "text/html": [
       "<div>\n",
       "<style scoped>\n",
       "    .dataframe tbody tr th:only-of-type {\n",
       "        vertical-align: middle;\n",
       "    }\n",
       "\n",
       "    .dataframe tbody tr th {\n",
       "        vertical-align: top;\n",
       "    }\n",
       "\n",
       "    .dataframe thead th {\n",
       "        text-align: right;\n",
       "    }\n",
       "</style>\n",
       "<table border=\"1\" class=\"dataframe\">\n",
       "  <thead>\n",
       "    <tr style=\"text-align: right;\">\n",
       "      <th></th>\n",
       "      <th>Heading</th>\n",
       "      <th>Date</th>\n",
       "      <th>Content</th>\n",
       "      <th>Video code</th>\n",
       "    </tr>\n",
       "  </thead>\n",
       "  <tbody>\n",
       "    <tr>\n",
       "      <th>0</th>\n",
       "      <td>Python Tutorial: Zip Files – Creating and Extr...</td>\n",
       "      <td>November 19, 2019</td>\n",
       "      <td>\\nIn this video, we will be learning how to cr...</td>\n",
       "      <td>https://www.youtube.com/embed/z0gguhEmWiY?vers...</td>\n",
       "    </tr>\n",
       "    <tr>\n",
       "      <th>1</th>\n",
       "      <td>Python Data Science Tutorial: Analyzing the 20...</td>\n",
       "      <td>October 17, 2019</td>\n",
       "      <td>\\nIn this Python Programming video, we will be...</td>\n",
       "      <td>https://www.youtube.com/embed/_P7X8tMplsw?vers...</td>\n",
       "    </tr>\n",
       "    <tr>\n",
       "      <th>2</th>\n",
       "      <td>Python Multiprocessing Tutorial: Run Code in P...</td>\n",
       "      <td>September 21, 2019</td>\n",
       "      <td>\\nIn this Python Programming video, we will be...</td>\n",
       "      <td>https://www.youtube.com/embed/fKl2JW_qrso?vers...</td>\n",
       "    </tr>\n",
       "    <tr>\n",
       "      <th>3</th>\n",
       "      <td>Python Threading Tutorial: Run Code Concurrent...</td>\n",
       "      <td>September 12, 2019</td>\n",
       "      <td>\\nIn this Python Programming video, we will be...</td>\n",
       "      <td>https://www.youtube.com/embed/IEEhzQoKtQU?vers...</td>\n",
       "    </tr>\n",
       "    <tr>\n",
       "      <th>4</th>\n",
       "      <td>Update (2019-09-03)</td>\n",
       "      <td>September 3, 2019</td>\n",
       "      <td>\\nHey everyone. I wanted to give you an update...</td>\n",
       "      <td>Video will be coming soon</td>\n",
       "    </tr>\n",
       "    <tr>\n",
       "      <th>5</th>\n",
       "      <td>Python Quick Tip: The Difference Between “==” ...</td>\n",
       "      <td>August 6, 2019</td>\n",
       "      <td>\\nIn this Python Programming Tutorial, we will...</td>\n",
       "      <td>https://www.youtube.com/embed/mO_dS3rXDIs?vers...</td>\n",
       "    </tr>\n",
       "    <tr>\n",
       "      <th>6</th>\n",
       "      <td>Python Tutorial: Calling External Commands Usi...</td>\n",
       "      <td>July 24, 2019</td>\n",
       "      <td>\\nIn this Python Programming Tutorial, we will...</td>\n",
       "      <td>https://www.youtube.com/embed/2Fp1N6dof0Y?vers...</td>\n",
       "    </tr>\n",
       "    <tr>\n",
       "      <th>7</th>\n",
       "      <td>Visual Studio Code (Windows) – Setting up a Py...</td>\n",
       "      <td>May 1, 2019</td>\n",
       "      <td>\\nIn this Python Programming Tutorial, we will...</td>\n",
       "      <td>https://www.youtube.com/embed/-nh9rCzPJ20?vers...</td>\n",
       "    </tr>\n",
       "    <tr>\n",
       "      <th>8</th>\n",
       "      <td>Visual Studio Code (Mac) – Setting up a Python...</td>\n",
       "      <td>May 1, 2019</td>\n",
       "      <td>\\nIn this Python Programming Tutorial, we will...</td>\n",
       "      <td>https://www.youtube.com/embed/06I63_p-2A4?vers...</td>\n",
       "    </tr>\n",
       "    <tr>\n",
       "      <th>9</th>\n",
       "      <td>Clarifying the Issues with Mutable Default Arg...</td>\n",
       "      <td>April 24, 2019</td>\n",
       "      <td>\\nIn this Python Programming Tutorial, we will...</td>\n",
       "      <td>https://www.youtube.com/embed/_JGmemuINww?vers...</td>\n",
       "    </tr>\n",
       "  </tbody>\n",
       "</table>\n",
       "</div>"
      ],
      "text/plain": [
       "                                             Heading                Date  \\\n",
       "0  Python Tutorial: Zip Files – Creating and Extr...   November 19, 2019   \n",
       "1  Python Data Science Tutorial: Analyzing the 20...    October 17, 2019   \n",
       "2  Python Multiprocessing Tutorial: Run Code in P...  September 21, 2019   \n",
       "3  Python Threading Tutorial: Run Code Concurrent...  September 12, 2019   \n",
       "4                                Update (2019-09-03)   September 3, 2019   \n",
       "5  Python Quick Tip: The Difference Between “==” ...      August 6, 2019   \n",
       "6  Python Tutorial: Calling External Commands Usi...       July 24, 2019   \n",
       "7  Visual Studio Code (Windows) – Setting up a Py...         May 1, 2019   \n",
       "8  Visual Studio Code (Mac) – Setting up a Python...         May 1, 2019   \n",
       "9  Clarifying the Issues with Mutable Default Arg...      April 24, 2019   \n",
       "\n",
       "                                             Content  \\\n",
       "0  \\nIn this video, we will be learning how to cr...   \n",
       "1  \\nIn this Python Programming video, we will be...   \n",
       "2  \\nIn this Python Programming video, we will be...   \n",
       "3  \\nIn this Python Programming video, we will be...   \n",
       "4  \\nHey everyone. I wanted to give you an update...   \n",
       "5  \\nIn this Python Programming Tutorial, we will...   \n",
       "6  \\nIn this Python Programming Tutorial, we will...   \n",
       "7  \\nIn this Python Programming Tutorial, we will...   \n",
       "8  \\nIn this Python Programming Tutorial, we will...   \n",
       "9  \\nIn this Python Programming Tutorial, we will...   \n",
       "\n",
       "                                          Video code  \n",
       "0  https://www.youtube.com/embed/z0gguhEmWiY?vers...  \n",
       "1  https://www.youtube.com/embed/_P7X8tMplsw?vers...  \n",
       "2  https://www.youtube.com/embed/fKl2JW_qrso?vers...  \n",
       "3  https://www.youtube.com/embed/IEEhzQoKtQU?vers...  \n",
       "4                          Video will be coming soon  \n",
       "5  https://www.youtube.com/embed/mO_dS3rXDIs?vers...  \n",
       "6  https://www.youtube.com/embed/2Fp1N6dof0Y?vers...  \n",
       "7  https://www.youtube.com/embed/-nh9rCzPJ20?vers...  \n",
       "8  https://www.youtube.com/embed/06I63_p-2A4?vers...  \n",
       "9  https://www.youtube.com/embed/_JGmemuINww?vers...  "
      ]
     },
     "execution_count": 143,
     "metadata": {},
     "output_type": "execute_result"
    }
   ],
   "source": [
    "coryms"
   ]
  },
  {
   "cell_type": "markdown",
   "id": "f2f7f3a4",
   "metadata": {},
   "source": [
    "-----"
   ]
  },
  {
   "cell_type": "markdown",
   "id": "1a6fd906",
   "metadata": {},
   "source": [
    "-----"
   ]
  },
  {
   "cell_type": "markdown",
   "id": "c1e66100",
   "metadata": {},
   "source": [
    "8) Write a python program to scrape house details from mentioned URL. It should include house title, location,\n",
    "area, EMI and price from https://www.nobroker.in/ .Enter three localities which are Indira Nagar, Jayanagar, \n",
    "Rajaji Nagar."
   ]
  },
  {
   "cell_type": "code",
   "execution_count": 144,
   "id": "ffeb5ce2",
   "metadata": {},
   "outputs": [
    {
     "data": {
      "text/plain": [
       "<Response [200]>"
      ]
     },
     "execution_count": 144,
     "metadata": {},
     "output_type": "execute_result"
    }
   ],
   "source": [
    "page=requests.get(\"https://www.nobroker.in/property/sale/chennai/multiple?searchParam=W3sibGF0IjoxMy4xMTIyNjc3LCJsb24iOjgwLjIwODcyNjUsInBsYWNlSWQiOiJDaElKWTZaNmhFSmtVam9SQ2MyZk9vcEg2dTAiLCJwbGFjZU5hbWUiOiJSYWphamkgTmFnYXIifSx7ImxhdCI6MTIuOTkxNjYzLCJsb24iOjgwLjI1MjQyMzEsInBsYWNlSWQiOiJDaElKRFFhUmpZcG5Vam9SN3F3OHlTX1M5a0EiLCJwbGFjZU5hbWUiOiJJbmRpcmEgTmFnYXIifSx7ImxhdCI6MTIuODkwNDIsImxvbiI6ODAuMTg0NTUyLCJwbGFjZUlkIjoiQ2hJSlc3QVdpRlpaVWpvUk5lSUZzSVNPMktvIiwicGxhY2VOYW1lIjoiSmF5YSBOYWdhciJ9XQ==&radius=2.0&city=chennai&locality=Rajaji%20Nagar,&locality=Indira%20Nagar,&locality=Jaya%20Nagar\")\n",
    "page"
   ]
  },
  {
   "cell_type": "code",
   "execution_count": 145,
   "id": "3bbc669b",
   "metadata": {},
   "outputs": [],
   "source": [
    "House=BeautifulSoup(page.content)"
   ]
  },
  {
   "cell_type": "code",
   "execution_count": 146,
   "id": "2785d43f",
   "metadata": {},
   "outputs": [
    {
     "data": {
      "text/plain": [
       "['2 BHK Flat  For Sale  In Sai Villa In Sithalapakkam ',\n",
       " '2 BHK Flat  For Sale  In Sithalapakkam ',\n",
       " '2 BHK Flat  For Sale  In Amudha Delight, Vivekanandha Nagar Extention Sithalapakkam In Sithalapakkam ',\n",
       " '2 BHK Flat  For Sale  In Malayanoor Foundations  In Sithalapakkam ',\n",
       " '2 BHK Flat  For Sale  In Sithalapakkam ',\n",
       " '3 BHK In Independent House  For Sale  In Sithalapakkam ',\n",
       " '2 BHK Flat  For Sale  In Sai Shridi In Sithalapakkam ',\n",
       " '2 BHK Flat  For Sale  In Kumaran Kutil In Sithalapakkam ',\n",
       " '2 BHK Flat  For Sale  In Standalone Apartment In Sithalapakkam ',\n",
       " '2 BHK Flat  For Sale  In Jasmine Cort In Sithalapakkam ',\n",
       " '3 BHK Flat  For Sale  In Amudhas Blossom, Vivekananda Nagar  In Sithalapakkam ',\n",
       " '3 BHK Flat  For Sale  In Aravind Flats In Sithalapakkam ',\n",
       " '3 BHK Flat  For Sale  In Selvamani Associates In Sithalapakkam ',\n",
       " '2 BHK Flat  For Sale  In Pavitra Flats In Sithalapakkam ',\n",
       " '1 BHK In Independent House  For Sale  In Sithalapakkam ',\n",
       " '4 BHK In Independent House  For Sale  In Sithalapakkam ',\n",
       " '2 BHK Flat  For Sale  In Sai Thiruvenkattam In Sithalapakkam ',\n",
       " '1 BHK Flat  For Sale  In Dev Gupta Appartment In Sithalapakkam ',\n",
       " '1 BHK Flat  For Sale  In Kavya Builders In Sithalapakkam Panchayat Office ',\n",
       " '3 BHK In Independent House  For Sale  In Sithalapakkam ',\n",
       " '1 BHK In Independent House  For Sale  In Sithalapakam Post Office ',\n",
       " '3 BHK Flat  For Sale  In Kashwini In Sithalapakkam ',\n",
       " '2 BHK Flat  For Sale  In Amudha Nicolas In Sithalapakkam ',\n",
       " '2 BHK In Independent House  For Sale  In Periyapanicheri, Gerugambakkam ',\n",
       " '2 BHK Flat  For Sale  In Apartment  In Sithalapakkam ']"
      ]
     },
     "execution_count": 146,
     "metadata": {},
     "output_type": "execute_result"
    }
   ],
   "source": [
    "house_title=[]\n",
    "for i in House.find_all('h2',class_=\"heading-6 font-semi-bold nb__25Cl7\"):\n",
    "    house_title.append(i.text)\n",
    "    \n",
    "house_title"
   ]
  },
  {
   "cell_type": "code",
   "execution_count": 147,
   "id": "b4483f47",
   "metadata": {},
   "outputs": [
    {
     "data": {
      "text/plain": [
       "['second street , venbave avenue',\n",
       " 'Standalone Building, Near Jaya Nagar Bus Stop',\n",
       " 'amudha civil construction pvt ltd',\n",
       " 'Jayanagar near City Union Bank',\n",
       " 'Standalone Building, vivekanadha nagar, Near Indian Overseas Bank',\n",
       " 'Independent House, TNHB Colony near RV Matriculation School',\n",
       " 'Ottiambakkam Main Rd, Near City Union Bank',\n",
       " 'Mambakkam Village near Indian Overseas Bank, ',\n",
       " 'Plot No16  near Sri Matha Clinic Vinobha Nagar Sithalapakkam Chennai',\n",
       " 'Vivekananda Nagar Main Rd, Near Lord Ganesh Temple',\n",
       " 'Near Jaya nagar bus Stop, Plot no.206, Vivekanandha Nagar, Sithalapakkam, Chennai, Tamil nadu, INDIA.',\n",
       " 'Meigai Vinayagar Kovil street ,Sithalapakkam,near RV MATRICULATION SCHOOL ',\n",
       " 'Srinivasa Nagar near Sithalapakkam Panchayat Office',\n",
       " 'Meigai Vinayagar Kovil St, Near R. V. Matriculation School,',\n",
       " 'Independent House, Vivekananda Street, Jayanagar, Near Amudha Blossom',\n",
       " 'Independent House, mangalyan poonga street,Near Apollo Pharmacy',\n",
       " 'vivekananda nagar',\n",
       " 'Ambal Nagar, near Sithalapakkam Panchayat Office and Sithalapakam Post Office',\n",
       " 'Basil avenue, Kavya apartments, Opposite lane to citi union bank, Sithalapakkam',\n",
       " 'Independent House\\xa0 Independent House, Jothi Mangalam phase 2,Near Sithalapakkam Panchayat Office',\n",
       " 'sithalapakam ration shop',\n",
       " 'Ottiambakkam Main Rd, Devlaxmi Nagar, near  Manjal',\n",
       " 'Valluvar Nagar, Ottiyambakkam Main Road near  Manjal',\n",
       " 'Independent House, G.TKrishnan Avenue',\n",
       " 'Ottiambakkam Main Rd near Sithalapakkam VAO Office']"
      ]
     },
     "execution_count": 147,
     "metadata": {},
     "output_type": "execute_result"
    }
   ],
   "source": [
    "location=[]\n",
    "for i in House.find_all('div',class_=\"nb__1EwQz\"):\n",
    "    location.append(i.text)\n",
    "    \n",
    "location"
   ]
  },
  {
   "cell_type": "code",
   "execution_count": 148,
   "id": "09b1351d",
   "metadata": {},
   "outputs": [
    {
     "data": {
      "text/plain": [
       "25"
      ]
     },
     "execution_count": 148,
     "metadata": {},
     "output_type": "execute_result"
    }
   ],
   "source": [
    "len(location)"
   ]
  },
  {
   "cell_type": "code",
   "execution_count": 149,
   "id": "04a36af7",
   "metadata": {},
   "outputs": [
    {
     "data": {
      "text/plain": [
       "['873',\n",
       " '1,055',\n",
       " '979',\n",
       " '1,074',\n",
       " '939',\n",
       " '1,135',\n",
       " '939',\n",
       " '890',\n",
       " '661',\n",
       " '1,100',\n",
       " '1,450',\n",
       " '1,103',\n",
       " '1,250',\n",
       " '923',\n",
       " '600',\n",
       " '2,500',\n",
       " '851',\n",
       " '578',\n",
       " '605',\n",
       " '1,840',\n",
       " '900',\n",
       " '1,850',\n",
       " '856',\n",
       " '1,100',\n",
       " '870']"
      ]
     },
     "execution_count": 149,
     "metadata": {},
     "output_type": "execute_result"
    }
   ],
   "source": [
    "area=[]\n",
    "for i in House.find_all('div',class_=\"nb__FfHqA\"):\n",
    "    area.append(i.text.split(' ')[0])\n",
    "    \n",
    "area"
   ]
  },
  {
   "cell_type": "code",
   "execution_count": 150,
   "id": "c56d9a49",
   "metadata": {},
   "outputs": [
    {
     "data": {
      "text/plain": [
       "['₹22,925',\n",
       " '₹28,657',\n",
       " '₹28,459',\n",
       " '₹22,925',\n",
       " '₹31,522',\n",
       " '₹22,925',\n",
       " '₹25,791',\n",
       " '₹18,340',\n",
       " '₹17,194',\n",
       " '₹22,925',\n",
       " '₹37,254',\n",
       " '₹28,657',\n",
       " '₹34,388',\n",
       " '₹24,072',\n",
       " '₹18,340',\n",
       " '₹63,045',\n",
       " '₹22,925',\n",
       " '₹12,609',\n",
       " '₹13,182',\n",
       " '₹52,729',\n",
       " '₹25,791',\n",
       " '₹65,911',\n",
       " '₹18,340',\n",
       " '₹57,314',\n",
       " '₹22,925']"
      ]
     },
     "execution_count": 150,
     "metadata": {},
     "output_type": "execute_result"
    }
   ],
   "source": [
    "emi=[]\n",
    "for i in House.find_all('div',class_=\"nb__4L90a\"): \n",
    "    emi.append(i.text.split('/')[0])    \n",
    "emi=emi[2: :4]\n",
    "emi=emi[:26]\n",
    "emi\n"
   ]
  },
  {
   "cell_type": "code",
   "execution_count": 151,
   "id": "7a9adb65",
   "metadata": {},
   "outputs": [
    {
     "data": {
      "text/plain": [
       "['₹40 Lacs',\n",
       " '₹50 Lacs',\n",
       " '₹49.66 Lacs',\n",
       " '₹40 Lacs',\n",
       " '₹55 Lacs',\n",
       " '₹40 Lacs',\n",
       " '₹45 Lacs',\n",
       " '₹32 Lacs',\n",
       " '₹30 Lacs',\n",
       " '₹40 Lacs',\n",
       " '₹65 Lacs',\n",
       " '₹50 Lacs',\n",
       " '₹60 Lacs',\n",
       " '₹42 Lacs',\n",
       " '₹32 Lacs',\n",
       " '₹1.1 Crores',\n",
       " '₹40 Lacs',\n",
       " '₹22 Lacs',\n",
       " '₹23 Lacs',\n",
       " '₹92 Lacs',\n",
       " '₹45 Lacs',\n",
       " '₹1.15 Crores',\n",
       " '₹32 Lacs',\n",
       " '₹1 Crore',\n",
       " '₹40 Lacs']"
      ]
     },
     "execution_count": 151,
     "metadata": {},
     "output_type": "execute_result"
    }
   ],
   "source": [
    "price=[]\n",
    "for i in House.find_all('div',class_=\"font-semi-bold heading-6\"):\n",
    "    price.append(i.text)\n",
    "    \n",
    "price=price[2::3]\n",
    "price=price[ :26]\n",
    "price\n"
   ]
  },
  {
   "cell_type": "code",
   "execution_count": 152,
   "id": "b364935a",
   "metadata": {},
   "outputs": [
    {
     "data": {
      "text/plain": [
       "(25, 25, 25, 25, 25)"
      ]
     },
     "execution_count": 152,
     "metadata": {},
     "output_type": "execute_result"
    }
   ],
   "source": [
    "len(house_title),len(location),len(area),len(emi),len(price)"
   ]
  },
  {
   "cell_type": "code",
   "execution_count": 153,
   "id": "7af4353e",
   "metadata": {},
   "outputs": [],
   "source": [
    "#Making DataFrame\n",
    "Housing=pd.DataFrame({'House_ title': house_title,\n",
    "                      'Location':location,\n",
    "                      'Area':area,\n",
    "                      'EMI': emi,\n",
    "                      'Price':price})"
   ]
  },
  {
   "cell_type": "code",
   "execution_count": 154,
   "id": "d76b9ffe",
   "metadata": {},
   "outputs": [
    {
     "data": {
      "text/html": [
       "<div>\n",
       "<style scoped>\n",
       "    .dataframe tbody tr th:only-of-type {\n",
       "        vertical-align: middle;\n",
       "    }\n",
       "\n",
       "    .dataframe tbody tr th {\n",
       "        vertical-align: top;\n",
       "    }\n",
       "\n",
       "    .dataframe thead th {\n",
       "        text-align: right;\n",
       "    }\n",
       "</style>\n",
       "<table border=\"1\" class=\"dataframe\">\n",
       "  <thead>\n",
       "    <tr style=\"text-align: right;\">\n",
       "      <th></th>\n",
       "      <th>House_ title</th>\n",
       "      <th>Location</th>\n",
       "      <th>Area</th>\n",
       "      <th>EMI</th>\n",
       "      <th>Price</th>\n",
       "    </tr>\n",
       "  </thead>\n",
       "  <tbody>\n",
       "    <tr>\n",
       "      <th>0</th>\n",
       "      <td>2 BHK Flat  For Sale  In Sai Villa In Sithalap...</td>\n",
       "      <td>second street , venbave avenue</td>\n",
       "      <td>873</td>\n",
       "      <td>₹22,925</td>\n",
       "      <td>₹40 Lacs</td>\n",
       "    </tr>\n",
       "    <tr>\n",
       "      <th>1</th>\n",
       "      <td>2 BHK Flat  For Sale  In Sithalapakkam</td>\n",
       "      <td>Standalone Building, Near Jaya Nagar Bus Stop</td>\n",
       "      <td>1,055</td>\n",
       "      <td>₹28,657</td>\n",
       "      <td>₹50 Lacs</td>\n",
       "    </tr>\n",
       "    <tr>\n",
       "      <th>2</th>\n",
       "      <td>2 BHK Flat  For Sale  In Amudha Delight, Vivek...</td>\n",
       "      <td>amudha civil construction pvt ltd</td>\n",
       "      <td>979</td>\n",
       "      <td>₹28,459</td>\n",
       "      <td>₹49.66 Lacs</td>\n",
       "    </tr>\n",
       "    <tr>\n",
       "      <th>3</th>\n",
       "      <td>2 BHK Flat  For Sale  In Malayanoor Foundation...</td>\n",
       "      <td>Jayanagar near City Union Bank</td>\n",
       "      <td>1,074</td>\n",
       "      <td>₹22,925</td>\n",
       "      <td>₹40 Lacs</td>\n",
       "    </tr>\n",
       "    <tr>\n",
       "      <th>4</th>\n",
       "      <td>2 BHK Flat  For Sale  In Sithalapakkam</td>\n",
       "      <td>Standalone Building, vivekanadha nagar, Near I...</td>\n",
       "      <td>939</td>\n",
       "      <td>₹31,522</td>\n",
       "      <td>₹55 Lacs</td>\n",
       "    </tr>\n",
       "    <tr>\n",
       "      <th>5</th>\n",
       "      <td>3 BHK In Independent House  For Sale  In Sitha...</td>\n",
       "      <td>Independent House, TNHB Colony near RV Matricu...</td>\n",
       "      <td>1,135</td>\n",
       "      <td>₹22,925</td>\n",
       "      <td>₹40 Lacs</td>\n",
       "    </tr>\n",
       "    <tr>\n",
       "      <th>6</th>\n",
       "      <td>2 BHK Flat  For Sale  In Sai Shridi In Sithala...</td>\n",
       "      <td>Ottiambakkam Main Rd, Near City Union Bank</td>\n",
       "      <td>939</td>\n",
       "      <td>₹25,791</td>\n",
       "      <td>₹45 Lacs</td>\n",
       "    </tr>\n",
       "    <tr>\n",
       "      <th>7</th>\n",
       "      <td>2 BHK Flat  For Sale  In Kumaran Kutil In Sith...</td>\n",
       "      <td>Mambakkam Village near Indian Overseas Bank,</td>\n",
       "      <td>890</td>\n",
       "      <td>₹18,340</td>\n",
       "      <td>₹32 Lacs</td>\n",
       "    </tr>\n",
       "    <tr>\n",
       "      <th>8</th>\n",
       "      <td>2 BHK Flat  For Sale  In Standalone Apartment ...</td>\n",
       "      <td>Plot No16  near Sri Matha Clinic Vinobha Nagar...</td>\n",
       "      <td>661</td>\n",
       "      <td>₹17,194</td>\n",
       "      <td>₹30 Lacs</td>\n",
       "    </tr>\n",
       "    <tr>\n",
       "      <th>9</th>\n",
       "      <td>2 BHK Flat  For Sale  In Jasmine Cort In Sitha...</td>\n",
       "      <td>Vivekananda Nagar Main Rd, Near Lord Ganesh Te...</td>\n",
       "      <td>1,100</td>\n",
       "      <td>₹22,925</td>\n",
       "      <td>₹40 Lacs</td>\n",
       "    </tr>\n",
       "    <tr>\n",
       "      <th>10</th>\n",
       "      <td>3 BHK Flat  For Sale  In Amudhas Blossom, Vive...</td>\n",
       "      <td>Near Jaya nagar bus Stop, Plot no.206, Vivekan...</td>\n",
       "      <td>1,450</td>\n",
       "      <td>₹37,254</td>\n",
       "      <td>₹65 Lacs</td>\n",
       "    </tr>\n",
       "    <tr>\n",
       "      <th>11</th>\n",
       "      <td>3 BHK Flat  For Sale  In Aravind Flats In Sith...</td>\n",
       "      <td>Meigai Vinayagar Kovil street ,Sithalapakkam,n...</td>\n",
       "      <td>1,103</td>\n",
       "      <td>₹28,657</td>\n",
       "      <td>₹50 Lacs</td>\n",
       "    </tr>\n",
       "    <tr>\n",
       "      <th>12</th>\n",
       "      <td>3 BHK Flat  For Sale  In Selvamani Associates ...</td>\n",
       "      <td>Srinivasa Nagar near Sithalapakkam Panchayat O...</td>\n",
       "      <td>1,250</td>\n",
       "      <td>₹34,388</td>\n",
       "      <td>₹60 Lacs</td>\n",
       "    </tr>\n",
       "    <tr>\n",
       "      <th>13</th>\n",
       "      <td>2 BHK Flat  For Sale  In Pavitra Flats In Sith...</td>\n",
       "      <td>Meigai Vinayagar Kovil St, Near R. V. Matricul...</td>\n",
       "      <td>923</td>\n",
       "      <td>₹24,072</td>\n",
       "      <td>₹42 Lacs</td>\n",
       "    </tr>\n",
       "    <tr>\n",
       "      <th>14</th>\n",
       "      <td>1 BHK In Independent House  For Sale  In Sitha...</td>\n",
       "      <td>Independent House, Vivekananda Street, Jayanag...</td>\n",
       "      <td>600</td>\n",
       "      <td>₹18,340</td>\n",
       "      <td>₹32 Lacs</td>\n",
       "    </tr>\n",
       "    <tr>\n",
       "      <th>15</th>\n",
       "      <td>4 BHK In Independent House  For Sale  In Sitha...</td>\n",
       "      <td>Independent House, mangalyan poonga street,Nea...</td>\n",
       "      <td>2,500</td>\n",
       "      <td>₹63,045</td>\n",
       "      <td>₹1.1 Crores</td>\n",
       "    </tr>\n",
       "    <tr>\n",
       "      <th>16</th>\n",
       "      <td>2 BHK Flat  For Sale  In Sai Thiruvenkattam In...</td>\n",
       "      <td>vivekananda nagar</td>\n",
       "      <td>851</td>\n",
       "      <td>₹22,925</td>\n",
       "      <td>₹40 Lacs</td>\n",
       "    </tr>\n",
       "    <tr>\n",
       "      <th>17</th>\n",
       "      <td>1 BHK Flat  For Sale  In Dev Gupta Appartment ...</td>\n",
       "      <td>Ambal Nagar, near Sithalapakkam Panchayat Offi...</td>\n",
       "      <td>578</td>\n",
       "      <td>₹12,609</td>\n",
       "      <td>₹22 Lacs</td>\n",
       "    </tr>\n",
       "    <tr>\n",
       "      <th>18</th>\n",
       "      <td>1 BHK Flat  For Sale  In Kavya Builders In Sit...</td>\n",
       "      <td>Basil avenue, Kavya apartments, Opposite lane ...</td>\n",
       "      <td>605</td>\n",
       "      <td>₹13,182</td>\n",
       "      <td>₹23 Lacs</td>\n",
       "    </tr>\n",
       "    <tr>\n",
       "      <th>19</th>\n",
       "      <td>3 BHK In Independent House  For Sale  In Sitha...</td>\n",
       "      <td>Independent House  Independent House, Jothi Ma...</td>\n",
       "      <td>1,840</td>\n",
       "      <td>₹52,729</td>\n",
       "      <td>₹92 Lacs</td>\n",
       "    </tr>\n",
       "    <tr>\n",
       "      <th>20</th>\n",
       "      <td>1 BHK In Independent House  For Sale  In Sitha...</td>\n",
       "      <td>sithalapakam ration shop</td>\n",
       "      <td>900</td>\n",
       "      <td>₹25,791</td>\n",
       "      <td>₹45 Lacs</td>\n",
       "    </tr>\n",
       "    <tr>\n",
       "      <th>21</th>\n",
       "      <td>3 BHK Flat  For Sale  In Kashwini In Sithalapa...</td>\n",
       "      <td>Ottiambakkam Main Rd, Devlaxmi Nagar, near  Ma...</td>\n",
       "      <td>1,850</td>\n",
       "      <td>₹65,911</td>\n",
       "      <td>₹1.15 Crores</td>\n",
       "    </tr>\n",
       "    <tr>\n",
       "      <th>22</th>\n",
       "      <td>2 BHK Flat  For Sale  In Amudha Nicolas In Sit...</td>\n",
       "      <td>Valluvar Nagar, Ottiyambakkam Main Road near  ...</td>\n",
       "      <td>856</td>\n",
       "      <td>₹18,340</td>\n",
       "      <td>₹32 Lacs</td>\n",
       "    </tr>\n",
       "    <tr>\n",
       "      <th>23</th>\n",
       "      <td>2 BHK In Independent House  For Sale  In Periy...</td>\n",
       "      <td>Independent House, G.TKrishnan Avenue</td>\n",
       "      <td>1,100</td>\n",
       "      <td>₹57,314</td>\n",
       "      <td>₹1 Crore</td>\n",
       "    </tr>\n",
       "    <tr>\n",
       "      <th>24</th>\n",
       "      <td>2 BHK Flat  For Sale  In Apartment  In Sithala...</td>\n",
       "      <td>Ottiambakkam Main Rd near Sithalapakkam VAO Of...</td>\n",
       "      <td>870</td>\n",
       "      <td>₹22,925</td>\n",
       "      <td>₹40 Lacs</td>\n",
       "    </tr>\n",
       "  </tbody>\n",
       "</table>\n",
       "</div>"
      ],
      "text/plain": [
       "                                         House_ title  \\\n",
       "0   2 BHK Flat  For Sale  In Sai Villa In Sithalap...   \n",
       "1             2 BHK Flat  For Sale  In Sithalapakkam    \n",
       "2   2 BHK Flat  For Sale  In Amudha Delight, Vivek...   \n",
       "3   2 BHK Flat  For Sale  In Malayanoor Foundation...   \n",
       "4             2 BHK Flat  For Sale  In Sithalapakkam    \n",
       "5   3 BHK In Independent House  For Sale  In Sitha...   \n",
       "6   2 BHK Flat  For Sale  In Sai Shridi In Sithala...   \n",
       "7   2 BHK Flat  For Sale  In Kumaran Kutil In Sith...   \n",
       "8   2 BHK Flat  For Sale  In Standalone Apartment ...   \n",
       "9   2 BHK Flat  For Sale  In Jasmine Cort In Sitha...   \n",
       "10  3 BHK Flat  For Sale  In Amudhas Blossom, Vive...   \n",
       "11  3 BHK Flat  For Sale  In Aravind Flats In Sith...   \n",
       "12  3 BHK Flat  For Sale  In Selvamani Associates ...   \n",
       "13  2 BHK Flat  For Sale  In Pavitra Flats In Sith...   \n",
       "14  1 BHK In Independent House  For Sale  In Sitha...   \n",
       "15  4 BHK In Independent House  For Sale  In Sitha...   \n",
       "16  2 BHK Flat  For Sale  In Sai Thiruvenkattam In...   \n",
       "17  1 BHK Flat  For Sale  In Dev Gupta Appartment ...   \n",
       "18  1 BHK Flat  For Sale  In Kavya Builders In Sit...   \n",
       "19  3 BHK In Independent House  For Sale  In Sitha...   \n",
       "20  1 BHK In Independent House  For Sale  In Sitha...   \n",
       "21  3 BHK Flat  For Sale  In Kashwini In Sithalapa...   \n",
       "22  2 BHK Flat  For Sale  In Amudha Nicolas In Sit...   \n",
       "23  2 BHK In Independent House  For Sale  In Periy...   \n",
       "24  2 BHK Flat  For Sale  In Apartment  In Sithala...   \n",
       "\n",
       "                                             Location   Area      EMI  \\\n",
       "0                      second street , venbave avenue    873  ₹22,925   \n",
       "1       Standalone Building, Near Jaya Nagar Bus Stop  1,055  ₹28,657   \n",
       "2                   amudha civil construction pvt ltd    979  ₹28,459   \n",
       "3                      Jayanagar near City Union Bank  1,074  ₹22,925   \n",
       "4   Standalone Building, vivekanadha nagar, Near I...    939  ₹31,522   \n",
       "5   Independent House, TNHB Colony near RV Matricu...  1,135  ₹22,925   \n",
       "6          Ottiambakkam Main Rd, Near City Union Bank    939  ₹25,791   \n",
       "7       Mambakkam Village near Indian Overseas Bank,     890  ₹18,340   \n",
       "8   Plot No16  near Sri Matha Clinic Vinobha Nagar...    661  ₹17,194   \n",
       "9   Vivekananda Nagar Main Rd, Near Lord Ganesh Te...  1,100  ₹22,925   \n",
       "10  Near Jaya nagar bus Stop, Plot no.206, Vivekan...  1,450  ₹37,254   \n",
       "11  Meigai Vinayagar Kovil street ,Sithalapakkam,n...  1,103  ₹28,657   \n",
       "12  Srinivasa Nagar near Sithalapakkam Panchayat O...  1,250  ₹34,388   \n",
       "13  Meigai Vinayagar Kovil St, Near R. V. Matricul...    923  ₹24,072   \n",
       "14  Independent House, Vivekananda Street, Jayanag...    600  ₹18,340   \n",
       "15  Independent House, mangalyan poonga street,Nea...  2,500  ₹63,045   \n",
       "16                                  vivekananda nagar    851  ₹22,925   \n",
       "17  Ambal Nagar, near Sithalapakkam Panchayat Offi...    578  ₹12,609   \n",
       "18  Basil avenue, Kavya apartments, Opposite lane ...    605  ₹13,182   \n",
       "19  Independent House  Independent House, Jothi Ma...  1,840  ₹52,729   \n",
       "20                           sithalapakam ration shop    900  ₹25,791   \n",
       "21  Ottiambakkam Main Rd, Devlaxmi Nagar, near  Ma...  1,850  ₹65,911   \n",
       "22  Valluvar Nagar, Ottiyambakkam Main Road near  ...    856  ₹18,340   \n",
       "23              Independent House, G.TKrishnan Avenue  1,100  ₹57,314   \n",
       "24  Ottiambakkam Main Rd near Sithalapakkam VAO Of...    870  ₹22,925   \n",
       "\n",
       "           Price  \n",
       "0       ₹40 Lacs  \n",
       "1       ₹50 Lacs  \n",
       "2    ₹49.66 Lacs  \n",
       "3       ₹40 Lacs  \n",
       "4       ₹55 Lacs  \n",
       "5       ₹40 Lacs  \n",
       "6       ₹45 Lacs  \n",
       "7       ₹32 Lacs  \n",
       "8       ₹30 Lacs  \n",
       "9       ₹40 Lacs  \n",
       "10      ₹65 Lacs  \n",
       "11      ₹50 Lacs  \n",
       "12      ₹60 Lacs  \n",
       "13      ₹42 Lacs  \n",
       "14      ₹32 Lacs  \n",
       "15   ₹1.1 Crores  \n",
       "16      ₹40 Lacs  \n",
       "17      ₹22 Lacs  \n",
       "18      ₹23 Lacs  \n",
       "19      ₹92 Lacs  \n",
       "20      ₹45 Lacs  \n",
       "21  ₹1.15 Crores  \n",
       "22      ₹32 Lacs  \n",
       "23      ₹1 Crore  \n",
       "24      ₹40 Lacs  "
      ]
     },
     "execution_count": 154,
     "metadata": {},
     "output_type": "execute_result"
    }
   ],
   "source": [
    "Housing"
   ]
  },
  {
   "cell_type": "markdown",
   "id": "ea61e2db",
   "metadata": {},
   "source": [
    "-----"
   ]
  },
  {
   "cell_type": "markdown",
   "id": "ce8ac434",
   "metadata": {},
   "source": [
    "-----"
   ]
  },
  {
   "cell_type": "markdown",
   "id": "e04b4f10",
   "metadata": {},
   "source": [
    "9) Write a python program to scrape mentioned details from dineout.co.in :\n",
    "i) Restaurant name\n",
    "ii) Cuisine\n",
    "iii) Location\n",
    "iv) Ratings\n",
    "v) Image URL"
   ]
  },
  {
   "cell_type": "code",
   "execution_count": 155,
   "id": "1c237d18",
   "metadata": {},
   "outputs": [
    {
     "data": {
      "text/plain": [
       "<Response [200]>"
      ]
     },
     "execution_count": 155,
     "metadata": {},
     "output_type": "execute_result"
    }
   ],
   "source": [
    "page=requests.get(\"https://www.dineout.co.in/delhi-restaurants/buffet-special\")\n",
    "page"
   ]
  },
  {
   "cell_type": "code",
   "execution_count": 156,
   "id": "cec7749c",
   "metadata": {},
   "outputs": [],
   "source": [
    "Dineout=BeautifulSoup(page.content)"
   ]
  },
  {
   "cell_type": "code",
   "execution_count": 157,
   "id": "99d496a1",
   "metadata": {},
   "outputs": [
    {
     "data": {
      "text/plain": [
       "['Castle Barbeque',\n",
       " 'Jungle Jamboree',\n",
       " 'Castle Barbeque',\n",
       " 'Cafe Knosh',\n",
       " 'The Barbeque Company',\n",
       " 'India Grill',\n",
       " 'Delhi Barbeque',\n",
       " 'The Monarch - Bar Be Que Village',\n",
       " 'World Cafe',\n",
       " 'Indian Grill Room',\n",
       " 'Mad 4 Bar B Que',\n",
       " 'Barbeque 29',\n",
       " 'Glasshouse']"
      ]
     },
     "execution_count": 157,
     "metadata": {},
     "output_type": "execute_result"
    }
   ],
   "source": [
    "rest_name=[]\n",
    "for i in Dineout.find_all('a',class_=\"restnt-name ellipsis\"):\n",
    "    rest_name.append(i.text)\n",
    "    \n",
    "rest_name"
   ]
  },
  {
   "cell_type": "code",
   "execution_count": 158,
   "id": "27b381b6",
   "metadata": {},
   "outputs": [
    {
     "data": {
      "text/plain": [
       "[' Chinese, North Indian',\n",
       " ' Barbecue, North Indian, Asian, Italian',\n",
       " ' Chinese, North Indian',\n",
       " ' Multi-Cuisine, North Indian, Italian, Continental, Mediterranean',\n",
       " ' Barbecue, Chinese, Mughlai, North Indian',\n",
       " ' North Indian, Italian, Oriental ',\n",
       " ' Barbecue, North Indian',\n",
       " ' North Indian, Chinese, Fast Food',\n",
       " ' North Indian, Chinese, Continental',\n",
       " ' North Indian, Mughlai, Barbecue',\n",
       " ' North Indian, Mughlai',\n",
       " ' North Indian, Chinese, Barbecue',\n",
       " ' Multi-Cuisine, Asian, European, Italian, North Indian']"
      ]
     },
     "execution_count": 158,
     "metadata": {},
     "output_type": "execute_result"
    }
   ],
   "source": [
    "cuisine=[]\n",
    "\n",
    "for i in Dineout.find_all('span',class_=\"double-line-ellipsis\"):\n",
    "    cuisine.append(i.text.split('|')[1])\n",
    "    \n",
    "cuisine"
   ]
  },
  {
   "cell_type": "code",
   "execution_count": 159,
   "id": "4d218eeb",
   "metadata": {},
   "outputs": [
    {
     "data": {
      "text/plain": [
       "['Connaught Place, Central Delhi',\n",
       " '3CS Mall,Lajpat Nagar - 3, South Delhi',\n",
       " 'Pacific Mall,Tagore Garden, West Delhi',\n",
       " 'The Leela Ambience Convention Hotel,Shahdara, East Delhi',\n",
       " 'Gardens Galleria,Sector 38A, Noida',\n",
       " 'Hilton Garden Inn,Saket, South Delhi',\n",
       " 'Taurus Sarovar Portico,Mahipalpur, South Delhi',\n",
       " 'Indirapuram Habitat Centre,Indirapuram, Ghaziabad',\n",
       " 'Vibe by The Lalit Traveller,Sector 35, Faridabad',\n",
       " 'Suncity Business Tower,Golf Course Road, Gurgaon',\n",
       " 'Sector 29, Faridabad',\n",
       " 'NIT, Faridabad',\n",
       " 'DoubleTree By Hilton Gurugram Baani Square,Sector 50, Gurgaon']"
      ]
     },
     "execution_count": 159,
     "metadata": {},
     "output_type": "execute_result"
    }
   ],
   "source": [
    "location=[]\n",
    "for i in Dineout.find_all('div',class_=\"restnt-loc ellipsis\"):\n",
    "        location.append(i.text)\n",
    "\n",
    "location"
   ]
  },
  {
   "cell_type": "code",
   "execution_count": 160,
   "id": "42dfc59e",
   "metadata": {},
   "outputs": [
    {
     "data": {
      "text/plain": [
       "['3.5',\n",
       " '3.9',\n",
       " '4',\n",
       " '4.3',\n",
       " '4',\n",
       " '3.9',\n",
       " '3.7',\n",
       " '3.9',\n",
       " '4.2',\n",
       " '4.3',\n",
       " '3.7',\n",
       " '4.3',\n",
       " '4.1']"
      ]
     },
     "execution_count": 160,
     "metadata": {},
     "output_type": "execute_result"
    }
   ],
   "source": [
    "ratings=[]\n",
    "for i in Dineout.find_all('div',class_=\"restnt-rating rating-4\"):\n",
    "    ratings.append(i.text)\n",
    "    \n",
    "ratings"
   ]
  },
  {
   "cell_type": "code",
   "execution_count": 161,
   "id": "e9b81a8b",
   "metadata": {},
   "outputs": [
    {
     "data": {
      "text/plain": [
       "['https://im1.dineout.co.in/images/uploads/restaurant/sharpen/8/k/b/p86792-16062953735fbe1f4d3fb7e.jpg?tr=tr:n-medium',\n",
       " 'https://im1.dineout.co.in/images/uploads/restaurant/sharpen/5/a/k/p59633-16046474755fa4fa33c0e92.jpg?tr=tr:n-medium',\n",
       " 'https://im1.dineout.co.in/images/uploads/restaurant/sharpen/3/j/o/p38113-15959192065f1fcb666130c.jpg?tr=tr:n-medium',\n",
       " 'https://im1.dineout.co.in/images/uploads/restaurant/sharpen/4/j/v/p406-163401663361651d79326d0.jpg?tr=tr:n-medium',\n",
       " 'https://im1.dineout.co.in/images/uploads/restaurant/sharpen/7/q/d/p79307-16051787075fad15532bd7c.jpg?tr=tr:n-medium',\n",
       " 'https://im1.dineout.co.in/images/uploads/restaurant/sharpen/2/v/t/p2687-1482477169585cce712b90f.jpg?tr=tr:n-medium',\n",
       " 'https://im1.dineout.co.in/images/uploads/restaurant/sharpen/5/v/f/p52501-16006856545f68865616659.jpg?tr=tr:n-medium',\n",
       " 'https://im1.dineout.co.in/images/uploads/restaurant/sharpen/3/n/o/p34822-15599107305cfa594a13c24.jpg?tr=tr:n-medium',\n",
       " 'https://im1.dineout.co.in/images/uploads/restaurant/sharpen/1/p/y/p12366-1466935020576fa6ecdc359.jpg?tr=tr:n-medium',\n",
       " 'https://im1.dineout.co.in/images/uploads/restaurant/sharpen/5/y/y/p549-15143767525a438e30b3e19.jpg?tr=tr:n-medium',\n",
       " 'https://im1.dineout.co.in/images/uploads/restaurant/sharpen/4/j/e/p43488-15295778165b2b8158ceeef.jpg?tr=tr:n-medium',\n",
       " 'https://im1.dineout.co.in/images/uploads/restaurant/sharpen/5/w/r/p58842-15624171585d209806d9143.jpg?tr=tr:n-medium',\n",
       " 'https://im1.dineout.co.in/images/uploads/restaurant/sharpen/9/m/f/p9875-16057921085fb6716cc44f8.jpg?tr=tr:n-medium']"
      ]
     },
     "execution_count": 161,
     "metadata": {},
     "output_type": "execute_result"
    }
   ],
   "source": [
    "image=[]\n",
    "for i in Dineout.find_all('img',class_=\"no-img\"):\n",
    "    image.append(i['data-src'])\n",
    "    \n",
    "image"
   ]
  },
  {
   "cell_type": "code",
   "execution_count": 162,
   "id": "6691a915",
   "metadata": {},
   "outputs": [
    {
     "data": {
      "text/plain": [
       "(13, 13, 13, 13, 13)"
      ]
     },
     "execution_count": 162,
     "metadata": {},
     "output_type": "execute_result"
    }
   ],
   "source": [
    "len(rest_name),len(cuisine),len(location),len(ratings),len(image)"
   ]
  },
  {
   "cell_type": "code",
   "execution_count": 163,
   "id": "b22bef29",
   "metadata": {},
   "outputs": [],
   "source": [
    "#Making DataFrame\n",
    "Restaurant_Delhi=pd.DataFrame({'Restaurant name':rest_name,\n",
    "                               'Cuisine':cuisine,\n",
    "                               'Location':location,\n",
    "                                'Ratings': ratings,\n",
    "                                'Image URL': image})"
   ]
  },
  {
   "cell_type": "code",
   "execution_count": 164,
   "id": "19bdd113",
   "metadata": {},
   "outputs": [
    {
     "data": {
      "text/html": [
       "<div>\n",
       "<style scoped>\n",
       "    .dataframe tbody tr th:only-of-type {\n",
       "        vertical-align: middle;\n",
       "    }\n",
       "\n",
       "    .dataframe tbody tr th {\n",
       "        vertical-align: top;\n",
       "    }\n",
       "\n",
       "    .dataframe thead th {\n",
       "        text-align: right;\n",
       "    }\n",
       "</style>\n",
       "<table border=\"1\" class=\"dataframe\">\n",
       "  <thead>\n",
       "    <tr style=\"text-align: right;\">\n",
       "      <th></th>\n",
       "      <th>Restaurant name</th>\n",
       "      <th>Cuisine</th>\n",
       "      <th>Location</th>\n",
       "      <th>Ratings</th>\n",
       "      <th>Image URL</th>\n",
       "    </tr>\n",
       "  </thead>\n",
       "  <tbody>\n",
       "    <tr>\n",
       "      <th>0</th>\n",
       "      <td>Castle Barbeque</td>\n",
       "      <td>Chinese, North Indian</td>\n",
       "      <td>Connaught Place, Central Delhi</td>\n",
       "      <td>3.5</td>\n",
       "      <td>https://im1.dineout.co.in/images/uploads/resta...</td>\n",
       "    </tr>\n",
       "    <tr>\n",
       "      <th>1</th>\n",
       "      <td>Jungle Jamboree</td>\n",
       "      <td>Barbecue, North Indian, Asian, Italian</td>\n",
       "      <td>3CS Mall,Lajpat Nagar - 3, South Delhi</td>\n",
       "      <td>3.9</td>\n",
       "      <td>https://im1.dineout.co.in/images/uploads/resta...</td>\n",
       "    </tr>\n",
       "    <tr>\n",
       "      <th>2</th>\n",
       "      <td>Castle Barbeque</td>\n",
       "      <td>Chinese, North Indian</td>\n",
       "      <td>Pacific Mall,Tagore Garden, West Delhi</td>\n",
       "      <td>4</td>\n",
       "      <td>https://im1.dineout.co.in/images/uploads/resta...</td>\n",
       "    </tr>\n",
       "    <tr>\n",
       "      <th>3</th>\n",
       "      <td>Cafe Knosh</td>\n",
       "      <td>Multi-Cuisine, North Indian, Italian, Contine...</td>\n",
       "      <td>The Leela Ambience Convention Hotel,Shahdara, ...</td>\n",
       "      <td>4.3</td>\n",
       "      <td>https://im1.dineout.co.in/images/uploads/resta...</td>\n",
       "    </tr>\n",
       "    <tr>\n",
       "      <th>4</th>\n",
       "      <td>The Barbeque Company</td>\n",
       "      <td>Barbecue, Chinese, Mughlai, North Indian</td>\n",
       "      <td>Gardens Galleria,Sector 38A, Noida</td>\n",
       "      <td>4</td>\n",
       "      <td>https://im1.dineout.co.in/images/uploads/resta...</td>\n",
       "    </tr>\n",
       "  </tbody>\n",
       "</table>\n",
       "</div>"
      ],
      "text/plain": [
       "        Restaurant name                                            Cuisine  \\\n",
       "0       Castle Barbeque                              Chinese, North Indian   \n",
       "1       Jungle Jamboree             Barbecue, North Indian, Asian, Italian   \n",
       "2       Castle Barbeque                              Chinese, North Indian   \n",
       "3            Cafe Knosh   Multi-Cuisine, North Indian, Italian, Contine...   \n",
       "4  The Barbeque Company           Barbecue, Chinese, Mughlai, North Indian   \n",
       "\n",
       "                                            Location Ratings  \\\n",
       "0                     Connaught Place, Central Delhi     3.5   \n",
       "1             3CS Mall,Lajpat Nagar - 3, South Delhi     3.9   \n",
       "2             Pacific Mall,Tagore Garden, West Delhi       4   \n",
       "3  The Leela Ambience Convention Hotel,Shahdara, ...     4.3   \n",
       "4                 Gardens Galleria,Sector 38A, Noida       4   \n",
       "\n",
       "                                           Image URL  \n",
       "0  https://im1.dineout.co.in/images/uploads/resta...  \n",
       "1  https://im1.dineout.co.in/images/uploads/resta...  \n",
       "2  https://im1.dineout.co.in/images/uploads/resta...  \n",
       "3  https://im1.dineout.co.in/images/uploads/resta...  \n",
       "4  https://im1.dineout.co.in/images/uploads/resta...  "
      ]
     },
     "execution_count": 164,
     "metadata": {},
     "output_type": "execute_result"
    }
   ],
   "source": [
    "Restaurant_Delhi.head()"
   ]
  },
  {
   "cell_type": "markdown",
   "id": "5b78f6b5",
   "metadata": {},
   "source": [
    "-----"
   ]
  },
  {
   "cell_type": "markdown",
   "id": "827278e2",
   "metadata": {},
   "source": [
    "-----"
   ]
  },
  {
   "cell_type": "markdown",
   "id": "49675731",
   "metadata": {},
   "source": [
    "10) Write a python program to scrape first 10 product details which include product name , price , Image URL from\n",
    "https://www.bewakoof.com/women-tshirts?ga_q=tshirts ."
   ]
  },
  {
   "cell_type": "code",
   "execution_count": 165,
   "id": "2609d467",
   "metadata": {},
   "outputs": [
    {
     "data": {
      "text/plain": [
       "<Response [200]>"
      ]
     },
     "execution_count": 165,
     "metadata": {},
     "output_type": "execute_result"
    }
   ],
   "source": [
    "page=requests.get('https://www.bewakoof.com/women-tshirts')\n",
    "\n",
    "page"
   ]
  },
  {
   "cell_type": "code",
   "execution_count": 166,
   "id": "f85469e6",
   "metadata": {},
   "outputs": [],
   "source": [
    "Bewakoof=BeautifulSoup(page.content)"
   ]
  },
  {
   "cell_type": "code",
   "execution_count": 167,
   "id": "50d37f92",
   "metadata": {},
   "outputs": [],
   "source": [
    "product_name=[]\n",
    "for i in Bewakoof.find_all('h3',id=\"\"):\n",
    "    product_name.append(i.text)\n",
    "    \n",
    "product_name=product_name   \n"
   ]
  },
  {
   "cell_type": "code",
   "execution_count": 168,
   "id": "c1c86b70",
   "metadata": {},
   "outputs": [
    {
     "data": {
      "text/plain": [
       "['Harley Quinn Half Sleeve T-Shirt Black (BML)',\n",
       " 'Inner Peace Half Sleeve Printed T-Shirt Black',\n",
       " 'Simply Pawfect Half Sleeve T-Shirt (DL) Tropical blue',\n",
       " 'Pakka Local Half Sleeve T-Shirt',\n",
       " 'Butta Bomma Half Sleeve T-Shirt',\n",
       " 'Ooko Bey Half Sleeve T-Shirt',\n",
       " 'Shanti Minimal Half Sleeve T-Shirt',\n",
       " 'Beach Blue Half Sleeve T-Shirt',\n",
       " 'Lal Matir Pothe Half Sleeve T-Shirt',\n",
       " 'Andhokar Half Sleeve T-Shirt']"
      ]
     },
     "execution_count": 168,
     "metadata": {},
     "output_type": "execute_result"
    }
   ],
   "source": [
    "product_name=product_name[ :10]\n",
    "product_name"
   ]
  },
  {
   "cell_type": "code",
   "execution_count": 170,
   "id": "55b0a395",
   "metadata": {},
   "outputs": [
    {
     "data": {
      "text/plain": [
       "[' 199',\n",
       " ' 249',\n",
       " ' 199',\n",
       " ' 249',\n",
       " ' 249',\n",
       " ' 199',\n",
       " ' 199',\n",
       " ' 249',\n",
       " ' 199',\n",
       " ' 199']"
      ]
     },
     "execution_count": 170,
     "metadata": {},
     "output_type": "execute_result"
    }
   ],
   "source": [
    "price=[]\n",
    "for i in Bewakoof.find_all('div',class_=\"productPriceBox clearfix\"):\n",
    "    price.append(i.text[0:5].strip(\"₹\"))\n",
    "    \n",
    "price\n"
   ]
  },
  {
   "cell_type": "code",
   "execution_count": 171,
   "id": "1e8c053f",
   "metadata": {},
   "outputs": [
    {
     "data": {
      "text/plain": [
       "['https://images.bewakoof.com/t320/harley-quinn-half-sleeve-t-shirts-bml-women-s-half-sleeve-printed-t-shirt-295570-1604725441.jpg',\n",
       " 'https://images.bewakoof.com/t320/inner-peace-half-sleeve-printed-t-shirts-black-women-s-half-sleeve-printed-t-shirt-295708-1604135493.jpg',\n",
       " 'https://images.bewakoof.com/t320/simply-pawfect-half-sleeve-t-shirt-dl-tropical-blue-women-s-half-sleeve-printed-t-shirt-295812-1604292711.jpg',\n",
       " 'https://images.bewakoof.com/t320/pakka-local-half-sleeve-t-shirt-women-s-half-sleeve-printed-t-shirt-300903-1608011170.jpg',\n",
       " 'https://images.bewakoof.com/t320/butta-bomma-half-sleeve-t-shirt-women-s-half-sleeve-printed-t-shirt-300922-1608009783.jpg',\n",
       " 'https://images.bewakoof.com/t320/ooko-bey-half-sleeve-t-shirt-women-s-half-sleeve-printed-t-shirt-300923-1608119657.jpg',\n",
       " 'https://images.bewakoof.com/t320/shanti-minimal-half-sleeve-t-shirt-women-s-half-sleeve-printed-t-shirt-300902-1608011281.jpg',\n",
       " 'https://images.bewakoof.com/t320/aqua-sky-half-sleeve-t-shirt-women-s-plain-half-sleeves-t-shirt-329413-1614350444.jpg',\n",
       " 'https://images.bewakoof.com/t320/lal-matir-pothe-half-sleeve-t-shirt-women-s-half-sleeve-printed-t-shirt-329665-1614079154.jpg',\n",
       " 'https://images.bewakoof.com/t320/andhokar-half-sleeve-t-shirt-women-s-half-sleeve-printed-t-shirt-329628-1614076846.jpg']"
      ]
     },
     "execution_count": 171,
     "metadata": {},
     "output_type": "execute_result"
    }
   ],
   "source": [
    "images=[]\n",
    "for i in Bewakoof.find_all('img',class_=\"productImgTag\" ):\n",
    "    images.append(i['src'])\n",
    "    \n",
    "images"
   ]
  },
  {
   "cell_type": "code",
   "execution_count": 172,
   "id": "f2d86b8b",
   "metadata": {},
   "outputs": [
    {
     "data": {
      "text/plain": [
       "(10, 10, 10)"
      ]
     },
     "execution_count": 172,
     "metadata": {},
     "output_type": "execute_result"
    }
   ],
   "source": [
    "len(product_name),len(price),len(images)"
   ]
  },
  {
   "cell_type": "code",
   "execution_count": 173,
   "id": "4a661603",
   "metadata": {},
   "outputs": [],
   "source": [
    "#Making DataFrame\n",
    "Bewakoof=pd.DataFrame({'Product name': product_name,\n",
    "                        'Price': price,\n",
    "                        'Images':images\n",
    "                      })"
   ]
  },
  {
   "cell_type": "code",
   "execution_count": 174,
   "id": "a7672148",
   "metadata": {},
   "outputs": [
    {
     "data": {
      "text/html": [
       "<div>\n",
       "<style scoped>\n",
       "    .dataframe tbody tr th:only-of-type {\n",
       "        vertical-align: middle;\n",
       "    }\n",
       "\n",
       "    .dataframe tbody tr th {\n",
       "        vertical-align: top;\n",
       "    }\n",
       "\n",
       "    .dataframe thead th {\n",
       "        text-align: right;\n",
       "    }\n",
       "</style>\n",
       "<table border=\"1\" class=\"dataframe\">\n",
       "  <thead>\n",
       "    <tr style=\"text-align: right;\">\n",
       "      <th></th>\n",
       "      <th>Product name</th>\n",
       "      <th>Price</th>\n",
       "      <th>Images</th>\n",
       "    </tr>\n",
       "  </thead>\n",
       "  <tbody>\n",
       "    <tr>\n",
       "      <th>0</th>\n",
       "      <td>Harley Quinn Half Sleeve T-Shirt Black (BML)</td>\n",
       "      <td>199</td>\n",
       "      <td>https://images.bewakoof.com/t320/harley-quinn-...</td>\n",
       "    </tr>\n",
       "    <tr>\n",
       "      <th>1</th>\n",
       "      <td>Inner Peace Half Sleeve Printed T-Shirt Black</td>\n",
       "      <td>249</td>\n",
       "      <td>https://images.bewakoof.com/t320/inner-peace-h...</td>\n",
       "    </tr>\n",
       "    <tr>\n",
       "      <th>2</th>\n",
       "      <td>Simply Pawfect Half Sleeve T-Shirt (DL) Tropic...</td>\n",
       "      <td>199</td>\n",
       "      <td>https://images.bewakoof.com/t320/simply-pawfec...</td>\n",
       "    </tr>\n",
       "    <tr>\n",
       "      <th>3</th>\n",
       "      <td>Pakka Local Half Sleeve T-Shirt</td>\n",
       "      <td>249</td>\n",
       "      <td>https://images.bewakoof.com/t320/pakka-local-h...</td>\n",
       "    </tr>\n",
       "    <tr>\n",
       "      <th>4</th>\n",
       "      <td>Butta Bomma Half Sleeve T-Shirt</td>\n",
       "      <td>249</td>\n",
       "      <td>https://images.bewakoof.com/t320/butta-bomma-h...</td>\n",
       "    </tr>\n",
       "    <tr>\n",
       "      <th>5</th>\n",
       "      <td>Ooko Bey Half Sleeve T-Shirt</td>\n",
       "      <td>199</td>\n",
       "      <td>https://images.bewakoof.com/t320/ooko-bey-half...</td>\n",
       "    </tr>\n",
       "    <tr>\n",
       "      <th>6</th>\n",
       "      <td>Shanti Minimal Half Sleeve T-Shirt</td>\n",
       "      <td>199</td>\n",
       "      <td>https://images.bewakoof.com/t320/shanti-minima...</td>\n",
       "    </tr>\n",
       "    <tr>\n",
       "      <th>7</th>\n",
       "      <td>Beach Blue Half Sleeve T-Shirt</td>\n",
       "      <td>249</td>\n",
       "      <td>https://images.bewakoof.com/t320/aqua-sky-half...</td>\n",
       "    </tr>\n",
       "    <tr>\n",
       "      <th>8</th>\n",
       "      <td>Lal Matir Pothe Half Sleeve T-Shirt</td>\n",
       "      <td>199</td>\n",
       "      <td>https://images.bewakoof.com/t320/lal-matir-pot...</td>\n",
       "    </tr>\n",
       "    <tr>\n",
       "      <th>9</th>\n",
       "      <td>Andhokar Half Sleeve T-Shirt</td>\n",
       "      <td>199</td>\n",
       "      <td>https://images.bewakoof.com/t320/andhokar-half...</td>\n",
       "    </tr>\n",
       "  </tbody>\n",
       "</table>\n",
       "</div>"
      ],
      "text/plain": [
       "                                        Product name Price  \\\n",
       "0       Harley Quinn Half Sleeve T-Shirt Black (BML)   199   \n",
       "1      Inner Peace Half Sleeve Printed T-Shirt Black   249   \n",
       "2  Simply Pawfect Half Sleeve T-Shirt (DL) Tropic...   199   \n",
       "3                    Pakka Local Half Sleeve T-Shirt   249   \n",
       "4                    Butta Bomma Half Sleeve T-Shirt   249   \n",
       "5                       Ooko Bey Half Sleeve T-Shirt   199   \n",
       "6                 Shanti Minimal Half Sleeve T-Shirt   199   \n",
       "7                     Beach Blue Half Sleeve T-Shirt   249   \n",
       "8                Lal Matir Pothe Half Sleeve T-Shirt   199   \n",
       "9                       Andhokar Half Sleeve T-Shirt   199   \n",
       "\n",
       "                                              Images  \n",
       "0  https://images.bewakoof.com/t320/harley-quinn-...  \n",
       "1  https://images.bewakoof.com/t320/inner-peace-h...  \n",
       "2  https://images.bewakoof.com/t320/simply-pawfec...  \n",
       "3  https://images.bewakoof.com/t320/pakka-local-h...  \n",
       "4  https://images.bewakoof.com/t320/butta-bomma-h...  \n",
       "5  https://images.bewakoof.com/t320/ooko-bey-half...  \n",
       "6  https://images.bewakoof.com/t320/shanti-minima...  \n",
       "7  https://images.bewakoof.com/t320/aqua-sky-half...  \n",
       "8  https://images.bewakoof.com/t320/lal-matir-pot...  \n",
       "9  https://images.bewakoof.com/t320/andhokar-half...  "
      ]
     },
     "execution_count": 174,
     "metadata": {},
     "output_type": "execute_result"
    }
   ],
   "source": [
    "Bewakoof"
   ]
  },
  {
   "cell_type": "markdown",
   "id": "43ae0191",
   "metadata": {},
   "source": [
    "-----"
   ]
  },
  {
   "cell_type": "markdown",
   "id": "e671c38f",
   "metadata": {},
   "source": [
    "----- "
   ]
  }
 ],
 "metadata": {
  "kernelspec": {
   "display_name": "Python 3",
   "language": "python",
   "name": "python3"
  },
  "language_info": {
   "codemirror_mode": {
    "name": "ipython",
    "version": 3
   },
   "file_extension": ".py",
   "mimetype": "text/x-python",
   "name": "python",
   "nbconvert_exporter": "python",
   "pygments_lexer": "ipython3",
   "version": "3.8.8"
  }
 },
 "nbformat": 4,
 "nbformat_minor": 5
}
