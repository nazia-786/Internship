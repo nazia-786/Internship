{
 "cells": [
  {
   "cell_type": "code",
   "execution_count": 1,
   "id": "5420af56",
   "metadata": {},
   "outputs": [],
   "source": [
    "import pandas as pd"
   ]
  },
  {
   "cell_type": "code",
   "execution_count": 2,
   "id": "6d0082d8",
   "metadata": {},
   "outputs": [],
   "source": [
    "# 11. Write a python program to find the factorial of a number"
   ]
  },
  {
   "cell_type": "code",
   "execution_count": 2,
   "id": "dc6c5a57",
   "metadata": {},
   "outputs": [
    {
     "name": "stdout",
     "output_type": "stream",
     "text": [
      "Enter the number  6\n"
     ]
    }
   ],
   "source": [
    "n=int(input(\"Enter the number  \"))"
   ]
  },
  {
   "cell_type": "code",
   "execution_count": 3,
   "id": "9913f999",
   "metadata": {
    "scrolled": true
   },
   "outputs": [
    {
     "name": "stdout",
     "output_type": "stream",
     "text": [
      "factorial of 6 is 720\n"
     ]
    }
   ],
   "source": [
    "def fact(n):\n",
    "    if (n==1 or n==0):\n",
    "        return 1\n",
    "    else:\n",
    "        return n*fact(n-1)\n",
    "result=fact(n)        \n",
    "print('factorial of',n,'is',result)"
   ]
  },
  {
   "cell_type": "code",
   "execution_count": 7,
   "id": "1a06bd89",
   "metadata": {},
   "outputs": [],
   "source": [
    "#12.Write a python program to find whether a number is prime or composite."
   ]
  },
  {
   "cell_type": "code",
   "execution_count": 6,
   "id": "8c9ab6f0",
   "metadata": {},
   "outputs": [
    {
     "name": "stdout",
     "output_type": "stream",
     "text": [
      "Enter a number 3\n"
     ]
    }
   ],
   "source": [
    "num=int(input(\"Enter a number \"))"
   ]
  },
  {
   "cell_type": "code",
   "execution_count": 7,
   "id": "654d227e",
   "metadata": {},
   "outputs": [
    {
     "name": "stdout",
     "output_type": "stream",
     "text": [
      "no is a prime no\n"
     ]
    }
   ],
   "source": [
    "if num>1:\n",
    "    for i in range(2,num):\n",
    "        if (num%i)==0:\n",
    "            print('No is a composite no')\n",
    "            break\n",
    "        else:\n",
    "            print(\"no is a prime no\")\n",
    "else:\n",
    "    print(\"no is not a prime no\")\n",
    "    "
   ]
  },
  {
   "cell_type": "code",
   "execution_count": null,
   "id": "490669c3",
   "metadata": {},
   "outputs": [],
   "source": [
    "#13.Write a python program to check whether a given string is palindrome or not"
   ]
  },
  {
   "cell_type": "code",
   "execution_count": 8,
   "id": "f71bb872",
   "metadata": {},
   "outputs": [
    {
     "name": "stdout",
     "output_type": "stream",
     "text": [
      "Enter the string    madam\n"
     ]
    }
   ],
   "source": [
    "actual=(input(\"Enter the string    \"))"
   ]
  },
  {
   "cell_type": "code",
   "execution_count": 9,
   "id": "c82c6d3c",
   "metadata": {},
   "outputs": [
    {
     "name": "stdout",
     "output_type": "stream",
     "text": [
      "Reverse is madam\n",
      "String is palindrome\n"
     ]
    }
   ],
   "source": [
    "reverse=actual[ : :-1]\n",
    "print('Reverse is',reverse)\n",
    "if actual==reverse:\n",
    "    print('String is palindrome')\n",
    "else:\n",
    "    print('String is not palindrome')\n",
    "    \n",
    "    "
   ]
  },
  {
   "cell_type": "code",
   "execution_count": 10,
   "id": "0a91e076",
   "metadata": {},
   "outputs": [],
   "source": [
    "#14.Write a Python program to get the third side of right-angled triangle from two given sides."
   ]
  },
  {
   "cell_type": "code",
   "execution_count": 11,
   "id": "d117555a",
   "metadata": {},
   "outputs": [],
   "source": [
    "from math import sqrt"
   ]
  },
  {
   "cell_type": "code",
   "execution_count": 12,
   "id": "22ffc6f2",
   "metadata": {},
   "outputs": [
    {
     "name": "stdout",
     "output_type": "stream",
     "text": [
      "a:   4\n",
      "b:   3\n"
     ]
    }
   ],
   "source": [
    "a=float(input('a:   '))\n",
    "b=float(input('b:   '))"
   ]
  },
  {
   "cell_type": "code",
   "execution_count": 13,
   "id": "057f1236",
   "metadata": {},
   "outputs": [
    {
     "name": "stdout",
     "output_type": "stream",
     "text": [
      "Third side of right-angled traingle is :  5.0\n"
     ]
    }
   ],
   "source": [
    "c=sqrt(a**2+b**2)\n",
    "print(\"Third side of right-angled traingle is : \", c)"
   ]
  },
  {
   "cell_type": "code",
   "execution_count": null,
   "id": "050b7b3b",
   "metadata": {},
   "outputs": [],
   "source": [
    "#15. Write a python program to print the frequency of each of the characters present in a given string"
   ]
  },
  {
   "cell_type": "code",
   "execution_count": 14,
   "id": "4e5c399a",
   "metadata": {},
   "outputs": [
    {
     "name": "stdout",
     "output_type": "stream",
     "text": [
      "Enter the string :  sonia\n"
     ]
    }
   ],
   "source": [
    "str=input(\"Enter the string :  \")\n",
    "d=dict()"
   ]
  },
  {
   "cell_type": "code",
   "execution_count": 15,
   "id": "afc50cf3",
   "metadata": {},
   "outputs": [
    {
     "name": "stdout",
     "output_type": "stream",
     "text": [
      "{'s': 1, 'o': 1, 'n': 1, 'i': 1, 'a': 1}\n"
     ]
    }
   ],
   "source": [
    "for c in str:\n",
    "    if c in d:\n",
    "        d[c]=d[c]+1\n",
    "    else:\n",
    "        d[c]=1\n",
    "print(d)"
   ]
  },
  {
   "cell_type": "code",
   "execution_count": null,
   "id": "cefffcce",
   "metadata": {},
   "outputs": [],
   "source": []
  }
 ],
 "metadata": {
  "kernelspec": {
   "display_name": "Python 3",
   "language": "python",
   "name": "python3"
  },
  "language_info": {
   "codemirror_mode": {
    "name": "ipython",
    "version": 3
   },
   "file_extension": ".py",
   "mimetype": "text/x-python",
   "name": "python",
   "nbconvert_exporter": "python",
   "pygments_lexer": "ipython3",
   "version": "3.8.8"
  }
 },
 "nbformat": 4,
 "nbformat_minor": 5
}
